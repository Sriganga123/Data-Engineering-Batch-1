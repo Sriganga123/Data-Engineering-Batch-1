{
 "cells": [
  {
   "cell_type": "code",
   "execution_count": 1,
   "id": "d18fd368",
   "metadata": {},
   "outputs": [],
   "source": [
    "import pyspark\n",
    "import findspark\n",
    "findspark.init()"
   ]
  },
  {
   "cell_type": "code",
   "execution_count": 2,
   "id": "1aab11d0",
   "metadata": {},
   "outputs": [
    {
     "data": {
      "text/html": [
       "\n",
       "            <div>\n",
       "                <p><b>SparkSession - in-memory</b></p>\n",
       "                \n",
       "        <div>\n",
       "            <p><b>SparkContext</b></p>\n",
       "\n",
       "            <p><a href=\"http://DESKTOP-HPGQI4S:4040\">Spark UI</a></p>\n",
       "\n",
       "            <dl>\n",
       "              <dt>Version</dt>\n",
       "                <dd><code>v3.5.0</code></dd>\n",
       "              <dt>Master</dt>\n",
       "                <dd><code>local[*]</code></dd>\n",
       "              <dt>AppName</dt>\n",
       "                <dd><code>Renaming data in Pandas df</code></dd>\n",
       "            </dl>\n",
       "        </div>\n",
       "        \n",
       "            </div>\n",
       "        "
      ],
      "text/plain": [
       "<pyspark.sql.session.SparkSession at 0x15d654ee7d0>"
      ]
     },
     "execution_count": 2,
     "metadata": {},
     "output_type": "execute_result"
    }
   ],
   "source": [
    "from pyspark.sql import SparkSession\n",
    "from pyspark import SparkContext\n",
    "spark=SparkSession.builder.appName('Renaming data in Pandas df').getOrCreate()\n",
    "spark"
   ]
  },
  {
   "cell_type": "code",
   "execution_count": 3,
   "id": "f6e13fda",
   "metadata": {},
   "outputs": [],
   "source": [
    "sc=SparkContext.getOrCreate()\n",
    "data=[['Raj','Ravi','Sona'],['Mona','Ram',\"Chinnu\"],['Bannu','Vinith','Lucky']]"
   ]
  },
  {
   "cell_type": "code",
   "execution_count": 4,
   "id": "6b3257b2",
   "metadata": {},
   "outputs": [],
   "source": [
    "rdd=sc.parallelize(data)"
   ]
  },
  {
   "cell_type": "code",
   "execution_count": 5,
   "id": "4913b587",
   "metadata": {},
   "outputs": [
    {
     "data": {
      "text/plain": [
       "[['Raj', 'Ravi', 'Sona'],\n",
       " ['Mona', 'Ram', 'Chinnu'],\n",
       " ['Bannu', 'Vinith', 'Lucky']]"
      ]
     },
     "execution_count": 5,
     "metadata": {},
     "output_type": "execute_result"
    }
   ],
   "source": [
    "rdd.collect()"
   ]
  },
  {
   "cell_type": "code",
   "execution_count": 6,
   "id": "c47395f3",
   "metadata": {},
   "outputs": [],
   "source": [
    "columns=['CSE','ECE','EEE']\n",
    "df=spark.createDataFrame(rdd,schema=columns)"
   ]
  },
  {
   "cell_type": "code",
   "execution_count": 7,
   "id": "27dddef2",
   "metadata": {},
   "outputs": [
    {
     "data": {
      "text/plain": [
       "DataFrame[CSE: string, ECE: string, EEE: string]"
      ]
     },
     "execution_count": 7,
     "metadata": {},
     "output_type": "execute_result"
    }
   ],
   "source": [
    "df"
   ]
  },
  {
   "cell_type": "code",
   "execution_count": 8,
   "id": "47507591",
   "metadata": {},
   "outputs": [
    {
     "name": "stdout",
     "output_type": "stream",
     "text": [
      "+-----+------+------+\n",
      "|  CSE|   ECE|   EEE|\n",
      "+-----+------+------+\n",
      "|  Raj|  Ravi|  Sona|\n",
      "| Mona|   Ram|Chinnu|\n",
      "|Bannu|Vinith| Lucky|\n",
      "+-----+------+------+\n",
      "\n"
     ]
    }
   ],
   "source": [
    "df.show()"
   ]
  },
  {
   "cell_type": "code",
   "execution_count": 21,
   "id": "30989596",
   "metadata": {},
   "outputs": [
    {
     "name": "stdout",
     "output_type": "stream",
     "text": [
      "<class 'pyspark.sql.dataframe.DataFrame'>\n"
     ]
    }
   ],
   "source": [
    "print(type(df))"
   ]
  },
  {
   "cell_type": "code",
   "execution_count": 33,
   "id": "77cea47c",
   "metadata": {},
   "outputs": [
    {
     "name": "stdout",
     "output_type": "stream",
     "text": [
      "+----------------+------+------+\n",
      "|Computer Science|   ECE|   EEE|\n",
      "+----------------+------+------+\n",
      "|             Raj|  Ravi|  Sona|\n",
      "|            Mona|   Ram|Chinnu|\n",
      "|           Bannu|Vinith| Lucky|\n",
      "+----------------+------+------+\n",
      "\n"
     ]
    }
   ],
   "source": [
    "# Renaming columns\n",
    "# 1) withColumnRenamed()\n",
    "df.withColumnRenamed('CSE','Computer Science').show()"
   ]
  },
  {
   "cell_type": "code",
   "execution_count": 34,
   "id": "4b1ae367",
   "metadata": {},
   "outputs": [
    {
     "name": "stdout",
     "output_type": "stream",
     "text": [
      "+-----+------+------+\n",
      "|   CS|   ECE|    EE|\n",
      "+-----+------+------+\n",
      "|  Raj|  Ravi|  Sona|\n",
      "| Mona|   Ram|Chinnu|\n",
      "|Bannu|Vinith| Lucky|\n",
      "+-----+------+------+\n",
      "\n"
     ]
    }
   ],
   "source": [
    "# renaming multiple columns\n",
    "df.withColumnRenamed('CSE','CS').withColumnRenamed('EEE','EE').show()"
   ]
  },
  {
   "cell_type": "code",
   "execution_count": 36,
   "id": "db421bd6",
   "metadata": {},
   "outputs": [
    {
     "name": "stdout",
     "output_type": "stream",
     "text": [
      "+-----+---------------------------+------+\n",
      "|  CSE|ElectronicsandCommunication|   EEE|\n",
      "+-----+---------------------------+------+\n",
      "|  Raj|                       Ravi|  Sona|\n",
      "| Mona|                        Ram|Chinnu|\n",
      "|Bannu|                     Vinith| Lucky|\n",
      "+-----+---------------------------+------+\n",
      "\n"
     ]
    }
   ],
   "source": [
    "# 2) selectExpr(exp)\n",
    "df.selectExpr('CSE','ECE as ElectronicsandCommunication',\"EEE\").show()"
   ]
  },
  {
   "cell_type": "code",
   "execution_count": 37,
   "id": "1675b89f",
   "metadata": {},
   "outputs": [
    {
     "name": "stdout",
     "output_type": "stream",
     "text": [
      "+----------------+------+------+\n",
      "|Computer Science|   ECE|   EEE|\n",
      "+----------------+------+------+\n",
      "|             Raj|  Ravi|  Sona|\n",
      "|            Mona|   Ram|Chinnu|\n",
      "|           Bannu|Vinith| Lucky|\n",
      "+----------------+------+------+\n",
      "\n"
     ]
    }
   ],
   "source": [
    "# 3) select(col)\n",
    "from pyspark.sql.functions import col\n",
    "df.select(col('CSE').alias(\"Computer Science\"),col('ECE'),col('EEE')).show()\n"
   ]
  },
  {
   "cell_type": "code",
   "execution_count": 38,
   "id": "6913b4e3",
   "metadata": {},
   "outputs": [
    {
     "name": "stdout",
     "output_type": "stream",
     "text": [
      "+----------------+------+----------+\n",
      "|Computer Science|   ECE|Electrical|\n",
      "+----------------+------+----------+\n",
      "|             Raj|  Ravi|      Sona|\n",
      "|            Mona|   Ram|    Chinnu|\n",
      "|           Bannu|Vinith|     Lucky|\n",
      "+----------------+------+----------+\n",
      "\n"
     ]
    }
   ],
   "source": [
    "# 4) toDF(*columns)\n",
    "li=['Computer Science','ECE','Electrical']\n",
    "df.toDF(*li).show()"
   ]
  },
  {
   "cell_type": "code",
   "execution_count": 22,
   "id": "cd806e8d",
   "metadata": {},
   "outputs": [],
   "source": [
    "# Converting into pandas dataframe\n",
    "df1=df.toPandas()"
   ]
  },
  {
   "cell_type": "code",
   "execution_count": 25,
   "id": "f804865b",
   "metadata": {},
   "outputs": [
    {
     "name": "stdout",
     "output_type": "stream",
     "text": [
      "<class 'pandas.core.frame.DataFrame'>\n"
     ]
    },
    {
     "data": {
      "text/html": [
       "<div>\n",
       "<style scoped>\n",
       "    .dataframe tbody tr th:only-of-type {\n",
       "        vertical-align: middle;\n",
       "    }\n",
       "\n",
       "    .dataframe tbody tr th {\n",
       "        vertical-align: top;\n",
       "    }\n",
       "\n",
       "    .dataframe thead th {\n",
       "        text-align: right;\n",
       "    }\n",
       "</style>\n",
       "<table border=\"1\" class=\"dataframe\">\n",
       "  <thead>\n",
       "    <tr style=\"text-align: right;\">\n",
       "      <th></th>\n",
       "      <th>CSE</th>\n",
       "      <th>ECE</th>\n",
       "      <th>EEE</th>\n",
       "    </tr>\n",
       "  </thead>\n",
       "  <tbody>\n",
       "    <tr>\n",
       "      <th>0</th>\n",
       "      <td>Raj</td>\n",
       "      <td>Ravi</td>\n",
       "      <td>Sona</td>\n",
       "    </tr>\n",
       "    <tr>\n",
       "      <th>1</th>\n",
       "      <td>Mona</td>\n",
       "      <td>Ram</td>\n",
       "      <td>Chinnu</td>\n",
       "    </tr>\n",
       "    <tr>\n",
       "      <th>2</th>\n",
       "      <td>Bannu</td>\n",
       "      <td>Vinith</td>\n",
       "      <td>Lucky</td>\n",
       "    </tr>\n",
       "  </tbody>\n",
       "</table>\n",
       "</div>"
      ],
      "text/plain": [
       "     CSE     ECE     EEE\n",
       "0    Raj    Ravi    Sona\n",
       "1   Mona     Ram  Chinnu\n",
       "2  Bannu  Vinith   Lucky"
      ]
     },
     "execution_count": 25,
     "metadata": {},
     "output_type": "execute_result"
    }
   ],
   "source": [
    "\n",
    "print(type(df1))\n",
    "df1"
   ]
  },
  {
   "cell_type": "code",
   "execution_count": 30,
   "id": "d6b54693",
   "metadata": {},
   "outputs": [
    {
     "data": {
      "text/html": [
       "<div>\n",
       "<style scoped>\n",
       "    .dataframe tbody tr th:only-of-type {\n",
       "        vertical-align: middle;\n",
       "    }\n",
       "\n",
       "    .dataframe tbody tr th {\n",
       "        vertical-align: top;\n",
       "    }\n",
       "\n",
       "    .dataframe thead th {\n",
       "        text-align: right;\n",
       "    }\n",
       "</style>\n",
       "<table border=\"1\" class=\"dataframe\">\n",
       "  <thead>\n",
       "    <tr style=\"text-align: right;\">\n",
       "      <th></th>\n",
       "      <th>MECH</th>\n",
       "      <th>ECE</th>\n",
       "      <th>EEE</th>\n",
       "    </tr>\n",
       "  </thead>\n",
       "  <tbody>\n",
       "    <tr>\n",
       "      <th>0</th>\n",
       "      <td>Raj</td>\n",
       "      <td>Ravi</td>\n",
       "      <td>Sona</td>\n",
       "    </tr>\n",
       "    <tr>\n",
       "      <th>1</th>\n",
       "      <td>Mona</td>\n",
       "      <td>Ram</td>\n",
       "      <td>Chinnu</td>\n",
       "    </tr>\n",
       "    <tr>\n",
       "      <th>2</th>\n",
       "      <td>Bannu</td>\n",
       "      <td>Vinith</td>\n",
       "      <td>Lucky</td>\n",
       "    </tr>\n",
       "  </tbody>\n",
       "</table>\n",
       "</div>"
      ],
      "text/plain": [
       "    MECH     ECE     EEE\n",
       "0    Raj    Ravi    Sona\n",
       "1   Mona     Ram  Chinnu\n",
       "2  Bannu  Vinith   Lucky"
      ]
     },
     "execution_count": 30,
     "metadata": {},
     "output_type": "execute_result"
    }
   ],
   "source": [
    "# Renaming column names in Pandas \n",
    "# 1) using rename\n",
    "df1.rename(columns={'CSE':'MECH'},inplace=True)\n",
    "df1"
   ]
  },
  {
   "cell_type": "code",
   "execution_count": 31,
   "id": "beb15d06",
   "metadata": {},
   "outputs": [
    {
     "data": {
      "text/html": [
       "<div>\n",
       "<style scoped>\n",
       "    .dataframe tbody tr th:only-of-type {\n",
       "        vertical-align: middle;\n",
       "    }\n",
       "\n",
       "    .dataframe tbody tr th {\n",
       "        vertical-align: top;\n",
       "    }\n",
       "\n",
       "    .dataframe thead th {\n",
       "        text-align: right;\n",
       "    }\n",
       "</style>\n",
       "<table border=\"1\" class=\"dataframe\">\n",
       "  <thead>\n",
       "    <tr style=\"text-align: right;\">\n",
       "      <th></th>\n",
       "      <th>Computer Science</th>\n",
       "      <th>ECE</th>\n",
       "      <th>Electrical</th>\n",
       "    </tr>\n",
       "  </thead>\n",
       "  <tbody>\n",
       "    <tr>\n",
       "      <th>0</th>\n",
       "      <td>Raj</td>\n",
       "      <td>Ravi</td>\n",
       "      <td>Sona</td>\n",
       "    </tr>\n",
       "    <tr>\n",
       "      <th>1</th>\n",
       "      <td>Mona</td>\n",
       "      <td>Ram</td>\n",
       "      <td>Chinnu</td>\n",
       "    </tr>\n",
       "    <tr>\n",
       "      <th>2</th>\n",
       "      <td>Bannu</td>\n",
       "      <td>Vinith</td>\n",
       "      <td>Lucky</td>\n",
       "    </tr>\n",
       "  </tbody>\n",
       "</table>\n",
       "</div>"
      ],
      "text/plain": [
       "  Computer Science     ECE Electrical\n",
       "0              Raj    Ravi       Sona\n",
       "1             Mona     Ram     Chinnu\n",
       "2            Bannu  Vinith      Lucky"
      ]
     },
     "execution_count": 31,
     "metadata": {},
     "output_type": "execute_result"
    }
   ],
   "source": [
    "# 2) using columns\n",
    "df1.columns=['Computer Science','ECE','Electrical']\n",
    "df1"
   ]
  },
  {
   "cell_type": "code",
   "execution_count": 43,
   "id": "297b775b",
   "metadata": {},
   "outputs": [
    {
     "name": "stdout",
     "output_type": "stream",
     "text": [
      "+-----+------+------+\n",
      "|  CSE|   ECE|   EEE|\n",
      "+-----+------+------+\n",
      "|  Raj|  Ravi|  Sona|\n",
      "| Mona|   Ram|Chinnu|\n",
      "|Bannu|Vinith| Lucky|\n",
      "+-----+------+------+\n",
      "\n"
     ]
    }
   ],
   "source": [
    "#### Select\n",
    "\n",
    "# select all columns\n",
    "df.select('*').show()"
   ]
  },
  {
   "cell_type": "code",
   "execution_count": 48,
   "id": "e6aaa651",
   "metadata": {},
   "outputs": [
    {
     "name": "stdout",
     "output_type": "stream",
     "text": [
      "+-----+------+------+\n",
      "|  CSE|   ECE|   EEE|\n",
      "+-----+------+------+\n",
      "|  Raj|  Ravi|  Sona|\n",
      "| Mona|   Ram|Chinnu|\n",
      "|Bannu|Vinith| Lucky|\n",
      "+-----+------+------+\n",
      "\n"
     ]
    }
   ],
   "source": [
    "df.select(*columns).show()"
   ]
  },
  {
   "cell_type": "code",
   "execution_count": 44,
   "id": "cc6d76bc",
   "metadata": {},
   "outputs": [
    {
     "name": "stdout",
     "output_type": "stream",
     "text": [
      "+-----+------+\n",
      "|  CSE|   EEE|\n",
      "+-----+------+\n",
      "|  Raj|  Sona|\n",
      "| Mona|Chinnu|\n",
      "|Bannu| Lucky|\n",
      "+-----+------+\n",
      "\n"
     ]
    }
   ],
   "source": [
    "# select CSE and EEE columns\n",
    "df.select('CSE','EEE').show()"
   ]
  },
  {
   "cell_type": "code",
   "execution_count": 46,
   "id": "f3981214",
   "metadata": {},
   "outputs": [
    {
     "name": "stdout",
     "output_type": "stream",
     "text": [
      "+-----+------+\n",
      "|  CSE|   EEE|\n",
      "+-----+------+\n",
      "|  Raj|  Sona|\n",
      "| Mona|Chinnu|\n",
      "|Bannu| Lucky|\n",
      "+-----+------+\n",
      "\n"
     ]
    }
   ],
   "source": [
    "# using select and df\n",
    "df.select(df.CSE,df.EEE).show()"
   ]
  },
  {
   "cell_type": "code",
   "execution_count": 47,
   "id": "8429b6f7",
   "metadata": {},
   "outputs": [
    {
     "name": "stdout",
     "output_type": "stream",
     "text": [
      "+-----+------+\n",
      "|  CSE|   EEE|\n",
      "+-----+------+\n",
      "|  Raj|  Sona|\n",
      "| Mona|Chinnu|\n",
      "|Bannu| Lucky|\n",
      "+-----+------+\n",
      "\n"
     ]
    }
   ],
   "source": [
    "df.select(df['CSE'],df['EEE']).show()"
   ]
  },
  {
   "cell_type": "code",
   "execution_count": 45,
   "id": "7725af2d",
   "metadata": {},
   "outputs": [
    {
     "name": "stdout",
     "output_type": "stream",
     "text": [
      "+-----+------+------+\n",
      "|  CSE|   ECE|   EEE|\n",
      "+-----+------+------+\n",
      "|  Raj|  Ravi|  Sona|\n",
      "| Mona|   Ram|Chinnu|\n",
      "|Bannu|Vinith| Lucky|\n",
      "+-----+------+------+\n",
      "\n"
     ]
    }
   ],
   "source": [
    "# select with col\n",
    "from pyspark.sql.functions import col\n",
    "df.select(col('CSE'),'ECE','EEE').show()"
   ]
  },
  {
   "cell_type": "code",
   "execution_count": 51,
   "id": "cbd52f93",
   "metadata": {},
   "outputs": [
    {
     "name": "stdout",
     "output_type": "stream",
     "text": [
      "+----+----+\n",
      "| CSE| ECE|\n",
      "+----+----+\n",
      "| Raj|Ravi|\n",
      "|Mona| Ram|\n",
      "+----+----+\n",
      "only showing top 2 rows\n",
      "\n"
     ]
    }
   ],
   "source": [
    "# Select Columns by Index\n",
    "# Selects first 2 columns and top 2 rows\n",
    "df.select(df.columns[:2]).show(2)"
   ]
  },
  {
   "cell_type": "code",
   "execution_count": 52,
   "id": "28809d7a",
   "metadata": {},
   "outputs": [
    {
     "name": "stdout",
     "output_type": "stream",
     "text": [
      "+----+---+------+\n",
      "| CSE|ECE|   EEE|\n",
      "+----+---+------+\n",
      "|Mona|Ram|Chinnu|\n",
      "+----+---+------+\n",
      "\n"
     ]
    }
   ],
   "source": [
    "#### filtering\n",
    "# filter() \n",
    "# 1) equals condition\n",
    "df.filter(df.CSE=='Mona').show()"
   ]
  },
  {
   "cell_type": "code",
   "execution_count": 55,
   "id": "d88c66a2",
   "metadata": {},
   "outputs": [
    {
     "name": "stdout",
     "output_type": "stream",
     "text": [
      "+-----+------+-----+\n",
      "|  CSE|   ECE|  EEE|\n",
      "+-----+------+-----+\n",
      "|  Raj|  Ravi| Sona|\n",
      "|Bannu|Vinith|Lucky|\n",
      "+-----+------+-----+\n",
      "\n",
      "+-----+------+-----+\n",
      "|  CSE|   ECE|  EEE|\n",
      "+-----+------+-----+\n",
      "|  Raj|  Ravi| Sona|\n",
      "|Bannu|Vinith|Lucky|\n",
      "+-----+------+-----+\n",
      "\n"
     ]
    }
   ],
   "source": [
    "# not equal condition\n",
    "df.filter(df.CSE!='Mona').show()\n",
    "df.filter(~(df.CSE=='Mona')).show()"
   ]
  },
  {
   "cell_type": "code",
   "execution_count": 56,
   "id": "caebb742",
   "metadata": {},
   "outputs": [
    {
     "name": "stdout",
     "output_type": "stream",
     "text": [
      "+---+----+----+\n",
      "|CSE| ECE| EEE|\n",
      "+---+----+----+\n",
      "|Raj|Ravi|Sona|\n",
      "+---+----+----+\n",
      "\n"
     ]
    }
   ],
   "source": [
    "# 2) using col()\n",
    "df.filter(col('EEE')=='Sona').show()"
   ]
  },
  {
   "cell_type": "code",
   "execution_count": 57,
   "id": "7711e59a",
   "metadata": {},
   "outputs": [
    {
     "name": "stdout",
     "output_type": "stream",
     "text": [
      "+---+----+----+\n",
      "|CSE| ECE| EEE|\n",
      "+---+----+----+\n",
      "|Raj|Ravi|Sona|\n",
      "+---+----+----+\n",
      "\n"
     ]
    }
   ],
   "source": [
    "#3) filter() with SQL Expression\n",
    "# equal\n",
    "df.filter(\" EEE =='Sona'\").show()"
   ]
  },
  {
   "cell_type": "code",
   "execution_count": 58,
   "id": "727c0339",
   "metadata": {},
   "outputs": [
    {
     "name": "stdout",
     "output_type": "stream",
     "text": [
      "+-----+------+------+\n",
      "|  CSE|   ECE|   EEE|\n",
      "+-----+------+------+\n",
      "| Mona|   Ram|Chinnu|\n",
      "|Bannu|Vinith| Lucky|\n",
      "+-----+------+------+\n",
      "\n",
      "+-----+------+------+\n",
      "|  CSE|   ECE|   EEE|\n",
      "+-----+------+------+\n",
      "| Mona|   Ram|Chinnu|\n",
      "|Bannu|Vinith| Lucky|\n",
      "+-----+------+------+\n",
      "\n"
     ]
    }
   ],
   "source": [
    "# not equal\n",
    "df.filter(\"EEE!='Sona'\").show()\n",
    "df.filter(\"EEE <> 'Sona'\").show()"
   ]
  },
  {
   "cell_type": "code",
   "execution_count": 61,
   "id": "3ad74bd4",
   "metadata": {},
   "outputs": [
    {
     "name": "stdout",
     "output_type": "stream",
     "text": [
      "+----+---+------+\n",
      "| CSE|ECE|   EEE|\n",
      "+----+---+------+\n",
      "|Mona|Ram|Chinnu|\n",
      "+----+---+------+\n",
      "\n"
     ]
    }
   ],
   "source": [
    "#4) Filter with Multiple Conditions\n",
    "df.filter((df.CSE=='Mona') & (df.ECE=='Ram')).show()"
   ]
  },
  {
   "cell_type": "code",
   "execution_count": 62,
   "id": "cc9f94d4",
   "metadata": {},
   "outputs": [
    {
     "name": "stdout",
     "output_type": "stream",
     "text": [
      "+-----+------+-----+\n",
      "|  CSE|   ECE|  EEE|\n",
      "+-----+------+-----+\n",
      "|Bannu|Vinith|Lucky|\n",
      "+-----+------+-----+\n",
      "\n"
     ]
    }
   ],
   "source": [
    "# 5) Filter Based on List Values\n",
    "\n",
    "# Filter IS IN List values\n",
    "li=['Mona','Vinith','XYZ']\n",
    "df.filter(df.ECE.isin(li)).show()"
   ]
  },
  {
   "cell_type": "code",
   "execution_count": 64,
   "id": "7bb6f8f8",
   "metadata": {},
   "outputs": [
    {
     "name": "stdout",
     "output_type": "stream",
     "text": [
      "+----+----+------+\n",
      "| CSE| ECE|   EEE|\n",
      "+----+----+------+\n",
      "| Raj|Ravi|  Sona|\n",
      "|Mona| Ram|Chinnu|\n",
      "+----+----+------+\n",
      "\n",
      "+----+----+------+\n",
      "| CSE| ECE|   EEE|\n",
      "+----+----+------+\n",
      "| Raj|Ravi|  Sona|\n",
      "|Mona| Ram|Chinnu|\n",
      "+----+----+------+\n",
      "\n"
     ]
    }
   ],
   "source": [
    "# 6) Filter NOT IS IN List values\n",
    "df.filter(~(df.ECE.isin(li))).show()\n",
    "df.filter(df.ECE.isin(li)==False).show()"
   ]
  },
  {
   "cell_type": "code",
   "execution_count": 68,
   "id": "f2b421de",
   "metadata": {},
   "outputs": [
    {
     "name": "stdout",
     "output_type": "stream",
     "text": [
      "+----+----+------+\n",
      "| CSE| ECE|   EEE|\n",
      "+----+----+------+\n",
      "| Raj|Ravi|  Sona|\n",
      "|Mona| Ram|Chinnu|\n",
      "+----+----+------+\n",
      "\n"
     ]
    }
   ],
   "source": [
    "# 7) Filter Based on Starts With, Ends With, Contains\n",
    "df.filter(df.ECE.startswith(\"R\")).show()"
   ]
  },
  {
   "cell_type": "code",
   "execution_count": 73,
   "id": "b1868e32",
   "metadata": {},
   "outputs": [
    {
     "name": "stdout",
     "output_type": "stream",
     "text": [
      "+----+---+------+\n",
      "| CSE|ECE|   EEE|\n",
      "+----+---+------+\n",
      "|Mona|Ram|Chinnu|\n",
      "+----+---+------+\n",
      "\n"
     ]
    }
   ],
   "source": [
    "df.filter(df.EEE.endswith(\"u\")).show()"
   ]
  },
  {
   "cell_type": "code",
   "execution_count": 75,
   "id": "31d3a26e",
   "metadata": {},
   "outputs": [
    {
     "name": "stdout",
     "output_type": "stream",
     "text": [
      "+----+---+------+\n",
      "| CSE|ECE|   EEE|\n",
      "+----+---+------+\n",
      "|Mona|Ram|Chinnu|\n",
      "+----+---+------+\n",
      "\n"
     ]
    }
   ],
   "source": [
    "df.filter(df.EEE.contains(\"nn\")).show()"
   ]
  },
  {
   "cell_type": "code",
   "execution_count": 76,
   "id": "8142ee2f",
   "metadata": {},
   "outputs": [
    {
     "name": "stdout",
     "output_type": "stream",
     "text": [
      "+---+----+----+\n",
      "|CSE| ECE| EEE|\n",
      "+---+----+----+\n",
      "|Raj|Ravi|Sona|\n",
      "+---+----+----+\n",
      "\n"
     ]
    }
   ],
   "source": [
    "# 8) like\n",
    "df.filter(df.EEE.like('S%')).show()"
   ]
  },
  {
   "cell_type": "code",
   "execution_count": 77,
   "id": "bb9b3845",
   "metadata": {},
   "outputs": [
    {
     "name": "stdout",
     "output_type": "stream",
     "text": [
      "+---+----+----+\n",
      "|CSE| ECE| EEE|\n",
      "+---+----+----+\n",
      "|Raj|Ravi|Sona|\n",
      "+---+----+----+\n",
      "\n"
     ]
    }
   ],
   "source": [
    "df.filter(df.EEE.like('%on%')).show()"
   ]
  },
  {
   "cell_type": "code",
   "execution_count": 79,
   "id": "d314e131",
   "metadata": {},
   "outputs": [
    {
     "name": "stdout",
     "output_type": "stream",
     "text": [
      "+---+----+----+\n",
      "|CSE| ECE| EEE|\n",
      "+---+----+----+\n",
      "|Raj|Ravi|Sona|\n",
      "+---+----+----+\n",
      "\n"
     ]
    }
   ],
   "source": [
    "# using where in place of filter\n",
    "df.where(df.EEE.like('%on%')).show()"
   ]
  },
  {
   "cell_type": "code",
   "execution_count": null,
   "id": "daee1520",
   "metadata": {},
   "outputs": [],
   "source": []
  },
  {
   "cell_type": "code",
   "execution_count": 80,
   "id": "8ab319ff",
   "metadata": {},
   "outputs": [
    {
     "name": "stdout",
     "output_type": "stream",
     "text": [
      "root\n",
      " |-- CSE: string (nullable = true)\n",
      " |-- ECE: string (nullable = true)\n",
      " |-- EEE: string (nullable = true)\n",
      "\n"
     ]
    }
   ],
   "source": [
    "############ Manipulating\n",
    "\n",
    "# 1) schema \n",
    "df.printSchema()"
   ]
  },
  {
   "cell_type": "code",
   "execution_count": 81,
   "id": "68986443",
   "metadata": {},
   "outputs": [
    {
     "name": "stdout",
     "output_type": "stream",
     "text": [
      "+----+----+------+\n",
      "| CSE| ECE|   EEE|\n",
      "+----+----+------+\n",
      "| Raj|Ravi|  Sona|\n",
      "|Mona| Ram|Chinnu|\n",
      "+----+----+------+\n",
      "only showing top 2 rows\n",
      "\n"
     ]
    }
   ],
   "source": [
    "# 2) show only 2 top records\n",
    "df.show(2)"
   ]
  },
  {
   "cell_type": "code",
   "execution_count": 83,
   "id": "a6ffc8fa",
   "metadata": {},
   "outputs": [
    {
     "data": {
      "text/plain": [
       "3"
      ]
     },
     "execution_count": 83,
     "metadata": {},
     "output_type": "execute_result"
    }
   ],
   "source": [
    "# 3) count number of rows in Df\n",
    "df.count()"
   ]
  },
  {
   "cell_type": "code",
   "execution_count": 86,
   "id": "197b3054",
   "metadata": {},
   "outputs": [
    {
     "data": {
      "text/plain": [
       "3"
      ]
     },
     "execution_count": 86,
     "metadata": {},
     "output_type": "execute_result"
    }
   ],
   "source": [
    "# 4) count of number of columns \n",
    "len(df.columns)"
   ]
  },
  {
   "cell_type": "code",
   "execution_count": 87,
   "id": "645b36e8",
   "metadata": {},
   "outputs": [
    {
     "data": {
      "text/plain": [
       "['CSE', 'ECE', 'EEE']"
      ]
     },
     "execution_count": 87,
     "metadata": {},
     "output_type": "execute_result"
    }
   ],
   "source": [
    "# 5) names of columns\n",
    "df.columns"
   ]
  },
  {
   "cell_type": "code",
   "execution_count": 88,
   "id": "00ca72ec",
   "metadata": {},
   "outputs": [
    {
     "name": "stdout",
     "output_type": "stream",
     "text": [
      "+-------+-----+------+------+\n",
      "|summary|  CSE|   ECE|   EEE|\n",
      "+-------+-----+------+------+\n",
      "|  count|    3|     3|     3|\n",
      "|   mean| NULL|  NULL|  NULL|\n",
      "| stddev| NULL|  NULL|  NULL|\n",
      "|    min|Bannu|   Ram|Chinnu|\n",
      "|    max|  Raj|Vinith|  Sona|\n",
      "+-------+-----+------+------+\n",
      "\n"
     ]
    }
   ],
   "source": [
    "# 6) describe()---gives summary statistics\n",
    "df.describe().show()"
   ]
  },
  {
   "cell_type": "code",
   "execution_count": 89,
   "id": "622dd5a9",
   "metadata": {},
   "outputs": [],
   "source": [
    "# 7) select() operations"
   ]
  },
  {
   "cell_type": "code",
   "execution_count": 90,
   "id": "a36bbb7a",
   "metadata": {},
   "outputs": [
    {
     "data": {
      "text/plain": [
       "3"
      ]
     },
     "execution_count": 90,
     "metadata": {},
     "output_type": "execute_result"
    }
   ],
   "source": [
    "# 8) number of distinct products\n",
    "df.select('ECE').distinct().count()"
   ]
  },
  {
   "cell_type": "code",
   "execution_count": 91,
   "id": "7508199d",
   "metadata": {},
   "outputs": [
    {
     "name": "stdout",
     "output_type": "stream",
     "text": [
      "+-----+------+------+-----+\n",
      "|  CSE|   ECE|   EEE|Marks|\n",
      "+-----+------+------+-----+\n",
      "|  Raj|  Ravi|  Sona|   90|\n",
      "| Mona|   Ram|Chinnu|   90|\n",
      "|Bannu|Vinith| Lucky|   90|\n",
      "+-----+------+------+-----+\n",
      "\n"
     ]
    }
   ],
   "source": [
    "# 9) Adding new columns\n",
    "from pyspark.sql.functions import lit\n",
    "df.withColumn(\"Marks\",lit(90)).show()"
   ]
  },
  {
   "cell_type": "code",
   "execution_count": 92,
   "id": "f0dd8207",
   "metadata": {},
   "outputs": [
    {
     "name": "stdout",
     "output_type": "stream",
     "text": [
      "+-----+------+------+\n",
      "|  CSE|   ECE|   EEE|\n",
      "+-----+------+------+\n",
      "|  Raj|  Ravi|  Sona|\n",
      "| Mona|   Ram|Chinnu|\n",
      "|Bannu|Vinith| Lucky|\n",
      "+-----+------+------+\n",
      "\n"
     ]
    }
   ],
   "source": [
    "df.show()"
   ]
  },
  {
   "cell_type": "code",
   "execution_count": null,
   "id": "3316d01e",
   "metadata": {},
   "outputs": [],
   "source": []
  },
  {
   "cell_type": "code",
   "execution_count": null,
   "id": "d7df2ad6",
   "metadata": {},
   "outputs": [],
   "source": [
    "\n",
    "\n"
   ]
  }
 ],
 "metadata": {
  "kernelspec": {
   "display_name": "Python 3 (ipykernel)",
   "language": "python",
   "name": "python3"
  },
  "language_info": {
   "codemirror_mode": {
    "name": "ipython",
    "version": 3
   },
   "file_extension": ".py",
   "mimetype": "text/x-python",
   "name": "python",
   "nbconvert_exporter": "python",
   "pygments_lexer": "ipython3",
   "version": "3.11.5"
  }
 },
 "nbformat": 4,
 "nbformat_minor": 5
}
