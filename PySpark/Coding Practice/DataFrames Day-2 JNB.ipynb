{
 "cells": [
  {
   "cell_type": "code",
   "execution_count": 1,
   "id": "faf8b94b",
   "metadata": {},
   "outputs": [
    {
     "name": "stdout",
     "output_type": "stream",
     "text": [
      "<class 'pyspark.rdd.RDD'>\n",
      "<class 'pyspark.sql.dataframe.DataFrame'>\n",
      "root\n",
      " |-- Division: string (nullable = true)\n",
      " |-- English: long (nullable = true)\n",
      " |-- Mathematics: long (nullable = true)\n",
      " |-- Physics: long (nullable = true)\n",
      " |-- Chemistry: long (nullable = true)\n",
      "\n",
      "+--------+-------+-----------+-------+---------+\n",
      "|Division|English|Mathematics|Physics|Chemistry|\n",
      "+--------+-------+-----------+-------+---------+\n",
      "|       C|     85|         76|     87|       91|\n",
      "|       B|     85|         76|     87|       91|\n",
      "|       A|     85|         78|     96|       92|\n",
      "|       A|     92|         76|     89|       96|\n",
      "+--------+-------+-----------+-------+---------+\n",
      "\n"
     ]
    }
   ],
   "source": [
    "# Creating DataFrames\n",
    "# a) PySpark DataFrame From an Existing RDD\n",
    "import pyspark\n",
    "import findspark\n",
    "findspark.init()\n",
    "from pyspark import SparkContext\n",
    "from pyspark.sql import SparkSession\n",
    "sc = SparkContext.getOrCreate()\n",
    "spark = SparkSession.builder.appName('PySpark DataFrame From RDD').getOrCreate()\n",
    "rdd = sc.parallelize([('C',85,76,87,91), ('B',85,76,87,91), (\"A\", 85,78,96,92), (\"A\", 92,76,89,96)], 4)\n",
    "print(type(rdd))\n",
    "sub = ['Division','English','Mathematics','Physics','Chemistry']\n",
    "marks_df = spark.createDataFrame(rdd, schema=sub)\n",
    "print(type(marks_df))\n",
    "marks_df.printSchema()\n",
    "marks_df.show()\n"
   ]
  },
  {
   "cell_type": "code",
   "execution_count": 2,
   "id": "75b9ce77",
   "metadata": {},
   "outputs": [],
   "source": [
    "# b) PySpark DataFrame From an External File\n",
    "from pyspark.sql import SparkSession\n",
    "#Creating Spark Session\n",
    "spark = SparkSession.builder.appName('PySpark DataFrame From External Files').getOrCreate()"
   ]
  },
  {
   "cell_type": "code",
   "execution_count": 6,
   "id": "9f85c13f",
   "metadata": {},
   "outputs": [
    {
     "name": "stdout",
     "output_type": "stream",
     "text": [
      "+---+------+---+------+\n",
      "| ID|  Name|Age|Salary|\n",
      "+---+------+---+------+\n",
      "|  1|  Sona| 12| 12000|\n",
      "|  2|  Mona| 21| 43000|\n",
      "|  3| Bannu| 13| 25000|\n",
      "|  4|Chinnu| 23| 10000|\n",
      "|  5| sunny| 14| 23000|\n",
      "|  6|  raju| 24| 78000|\n",
      "|  7|   ram| 15| 45000|\n",
      "|  8| lucky| 25| 50000|\n",
      "|  9|  Appy| 17| 60000|\n",
      "| 10| Lekha| 38| 21890|\n",
      "| 11|Vinnni| 11| 78654|\n",
      "| 12| pavan| 19| 34567|\n",
      "| 13|  Sita| 32| 78901|\n",
      "| 14| latha| 33| 56455|\n",
      "| 15|  Gita| 28| 25678|\n",
      "+---+------+---+------+\n",
      "\n",
      "<class 'pyspark.sql.dataframe.DataFrame'>\n",
      "root\n",
      " |-- ID: integer (nullable = true)\n",
      " |-- Name: string (nullable = true)\n",
      " |-- Age: integer (nullable = true)\n",
      " |-- Salary: integer (nullable = true)\n",
      "\n"
     ]
    }
   ],
   "source": [
    "#1. Reading a CSV File\n",
    "df1 = spark.read.csv('C:\\\\Users\\\\DELL\\\\OneDrive\\\\Desktop\\\\Data Engineering Python\\\\DEPython\\\\Example-1.csv', sep = ',', inferSchema = True, header = True)\n",
    "df1.show()\n",
    "print(type(df1))\n",
    "df1.printSchema()"
   ]
  },
  {
   "cell_type": "code",
   "execution_count": 7,
   "id": "c92db785",
   "metadata": {},
   "outputs": [
    {
     "name": "stdout",
     "output_type": "stream",
     "text": [
      "+--------------------+\n",
      "|               value|\n",
      "+--------------------+\n",
      "|I am Sriganga.I a...|\n",
      "+--------------------+\n",
      "\n",
      "root\n",
      " |-- value: string (nullable = true)\n",
      "\n",
      "<class 'pyspark.sql.dataframe.DataFrame'>\n"
     ]
    }
   ],
   "source": [
    "# 2) Reading from txt file\n",
    "df=spark.read.text(\"C:\\\\Users\\\\DELL\\\\OneDrive\\\\Desktop\\\\Data Engineering Python\\\\DEPython\\\\app.txt\")\n",
    "df.show()\n",
    "df.printSchema()\n",
    "print(type(df))"
   ]
  },
  {
   "cell_type": "code",
   "execution_count": 8,
   "id": "d4495663",
   "metadata": {},
   "outputs": [
    {
     "name": "stdout",
     "output_type": "stream",
     "text": [
      "+-----+----+-----------+--------+\n",
      "|t_age|t_id|     t_name|t_salary|\n",
      "+-----+----+-----------+--------+\n",
      "|   43| 200|Dhana Laxmi|   45000|\n",
      "+-----+----+-----------+--------+\n",
      "\n",
      "root\n",
      " |-- t_age: long (nullable = true)\n",
      " |-- t_id: long (nullable = true)\n",
      " |-- t_name: string (nullable = true)\n",
      " |-- t_salary: long (nullable = true)\n",
      "\n",
      "<class 'pyspark.sql.dataframe.DataFrame'>\n"
     ]
    }
   ],
   "source": [
    "# 3) Reading from JSON file\n",
    "df = spark.read.json(\"C:\\\\Users\\\\DELL\\\\OneDrive\\\\Desktop\\\\Data Engineering Python\\\\DEPython\\\\teacher.json\", multiLine=True)\n",
    "df.show()\n",
    "df.printSchema()\n",
    "print(type(df))"
   ]
  },
  {
   "cell_type": "code",
   "execution_count": 9,
   "id": "09ceb9ee",
   "metadata": {},
   "outputs": [
    {
     "data": {
      "text/html": [
       "<div>\n",
       "<style scoped>\n",
       "    .dataframe tbody tr th:only-of-type {\n",
       "        vertical-align: middle;\n",
       "    }\n",
       "\n",
       "    .dataframe tbody tr th {\n",
       "        vertical-align: top;\n",
       "    }\n",
       "\n",
       "    .dataframe thead th {\n",
       "        text-align: right;\n",
       "    }\n",
       "</style>\n",
       "<table border=\"1\" class=\"dataframe\">\n",
       "  <thead>\n",
       "    <tr style=\"text-align: right;\">\n",
       "      <th></th>\n",
       "      <th>ID</th>\n",
       "      <th>Name</th>\n",
       "      <th>Age</th>\n",
       "      <th>Salary</th>\n",
       "    </tr>\n",
       "  </thead>\n",
       "  <tbody>\n",
       "    <tr>\n",
       "      <th>0</th>\n",
       "      <td>1</td>\n",
       "      <td>Sona</td>\n",
       "      <td>12</td>\n",
       "      <td>12000</td>\n",
       "    </tr>\n",
       "    <tr>\n",
       "      <th>1</th>\n",
       "      <td>2</td>\n",
       "      <td>Mona</td>\n",
       "      <td>21</td>\n",
       "      <td>43000</td>\n",
       "    </tr>\n",
       "    <tr>\n",
       "      <th>2</th>\n",
       "      <td>3</td>\n",
       "      <td>Bannu</td>\n",
       "      <td>13</td>\n",
       "      <td>25000</td>\n",
       "    </tr>\n",
       "    <tr>\n",
       "      <th>3</th>\n",
       "      <td>4</td>\n",
       "      <td>Chinnu</td>\n",
       "      <td>23</td>\n",
       "      <td>10000</td>\n",
       "    </tr>\n",
       "    <tr>\n",
       "      <th>4</th>\n",
       "      <td>5</td>\n",
       "      <td>sunny</td>\n",
       "      <td>14</td>\n",
       "      <td>23000</td>\n",
       "    </tr>\n",
       "    <tr>\n",
       "      <th>5</th>\n",
       "      <td>6</td>\n",
       "      <td>raju</td>\n",
       "      <td>24</td>\n",
       "      <td>78000</td>\n",
       "    </tr>\n",
       "    <tr>\n",
       "      <th>6</th>\n",
       "      <td>7</td>\n",
       "      <td>ram</td>\n",
       "      <td>15</td>\n",
       "      <td>45000</td>\n",
       "    </tr>\n",
       "    <tr>\n",
       "      <th>7</th>\n",
       "      <td>8</td>\n",
       "      <td>lucky</td>\n",
       "      <td>25</td>\n",
       "      <td>50000</td>\n",
       "    </tr>\n",
       "    <tr>\n",
       "      <th>8</th>\n",
       "      <td>9</td>\n",
       "      <td>Appy</td>\n",
       "      <td>17</td>\n",
       "      <td>60000</td>\n",
       "    </tr>\n",
       "    <tr>\n",
       "      <th>9</th>\n",
       "      <td>10</td>\n",
       "      <td>Lekha</td>\n",
       "      <td>38</td>\n",
       "      <td>21890</td>\n",
       "    </tr>\n",
       "    <tr>\n",
       "      <th>10</th>\n",
       "      <td>11</td>\n",
       "      <td>Vinnni</td>\n",
       "      <td>11</td>\n",
       "      <td>78654</td>\n",
       "    </tr>\n",
       "    <tr>\n",
       "      <th>11</th>\n",
       "      <td>12</td>\n",
       "      <td>pavan</td>\n",
       "      <td>19</td>\n",
       "      <td>34567</td>\n",
       "    </tr>\n",
       "    <tr>\n",
       "      <th>12</th>\n",
       "      <td>13</td>\n",
       "      <td>Sita</td>\n",
       "      <td>32</td>\n",
       "      <td>78901</td>\n",
       "    </tr>\n",
       "    <tr>\n",
       "      <th>13</th>\n",
       "      <td>14</td>\n",
       "      <td>latha</td>\n",
       "      <td>33</td>\n",
       "      <td>56455</td>\n",
       "    </tr>\n",
       "    <tr>\n",
       "      <th>14</th>\n",
       "      <td>15</td>\n",
       "      <td>Gita</td>\n",
       "      <td>28</td>\n",
       "      <td>25678</td>\n",
       "    </tr>\n",
       "  </tbody>\n",
       "</table>\n",
       "</div>"
      ],
      "text/plain": [
       "    ID    Name  Age  Salary\n",
       "0    1    Sona   12   12000\n",
       "1    2    Mona   21   43000\n",
       "2    3   Bannu   13   25000\n",
       "3    4  Chinnu   23   10000\n",
       "4    5   sunny   14   23000\n",
       "5    6    raju   24   78000\n",
       "6    7     ram   15   45000\n",
       "7    8   lucky   25   50000\n",
       "8    9    Appy   17   60000\n",
       "9   10   Lekha   38   21890\n",
       "10  11  Vinnni   11   78654\n",
       "11  12   pavan   19   34567\n",
       "12  13    Sita   32   78901\n",
       "13  14   latha   33   56455\n",
       "14  15    Gita   28   25678"
      ]
     },
     "execution_count": 9,
     "metadata": {},
     "output_type": "execute_result"
    }
   ],
   "source": [
    "# c) Additional Methods\n",
    "#PySpark DataFrame to Pandas DataFrame\n",
    "# using dataframe created from csv file\n",
    "df1 = spark.read.csv('C:\\\\Users\\\\DELL\\\\OneDrive\\\\Desktop\\\\Data Engineering Python\\\\DEPython\\\\Example-1.csv', sep = ',', inferSchema = True, header = True)\n",
    "df2=df1.toPandas()\n",
    "df2\n"
   ]
  },
  {
   "cell_type": "code",
   "execution_count": 11,
   "id": "80c6366a",
   "metadata": {},
   "outputs": [
    {
     "name": "stdout",
     "output_type": "stream",
     "text": [
      "+--------------------+\n",
      "|               value|\n",
      "+--------------------+\n",
      "|I am Sriganga.I a...|\n",
      "|   Name: Shivathmika|\n",
      "|             Age: 20|\n",
      "|            Marks:89|\n",
      "|            Grade: A|\n",
      "+--------------------+\n",
      "\n"
     ]
    }
   ],
   "source": [
    "# Reading multiple files at once\n",
    "files=[\"C:\\\\Users\\\\DELL\\\\OneDrive\\\\Desktop\\\\Data Engineering Python\\\\DEPython\\\\app.txt\",\"C:\\\\Users\\\\DELL\\\\OneDrive\\\\Desktop\\\\Data Engineering Python\\\\DEPython\\\\student.txt\"]\n",
    "df=spark.read.text(files)\n",
    "df.show()"
   ]
  },
  {
   "cell_type": "code",
   "execution_count": null,
   "id": "bec0be4a",
   "metadata": {},
   "outputs": [],
   "source": []
  }
 ],
 "metadata": {
  "kernelspec": {
   "display_name": "Python 3 (ipykernel)",
   "language": "python",
   "name": "python3"
  },
  "language_info": {
   "codemirror_mode": {
    "name": "ipython",
    "version": 3
   },
   "file_extension": ".py",
   "mimetype": "text/x-python",
   "name": "python",
   "nbconvert_exporter": "python",
   "pygments_lexer": "ipython3",
   "version": "3.11.5"
  }
 },
 "nbformat": 4,
 "nbformat_minor": 5
}
