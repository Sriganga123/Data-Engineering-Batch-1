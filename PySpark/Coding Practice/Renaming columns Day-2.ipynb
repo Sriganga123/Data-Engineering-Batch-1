{
 "cells": [
  {
   "cell_type": "code",
   "execution_count": 0,
   "metadata": {
    "application/vnd.databricks.v1+cell": {
     "cellMetadata": {
      "byteLimit": 2048000,
      "rowLimit": 10000
     },
     "inputWidgets": {},
     "nuid": "9ab40af2-c6ed-4bc1-803a-168d3889c665",
     "showTitle": false,
     "title": ""
    }
   },
   "outputs": [
    {
     "data": {
      "text/html": [
       "\n",
       "            <div>\n",
       "                <p><b>SparkSession - hive</b></p>\n",
       "                \n",
       "        <div>\n",
       "            <p><b>SparkContext</b></p>\n",
       "\n",
       "            <p><a href=\"/?o=4821331748397817#setting/sparkui/0206-054653-y100zilc/driver-2152658456382118577\">Spark UI</a></p>\n",
       "\n",
       "            <dl>\n",
       "              <dt>Version</dt>\n",
       "                <dd><code>v3.5.0</code></dd>\n",
       "              <dt>Master</dt>\n",
       "                <dd><code>local[8]</code></dd>\n",
       "              <dt>AppName</dt>\n",
       "                <dd><code>Databricks Shell</code></dd>\n",
       "            </dl>\n",
       "        </div>\n",
       "        \n",
       "            </div>\n",
       "        "
      ],
      "text/plain": [
       "<pyspark.sql.session.SparkSession at 0x7f1670da6740>"
      ]
     },
     "execution_count": 10,
     "metadata": {},
     "output_type": "execute_result"
    }
   ],
   "source": [
    "import pyspark\n",
    "from pyspark.sql import SparkSession\n",
    "spark=SparkSession.builder.appName(\"Renaming Columns in data frame\").getOrCreate()\n",
    "spark"
   ]
  },
  {
   "cell_type": "code",
   "execution_count": 0,
   "metadata": {
    "application/vnd.databricks.v1+cell": {
     "cellMetadata": {
      "byteLimit": 2048000,
      "rowLimit": 10000
     },
     "inputWidgets": {},
     "nuid": "81d29c57-377d-4402-8e5a-a4d9bb3f0473",
     "showTitle": false,
     "title": ""
    }
   },
   "outputs": [
    {
     "name": "stdout",
     "output_type": "stream",
     "text": [
      "+-----------+----------+------+------+\n",
      "|       Name|       DOB|Gender|Salary|\n",
      "+-----------+----------+------+------+\n",
      "|        Ram|2002-09-03|     M| 65000|\n",
      "|       Raju|1980-08-12|     M| 78000|\n",
      "|Dhana Laxmi|1992-12-12|     F| 67000|\n",
      "|Shivathmika|2005-03-05|     F| 80000|\n",
      "|       Mona|2002-08-01|     F| 90000|\n",
      "+-----------+----------+------+------+\n",
      "\n"
     ]
    }
   ],
   "source": [
    "from pyspark.sql import SparkSession\n",
    "spark=SparkSession.builder.appName(\"Renaming Columns in data frame\").getOrCreate()\n",
    "# creating data\n",
    "data=[('Ram','2002-09-03','M',65000),\n",
    "      ('Raju','1980-08-12','M',78000),\n",
    "      ('Dhana Laxmi','1992-12-12','F',67000),\n",
    "      ('Shivathmika','2005-03-05','F',80000),\n",
    "      ('Mona','2002-08-01','F',90000)]\n",
    "# columns\n",
    "columns=[\"Name\",\"DOB\",\"Gender\",\"Salary\"]\n",
    "# creating spark dataframe\n",
    "df=spark.createDataFrame(data=data,schema=columns)\n",
    "df.show()"
   ]
  },
  {
   "cell_type": "code",
   "execution_count": 0,
   "metadata": {
    "application/vnd.databricks.v1+cell": {
     "cellMetadata": {
      "byteLimit": 2048000,
      "rowLimit": 10000
     },
     "inputWidgets": {},
     "nuid": "abcd0bfe-b4d4-4daa-9e87-b8f1c6ccf4f9",
     "showTitle": false,
     "title": ""
    }
   },
   "outputs": [
    {
     "name": "stdout",
     "output_type": "stream",
     "text": [
      "+-----------+-----------+------+------+\n",
      "|       Name|DateOfBirth|Gender|Salary|\n",
      "+-----------+-----------+------+------+\n",
      "|        Ram| 2002-09-03|     M| 65000|\n",
      "|       Raju| 1980-08-12|     M| 78000|\n",
      "|Dhana Laxmi| 1992-12-12|     F| 67000|\n",
      "|Shivathmika| 2005-03-05|     F| 80000|\n",
      "|       Mona| 2002-08-01|     F| 90000|\n",
      "+-----------+-----------+------+------+\n",
      "\n"
     ]
    }
   ],
   "source": [
    "#Method 1: Using withColumnRenamed()\n",
    "# Renaming from DOB to DateOfBirth\n",
    "df.withColumnRenamed(\"DOB\",\"DateOfBirth\").show()\n"
   ]
  },
  {
   "cell_type": "code",
   "execution_count": 0,
   "metadata": {
    "application/vnd.databricks.v1+cell": {
     "cellMetadata": {
      "byteLimit": 2048000,
      "rowLimit": 10000
     },
     "inputWidgets": {},
     "nuid": "54b569cc-e758-4744-8600-d2a09c435a44",
     "showTitle": false,
     "title": ""
    }
   },
   "outputs": [
    {
     "name": "stdout",
     "output_type": "stream",
     "text": [
      "+-----------+----------+---+------+\n",
      "|       Name|       DOB|Sex|Amount|\n",
      "+-----------+----------+---+------+\n",
      "|        Ram|2002-09-03|  M| 65000|\n",
      "|       Raju|1980-08-12|  M| 78000|\n",
      "|Dhana Laxmi|1992-12-12|  F| 67000|\n",
      "|Shivathmika|2005-03-05|  F| 80000|\n",
      "|       Mona|2002-08-01|  F| 90000|\n",
      "+-----------+----------+---+------+\n",
      "\n"
     ]
    }
   ],
   "source": [
    "# Renaming multiple columns\n",
    "# Gender to Sex and Salary to Amount\n",
    "df.withColumnRenamed(\"Gender\",\"Sex\").withColumnRenamed(\"Salary\",\"Amount\").show()"
   ]
  },
  {
   "cell_type": "code",
   "execution_count": 0,
   "metadata": {
    "application/vnd.databricks.v1+cell": {
     "cellMetadata": {
      "byteLimit": 2048000,
      "rowLimit": 10000
     },
     "inputWidgets": {},
     "nuid": "f12dc876-3c70-47e5-8732-17f1fe97b891",
     "showTitle": false,
     "title": ""
    }
   },
   "outputs": [
    {
     "name": "stdout",
     "output_type": "stream",
     "text": [
      "+-----------+----------+------+------+\n",
      "|       name|       DOB|Gender|Salary|\n",
      "+-----------+----------+------+------+\n",
      "|        Ram|2002-09-03|     M| 65000|\n",
      "|       Raju|1980-08-12|     M| 78000|\n",
      "|Dhana Laxmi|1992-12-12|     F| 67000|\n",
      "|Shivathmika|2005-03-05|     F| 80000|\n",
      "|       Mona|2002-08-01|     F| 90000|\n",
      "+-----------+----------+------+------+\n",
      "\n"
     ]
    }
   ],
   "source": [
    "# Method 2: Using selectExpr()\n",
    "# change Name to name and remaining columns as it is\n",
    "df.selectExpr(\"Name as name\",\"DOB\",\"Gender\",\"Salary\").show()"
   ]
  },
  {
   "cell_type": "code",
   "execution_count": 0,
   "metadata": {
    "application/vnd.databricks.v1+cell": {
     "cellMetadata": {
      "byteLimit": 2048000,
      "rowLimit": 10000
     },
     "inputWidgets": {},
     "nuid": "2ed60215-c9ec-44a0-b1c8-5aea1674637d",
     "showTitle": false,
     "title": ""
    }
   },
   "outputs": [
    {
     "name": "stdout",
     "output_type": "stream",
     "text": [
      "+-----------+----------+------+------+\n",
      "|       Name|       DOB|Gender|Amount|\n",
      "+-----------+----------+------+------+\n",
      "|        Ram|2002-09-03|     M| 65000|\n",
      "|       Raju|1980-08-12|     M| 78000|\n",
      "|Dhana Laxmi|1992-12-12|     F| 67000|\n",
      "|Shivathmika|2005-03-05|     F| 80000|\n",
      "|       Mona|2002-08-01|     F| 90000|\n",
      "+-----------+----------+------+------+\n",
      "\n"
     ]
    }
   ],
   "source": [
    "#Method 3: Using select() method\n",
    "# select(col().alias())\n",
    "# Rename Salary to Amount and remaining columns as it as\n",
    "from pyspark.sql.functions import col\n",
    "data=df.select(col(\"Name\"),col(\"DOB\"),col(\"Gender\"),col(\"Salary\").alias(\"Amount\"))\n",
    "data.show()\n"
   ]
  },
  {
   "cell_type": "code",
   "execution_count": 0,
   "metadata": {
    "application/vnd.databricks.v1+cell": {
     "cellMetadata": {
      "byteLimit": 2048000,
      "rowLimit": 10000
     },
     "inputWidgets": {},
     "nuid": "044e1675-8a4c-4966-b0b1-ddda2e5a5d74",
     "showTitle": false,
     "title": ""
    }
   },
   "outputs": [
    {
     "name": "stdout",
     "output_type": "stream",
     "text": [
      "+-----------+----------+---+-----------+\n",
      "|   Emp Name|Birth date|M/F|Paid salary|\n",
      "+-----------+----------+---+-----------+\n",
      "|        Ram|2002-09-03|  M|      65000|\n",
      "|       Raju|1980-08-12|  M|      78000|\n",
      "|Dhana Laxmi|1992-12-12|  F|      67000|\n",
      "|Shivathmika|2005-03-05|  F|      80000|\n",
      "|       Mona|2002-08-01|  F|      90000|\n",
      "+-----------+----------+---+-----------+\n",
      "\n"
     ]
    }
   ],
   "source": [
    "#Method 4: Using toDF()\n",
    "#toDF(*col)\n",
    "#create an order list of new column names and pass it into toDF function\n",
    "data_list=[\"Emp Name\",\"Birth date\",\"M/F\",\"Paid salary\"]\n",
    "new_df=df.toDF(*data_list)\n",
    "new_df.show()"
   ]
  },
  {
   "cell_type": "code",
   "execution_count": 0,
   "metadata": {
    "application/vnd.databricks.v1+cell": {
     "cellMetadata": {
      "byteLimit": 2048000,
      "rowLimit": 10000
     },
     "inputWidgets": {},
     "nuid": "cc943df9-f139-4ad8-8507-6047e3f20a65",
     "showTitle": false,
     "title": ""
    }
   },
   "outputs": [
    {
     "name": "stdout",
     "output_type": "stream",
     "text": [
      "+-----------+----------+---+------+\n",
      "|       Name|Birth Date|Sex|Salary|\n",
      "+-----------+----------+---+------+\n",
      "|        Ram|2002-09-03|  M| 65000|\n",
      "|       Raju|1980-08-12|  M| 78000|\n",
      "|Dhana Laxmi|1992-12-12|  F| 67000|\n",
      "|Shivathmika|2005-03-05|  F| 80000|\n",
      "|       Mona|2002-08-01|  F| 90000|\n",
      "+-----------+----------+---+------+\n",
      "\n"
     ]
    }
   ],
   "source": [
    "# To change only some columns\n",
    "data_list=[\"Name\",\"Birth Date\",\"Sex\",\"Salary\"]\n",
    "new_df=df.toDF(*data_list)\n",
    "new_df.show()"
   ]
  },
  {
   "cell_type": "code",
   "execution_count": null,
   "metadata": {
    "application/vnd.databricks.v1+cell": {
     "cellMetadata": {
      "byteLimit": 2048000,
      "rowLimit": 10000
     },
     "inputWidgets": {},
     "nuid": "bdb6054a-9c68-4e16-b24c-6a9a62750ab1",
     "showTitle": false,
     "title": ""
    }
   },
   "outputs": [],
   "source": []
  },
  {
   "cell_type": "code",
   "execution_count": null,
   "metadata": {},
   "outputs": [],
   "source": []
  }
 ],
 "metadata": {
  "application/vnd.databricks.v1+notebook": {
   "dashboards": [],
   "language": "python",
   "notebookMetadata": {
    "pythonIndentUnit": 4
   },
   "notebookName": "Renaming columns Day-2",
   "widgets": {}
  },
  "kernelspec": {
   "display_name": "Python 3 (ipykernel)",
   "language": "python",
   "name": "python3"
  },
  "language_info": {
   "codemirror_mode": {
    "name": "ipython",
    "version": 3
   },
   "file_extension": ".py",
   "mimetype": "text/x-python",
   "name": "python",
   "nbconvert_exporter": "python",
   "pygments_lexer": "ipython3",
   "version": "3.11.5"
  }
 },
 "nbformat": 4,
 "nbformat_minor": 1
}
