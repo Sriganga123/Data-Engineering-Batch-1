{
 "cells": [
  {
   "cell_type": "code",
   "execution_count": 0,
   "metadata": {
    "application/vnd.databricks.v1+cell": {
     "cellMetadata": {
      "byteLimit": 2048000,
      "rowLimit": 10000
     },
     "inputWidgets": {},
     "nuid": "d9ffb396-495d-4a7e-b566-7600a6f5d356",
     "showTitle": false,
     "title": ""
    }
   },
   "outputs": [
    {
     "output_type": "stream",
     "name": "stdout",
     "output_type": "stream",
     "text": [
      "Widgets\n"
     ]
    }
   ],
   "source": [
    "print(\"Widgets\")"
   ]
  },
  {
   "cell_type": "code",
   "execution_count": 0,
   "metadata": {
    "application/vnd.databricks.v1+cell": {
     "cellMetadata": {},
     "inputWidgets": {},
     "nuid": "783fe366-34b1-4d1b-89f1-ba270552044b",
     "showTitle": false,
     "title": ""
    }
   },
   "outputs": [],
   "source": [
    "#Widgets Type\n",
    "'''\n",
    "There are 4 types of widgets:\n",
    "\n",
    "1) Text: A text box to get the input\n",
    "2) Dropdown: A set of options, and choose a value\n",
    "3) Combobox: It is a combination of text and dropbox. It can accept value in text or select from dropdown.\n",
    "4) Multiselect: Choose one or more values.\n",
    "\n",
    "'''"
   ]
  },
  {
   "cell_type": "code",
   "execution_count": 0,
   "metadata": {
    "application/vnd.databricks.v1+cell": {
     "cellMetadata": {
      "byteLimit": 2048000,
      "rowLimit": 10000
     },
     "inputWidgets": {},
     "nuid": "3f34ef62-b3de-485e-b6ae-54d34d6cf0ee",
     "showTitle": false,
     "title": ""
    }
   },
   "outputs": [],
   "source": [
    "# 1) Creating a text widget\n",
    "\n",
    "dbutils.widgets.text(\"TextWidget\", \"\")"
   ]
  },
  {
   "cell_type": "code",
   "execution_count": 0,
   "metadata": {
    "application/vnd.databricks.v1+cell": {
     "cellMetadata": {},
     "inputWidgets": {},
     "nuid": "da6d9c20-3ddf-4edb-83e4-947bb9ed2da9",
     "showTitle": false,
     "title": ""
    }
   },
   "outputs": [],
   "source": [
    "# Read a widget value in a variable. \n",
    "\n",
    "textWidget = dbutils.widgets.get(\"TextWidget\")\n",
    "print(textWidget)"
   ]
  },
  {
   "cell_type": "code",
   "execution_count": 0,
   "metadata": {
    "application/vnd.databricks.v1+cell": {
     "cellMetadata": {
      "byteLimit": 2048000,
      "rowLimit": 10000
     },
     "inputWidgets": {},
     "nuid": "bc75b107-0a18-409c-af0c-6f2877af37b1",
     "showTitle": false,
     "title": ""
    }
   },
   "outputs": [],
   "source": [
    "# 2) Drop down widget\n",
    "\n",
    "dbutils.widgets.dropdown(\"0\", \"1\", [str(x) for x in range(1, 10)], \"Widget\")\n",
    "\n"
   ]
  },
  {
   "cell_type": "code",
   "execution_count": 0,
   "metadata": {
    "application/vnd.databricks.v1+cell": {
     "cellMetadata": {
      "byteLimit": 2048000,
      "rowLimit": 10000
     },
     "inputWidgets": {},
     "nuid": "f2aad9e6-9710-4d84-9b0e-12663cd2790f",
     "showTitle": false,
     "title": ""
    }
   },
   "outputs": [
    {
     "output_type": "stream",
     "name": "stdout",
     "output_type": "stream",
     "text": [
      "IL"
     ]
    }
   ],
   "source": [
    "dbutils.widgets.dropdown(\"state\", \"CA\", [\"CA\", \"IL\", \"MI\", \"NY\", \"OR\", \"VA\"])\n",
    "x=dbutils.widgets.get(\"state\")\n",
    "for i in x:\n",
    "    print(i,end='')\n",
    "\n",
    "# whatever element is selected in widget that is displayed as output"
   ]
  },
  {
   "cell_type": "code",
   "execution_count": 0,
   "metadata": {
    "application/vnd.databricks.v1+cell": {
     "cellMetadata": {},
     "inputWidgets": {},
     "nuid": "f2191bd8-61e6-4c66-b0e0-77d4fb2e1cae",
     "showTitle": false,
     "title": ""
    }
   },
   "outputs": [],
   "source": []
  }
 ],
 "metadata": {
  "application/vnd.databricks.v1+notebook": {
   "dashboards": [],
   "language": "python",
   "notebookMetadata": {
    "pythonIndentUnit": 4
   },
   "notebookName": "Widgets",
   "widgets": {
    "0": {
     "currentValue": "5",
     "nuid": "bc0ea4c9-242b-4b56-b9e9-827f657bf42c",
     "widgetInfo": {
      "widgetType": "dropdown",
      "defaultValue": "1",
      "label": "Widget",
      "name": "0",
      "options": {
       "widgetType": "dropdown",
       "autoCreated": null,
       "choices": [
        "1",
        "2",
        "3",
        "4",
        "5",
        "6",
        "7",
        "8",
        "9"
       ]
      }
     }
    },
    "TextWidget": {
     "currentValue": "Welcome to Data Bricks Community Edition",
     "nuid": "f1a4b521-0bb2-4475-892f-3dd39ab56b4a",
     "widgetInfo": {
      "widgetType": "text",
      "defaultValue": "",
      "label": null,
      "name": "TextWidget",
      "options": {
       "widgetType": "text",
       "autoCreated": null,
       "validationRegex": null
      }
     }
    },
    "state": {
     "currentValue": "IL",
     "nuid": "50e76b84-4c3f-4142-bece-b35d2a25e9b9",
     "widgetInfo": {
      "widgetType": "dropdown",
      "defaultValue": "CA",
      "label": null,
      "name": "state",
      "options": {
       "widgetType": "dropdown",
       "autoCreated": null,
       "choices": [
        "CA",
        "IL",
        "MI",
        "NY",
        "OR",
        "VA"
       ]
      }
     }
    }
   }
  }
 },
 "nbformat": 4,
 "nbformat_minor": 0
}
