{
 "cells": [
  {
   "cell_type": "code",
   "execution_count": 1,
   "id": "e49ce064",
   "metadata": {},
   "outputs": [],
   "source": [
    "import pyspark\n",
    "import findspark\n",
    "findspark.init()\n",
    "from pyspark import SparkContext"
   ]
  },
  {
   "cell_type": "code",
   "execution_count": 4,
   "id": "63fb916e",
   "metadata": {},
   "outputs": [
    {
     "name": "stdout",
     "output_type": "stream",
     "text": [
      "10\n"
     ]
    }
   ],
   "source": [
    "#2 count() action\n",
    "# returns the number of values\n",
    "sc=SparkContext.getOrCreate()\n",
    "count_rdd = sc.parallelize([1,2,3,4,5,5,6,7,8,9])\n",
    "print(count_rdd.count())\n"
   ]
  },
  {
   "cell_type": "code",
   "execution_count": 3,
   "id": "d1ccb220",
   "metadata": {},
   "outputs": [
    {
     "name": "stdout",
     "output_type": "stream",
     "text": [
      "[1, 2, 3, 4, 5, 5, 6, 7, 8, 9]\n"
     ]
    }
   ],
   "source": [
    "# Actions in PySpark RDDs\n",
    "# 1) collect()\n",
    "# displays all the contents of RDD\n",
    "from pyspark import SparkContext\n",
    "sc = SparkContext.getOrCreate()\n",
    "collect_rdd = sc.parallelize([1,2,3,4,5,5,6,7,8,9])\n",
    "print(collect_rdd.collect())\n"
   ]
  },
  {
   "cell_type": "code",
   "execution_count": 5,
   "id": "16174cfd",
   "metadata": {},
   "outputs": [
    {
     "name": "stdout",
     "output_type": "stream",
     "text": [
      "First element: 1\n"
     ]
    }
   ],
   "source": [
    "#3 first() action\n",
    "# returns first element from RDD\n",
    "from pyspark import SparkContext\n",
    "sc=SparkContext.getOrCreate()\n",
    "first_rdd = sc.parallelize([1,2,3,4,5,6,7,8,9,10])\n",
    "print(\"First element:\",first_rdd.first())\n"
   ]
  },
  {
   "cell_type": "code",
   "execution_count": 6,
   "id": "ae11e83f",
   "metadata": {},
   "outputs": [
    {
     "name": "stdout",
     "output_type": "stream",
     "text": [
      "[1, 2, 7, 89]\n"
     ]
    }
   ],
   "source": [
    "# 4 take(n) action\n",
    "# returns n elements\n",
    "from pyspark import SparkContext\n",
    "sc=SparkContext.getOrCreate()\n",
    "take_rdd = sc.parallelize([1,2,7,89,3,4,5,9,22,78,56])\n",
    "print(take_rdd.take(4))"
   ]
  },
  {
   "cell_type": "code",
   "execution_count": 7,
   "id": "ca314927",
   "metadata": {},
   "outputs": [
    {
     "name": "stdout",
     "output_type": "stream",
     "text": [
      "Sum of numbers: 720\n"
     ]
    }
   ],
   "source": [
    "# 5 reduce()\n",
    "# to add all elements of RDD uses Lambda function\n",
    "from pyspark import SparkContext\n",
    "sc=SparkContext.getOrCreate()\n",
    "reduce_rdd=sc.parallelize([45,8,12,10,78,567])\n",
    "print(\"Sum of numbers:\",reduce_rdd.reduce(lambda x,y:x+y))\n"
   ]
  },
  {
   "cell_type": "code",
   "execution_count": 10,
   "id": "8e4bdef0",
   "metadata": {},
   "outputs": [
    {
     "name": "stdout",
     "output_type": "stream",
     "text": [
      "[21, 22, 23, 24]\n"
     ]
    }
   ],
   "source": [
    "#Transformations in PySpark RDDs\n",
    "# 1) map \n",
    "from pyspark import SparkContext\n",
    "sc=SparkContext.getOrCreate()\n",
    "my_rdd = sc.parallelize([1,2,3,4])\n",
    "print(my_rdd.map(lambda x: x+ 20).collect())\n"
   ]
  },
  {
   "cell_type": "code",
   "execution_count": 11,
   "id": "f15a9f22",
   "metadata": {},
   "outputs": [
    {
     "name": "stdout",
     "output_type": "stream",
     "text": [
      "[2, 4, 6, 56, 100]\n",
      "['Rahul', 'Rohan']\n"
     ]
    }
   ],
   "source": [
    "# 2) filter()\n",
    "# from pyspark import SparkContext\n",
    "sc=SparkContext.getOrCreate() \n",
    "filter_rdd = sc.parallelize([2, 3, 4, 5, 6, 7,56,99,100])\n",
    "print(filter_rdd.filter(lambda x: x%2 == 0).collect())\n",
    "\n",
    "\n",
    "# example2\n",
    "filter_rdd_2 = sc.parallelize(['Rahul', 'Swati', 'Rohan', 'Shreya', 'Priya'])\n",
    "print(filter_rdd_2.filter(lambda x: x.startswith('R')).collect())\n"
   ]
  },
  {
   "cell_type": "code",
   "execution_count": 12,
   "id": "df0afa11",
   "metadata": {},
   "outputs": [
    {
     "name": "stdout",
     "output_type": "stream",
     "text": [
      "[2, 4, 6, 8, 6, 9]\n"
     ]
    }
   ],
   "source": [
    "# 3)union() \n",
    "from pyspark import SparkContext\n",
    "sc=SparkContext.getOrCreate()\n",
    "union_inp = sc.parallelize([2,4,5,6,7,8,9])\n",
    "union_rdd_1 = union_inp.filter(lambda x: x % 2 == 0)\n",
    "union_rdd_2 = union_inp.filter(lambda x: x % 3 == 0)\n",
    "print(union_rdd_1.union(union_rdd_2).collect())\n"
   ]
  },
  {
   "cell_type": "code",
   "execution_count": 13,
   "id": "cbbe111d",
   "metadata": {},
   "outputs": [
    {
     "name": "stdout",
     "output_type": "stream",
     "text": [
      "<class 'pyspark.rdd.RDD'>\n"
     ]
    },
    {
     "data": {
      "text/plain": [
       "['Hey', 'there', 'This', 'is', 'PySpark', 'RDD', 'Transformations']"
      ]
     },
     "execution_count": 13,
     "metadata": {},
     "output_type": "execute_result"
    }
   ],
   "source": [
    "# 4)flatMap()\n",
    "from pyspark import SparkContext\n",
    "sc=SparkContext.getOrCreate()\n",
    "flatmap_rdd = sc.parallelize([\"Hey there\", \"This is PySpark RDD Transformations\"])\n",
    "print(type(flatmap_rdd))\n",
    "flatmap_rdd.flatMap(lambda x: x.split(\" \")).collect()\n"
   ]
  },
  {
   "cell_type": "code",
   "execution_count": 14,
   "id": "c377b8c5",
   "metadata": {},
   "outputs": [
    {
     "name": "stdout",
     "output_type": "stream",
     "text": [
      "[('Shreya', 50), ('Rohan', 44), ('Rahul', 48), ('Swati', 45), ('Abhay', 55)]\n"
     ]
    }
   ],
   "source": [
    "#Pair RDD Operations\n",
    "#Transformations in Pair RDDs\n",
    "#1. .reduceByKey() Transformation\n",
    "#transformation performs multiple parallel processes for each key in the data and combines the values for the same keys\n",
    "from pyspark import SparkContext\n",
    "sc=SparkContext.getOrCreate()\n",
    "marks_rdd = sc.parallelize([('Rahul', 25), ('Swati', 26), ('Shreya', 22), ('Abhay', 29), ('Rohan', 22), ('Rahul', 23), ('Swati', 19), ('Shreya', 28), ('Abhay', 26), ('Rohan', 22)])\n",
    "print(marks_rdd.reduceByKey(lambda x, y: x + y).collect())\n"
   ]
  },
  {
   "cell_type": "code",
   "execution_count": 15,
   "id": "9975dd71",
   "metadata": {},
   "outputs": [
    {
     "name": "stdout",
     "output_type": "stream",
     "text": [
      "[('Abhay', 29), ('Abhay', 26), ('Rahul', 25), ('Rahul', 23), ('Rohan', 22), ('Rohan', 22), ('Shreya', 22), ('Shreya', 28), ('Swati', 26), ('Swati', 19)]\n"
     ]
    }
   ],
   "source": [
    "# 2)  .sortByKey() Transformation\n",
    "#  transformation sorts the input data by keys from key-value pairs either in ascending or descending order\n",
    "marks_rdd = sc.parallelize([('Rahul', 25), ('Swati', 26), ('Shreya', 22), ('Abhay', 29), ('Rohan', 22), ('Rahul', 23), ('Swati', 19), ('Shreya', 28), ('Abhay', 26), ('Rohan', 22)])\n",
    "print(marks_rdd.sortByKey('ascending').collect())\n"
   ]
  },
  {
   "cell_type": "code",
   "execution_count": 16,
   "id": "315d1306",
   "metadata": {},
   "outputs": [
    {
     "name": "stdout",
     "output_type": "stream",
     "text": [
      "Shreya [22, 28]\n",
      "Rohan [22, 22]\n",
      "Rahul [25, 23]\n",
      "Swati [26, 19]\n",
      "Abhay [29, 26]\n"
     ]
    }
   ],
   "source": [
    "# 3).groupByKey() Transformation\n",
    "#.groupByKey() transformation groups all the values in the given data with the same key together.\n",
    "marks_rdd = sc.parallelize([('Rahul', 25), ('Swati', 26), ('Shreya', 22), ('Abhay', 29), ('Rohan', 22), ('Rahul', 23), ('Swati', 19), ('Shreya', 28), ('Abhay', 26), ('Rohan', 22)])\n",
    "dict_rdd = marks_rdd.groupByKey().collect()\n",
    "for key, value in dict_rdd:\n",
    "    print(key, list(value))\n"
   ]
  },
  {
   "cell_type": "code",
   "execution_count": 17,
   "id": "8a1d701c",
   "metadata": {},
   "outputs": [
    {
     "name": "stdout",
     "output_type": "stream",
     "text": [
      "Rahul 2\n",
      "Swati 2\n",
      "Rohan 2\n",
      "Shreya 1\n",
      "Abhay 1\n"
     ]
    }
   ],
   "source": [
    "# Actions in Pair RDDs\n",
    "#1) The countByKey() Action\n",
    "# used to count the number of values for each key in the given data. \n",
    "marks_rdd = sc.parallelize([('Rahul', 25), ('Swati', 26), ('Rohan', 22), ('Rahul', 23), ('Swati', 19), ('Shreya', 28), ('Abhay', 26), ('Rohan', 22)])\n",
    "dict_rdd = marks_rdd.countByKey().items()\n",
    "for key, value in dict_rdd:\n",
    "    print(key, value)\n"
   ]
  },
  {
   "cell_type": "code",
   "execution_count": null,
   "id": "0aee3520",
   "metadata": {},
   "outputs": [],
   "source": [
    "Action in RDD\n",
    "# 6 saveAsTextFile() Action\n",
    "from pyspark import SparkContext\n",
    "sc=SparkContext.getOrCreate()\n",
    "save_rdd=sc.parallelize([12,44,66,77,44,32,11])\n",
    "save_rdd.saveAsTextFile('first.txt')"
   ]
  },
  {
   "cell_type": "code",
   "execution_count": null,
   "id": "e406cacd",
   "metadata": {},
   "outputs": [],
   "source": []
  }
 ],
 "metadata": {
  "kernelspec": {
   "display_name": "Python 3 (ipykernel)",
   "language": "python",
   "name": "python3"
  },
  "language_info": {
   "codemirror_mode": {
    "name": "ipython",
    "version": 3
   },
   "file_extension": ".py",
   "mimetype": "text/x-python",
   "name": "python",
   "nbconvert_exporter": "python",
   "pygments_lexer": "ipython3",
   "version": "3.11.5"
  }
 },
 "nbformat": 4,
 "nbformat_minor": 5
}
