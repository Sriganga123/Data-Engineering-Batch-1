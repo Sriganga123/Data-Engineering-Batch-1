{
 "cells": [
  {
   "cell_type": "code",
   "execution_count": 2,
   "id": "48cf9aca",
   "metadata": {},
   "outputs": [],
   "source": [
    "import pyspark\n",
    "import findspark\n",
    "findspark.init()"
   ]
  },
  {
   "cell_type": "code",
   "execution_count": 3,
   "id": "7a91da67",
   "metadata": {},
   "outputs": [
    {
     "data": {
      "text/html": [
       "\n",
       "            <div>\n",
       "                <p><b>SparkSession - in-memory</b></p>\n",
       "                \n",
       "        <div>\n",
       "            <p><b>SparkContext</b></p>\n",
       "\n",
       "            <p><a href=\"http://DESKTOP-HPGQI4S:4041\">Spark UI</a></p>\n",
       "\n",
       "            <dl>\n",
       "              <dt>Version</dt>\n",
       "                <dd><code>v3.5.0</code></dd>\n",
       "              <dt>Master</dt>\n",
       "                <dd><code>local[*]</code></dd>\n",
       "              <dt>AppName</dt>\n",
       "                <dd><code>group by and aggregations</code></dd>\n",
       "            </dl>\n",
       "        </div>\n",
       "        \n",
       "            </div>\n",
       "        "
      ],
      "text/plain": [
       "<pyspark.sql.session.SparkSession at 0x230f2b2ded0>"
      ]
     },
     "execution_count": 3,
     "metadata": {},
     "output_type": "execute_result"
    }
   ],
   "source": [
    "from pyspark.sql import SparkSession\n",
    "from pyspark import SparkContext\n",
    "spark=SparkSession.builder.appName('group by and aggregations').getOrCreate()\n",
    "spark"
   ]
  },
  {
   "cell_type": "code",
   "execution_count": 4,
   "id": "de030767",
   "metadata": {},
   "outputs": [],
   "source": [
    "import pandas as pd\n",
    "data=[(\"Sona\",\"Sales\",\"NY\",90000,34,10000),\n",
    "      (\"Mona\",\"Sales\",\"NY\",86000,56,20000),\n",
    "      (\"Bannu\",\"Sales\",\"CA\",81000,30,23000),\n",
    "      (\"Chinnu\",\"Finance\",\"CA\",90000,24,23000),\n",
    "    (\"Sunny\",\"Finance\",\"CA\",99000,40,24000),\n",
    "    (\"Raju\",\"Finance\",\"NY\",83000,36,19000),\n",
    "    (\"ravi\",\"Finance\",\"NY\",79000,53,15000),\n",
    "    (\"Dhana\",\"Marketing\",\"CA\",80000,25,18000),\n",
    "    (\"Ram\",\"Marketing\",\"NY\",91000,50,21000)]\n",
    "\n",
    "columns=[\"Name\",\"Department\",\"State\",\"Salary\",\"Age\",\"Bonus\"]\n",
    "\n",
    "df=pd.DataFrame(data,columns=columns)\n",
    "df1=spark.createDataFrame(df)"
   ]
  },
  {
   "cell_type": "code",
   "execution_count": 11,
   "id": "de39a6d2",
   "metadata": {},
   "outputs": [
    {
     "name": "stdout",
     "output_type": "stream",
     "text": [
      "<class 'pandas.core.frame.DataFrame'>\n"
     ]
    },
    {
     "data": {
      "text/html": [
       "<div>\n",
       "<style scoped>\n",
       "    .dataframe tbody tr th:only-of-type {\n",
       "        vertical-align: middle;\n",
       "    }\n",
       "\n",
       "    .dataframe tbody tr th {\n",
       "        vertical-align: top;\n",
       "    }\n",
       "\n",
       "    .dataframe thead th {\n",
       "        text-align: right;\n",
       "    }\n",
       "</style>\n",
       "<table border=\"1\" class=\"dataframe\">\n",
       "  <thead>\n",
       "    <tr style=\"text-align: right;\">\n",
       "      <th></th>\n",
       "      <th>Name</th>\n",
       "      <th>Department</th>\n",
       "      <th>State</th>\n",
       "      <th>Salary</th>\n",
       "      <th>Age</th>\n",
       "      <th>Bonus</th>\n",
       "    </tr>\n",
       "  </thead>\n",
       "  <tbody>\n",
       "    <tr>\n",
       "      <th>0</th>\n",
       "      <td>Sona</td>\n",
       "      <td>Sales</td>\n",
       "      <td>NY</td>\n",
       "      <td>90000</td>\n",
       "      <td>34</td>\n",
       "      <td>10000</td>\n",
       "    </tr>\n",
       "    <tr>\n",
       "      <th>1</th>\n",
       "      <td>Mona</td>\n",
       "      <td>Sales</td>\n",
       "      <td>NY</td>\n",
       "      <td>86000</td>\n",
       "      <td>56</td>\n",
       "      <td>20000</td>\n",
       "    </tr>\n",
       "    <tr>\n",
       "      <th>2</th>\n",
       "      <td>Bannu</td>\n",
       "      <td>Sales</td>\n",
       "      <td>CA</td>\n",
       "      <td>81000</td>\n",
       "      <td>30</td>\n",
       "      <td>23000</td>\n",
       "    </tr>\n",
       "    <tr>\n",
       "      <th>3</th>\n",
       "      <td>Chinnu</td>\n",
       "      <td>Finance</td>\n",
       "      <td>CA</td>\n",
       "      <td>90000</td>\n",
       "      <td>24</td>\n",
       "      <td>23000</td>\n",
       "    </tr>\n",
       "    <tr>\n",
       "      <th>4</th>\n",
       "      <td>Sunny</td>\n",
       "      <td>Finance</td>\n",
       "      <td>CA</td>\n",
       "      <td>99000</td>\n",
       "      <td>40</td>\n",
       "      <td>24000</td>\n",
       "    </tr>\n",
       "    <tr>\n",
       "      <th>5</th>\n",
       "      <td>Raju</td>\n",
       "      <td>Finance</td>\n",
       "      <td>NY</td>\n",
       "      <td>83000</td>\n",
       "      <td>36</td>\n",
       "      <td>19000</td>\n",
       "    </tr>\n",
       "    <tr>\n",
       "      <th>6</th>\n",
       "      <td>ravi</td>\n",
       "      <td>Finance</td>\n",
       "      <td>NY</td>\n",
       "      <td>79000</td>\n",
       "      <td>53</td>\n",
       "      <td>15000</td>\n",
       "    </tr>\n",
       "    <tr>\n",
       "      <th>7</th>\n",
       "      <td>Dhana</td>\n",
       "      <td>Marketing</td>\n",
       "      <td>CA</td>\n",
       "      <td>80000</td>\n",
       "      <td>25</td>\n",
       "      <td>18000</td>\n",
       "    </tr>\n",
       "    <tr>\n",
       "      <th>8</th>\n",
       "      <td>Ram</td>\n",
       "      <td>Marketing</td>\n",
       "      <td>NY</td>\n",
       "      <td>91000</td>\n",
       "      <td>50</td>\n",
       "      <td>21000</td>\n",
       "    </tr>\n",
       "  </tbody>\n",
       "</table>\n",
       "</div>"
      ],
      "text/plain": [
       "     Name Department State  Salary  Age  Bonus\n",
       "0    Sona      Sales    NY   90000   34  10000\n",
       "1    Mona      Sales    NY   86000   56  20000\n",
       "2   Bannu      Sales    CA   81000   30  23000\n",
       "3  Chinnu    Finance    CA   90000   24  23000\n",
       "4   Sunny    Finance    CA   99000   40  24000\n",
       "5    Raju    Finance    NY   83000   36  19000\n",
       "6    ravi    Finance    NY   79000   53  15000\n",
       "7   Dhana  Marketing    CA   80000   25  18000\n",
       "8     Ram  Marketing    NY   91000   50  21000"
      ]
     },
     "execution_count": 11,
     "metadata": {},
     "output_type": "execute_result"
    }
   ],
   "source": [
    "print(type(df))\n",
    "df"
   ]
  },
  {
   "cell_type": "code",
   "execution_count": 4,
   "id": "4c45cdaf",
   "metadata": {},
   "outputs": [
    {
     "name": "stdout",
     "output_type": "stream",
     "text": [
      "<class 'pyspark.sql.dataframe.DataFrame'>\n"
     ]
    }
   ],
   "source": [
    "print(type(df1))"
   ]
  },
  {
   "cell_type": "code",
   "execution_count": 5,
   "id": "8ccf52b2",
   "metadata": {},
   "outputs": [
    {
     "name": "stdout",
     "output_type": "stream",
     "text": [
      "+------+----------+-----+------+---+-----+\n",
      "|  Name|Department|State|Salary|Age|Bonus|\n",
      "+------+----------+-----+------+---+-----+\n",
      "|  Sona|     Sales|   NY| 90000| 34|10000|\n",
      "|  Mona|     Sales|   NY| 86000| 56|20000|\n",
      "| Bannu|     Sales|   CA| 81000| 30|23000|\n",
      "|Chinnu|   Finance|   CA| 90000| 24|23000|\n",
      "| Sunny|   Finance|   CA| 99000| 40|24000|\n",
      "|  Raju|   Finance|   NY| 83000| 36|19000|\n",
      "|  ravi|   Finance|   NY| 79000| 53|15000|\n",
      "| Dhana| Marketing|   CA| 80000| 25|18000|\n",
      "|   Ram| Marketing|   NY| 91000| 50|21000|\n",
      "+------+----------+-----+------+---+-----+\n",
      "\n"
     ]
    }
   ],
   "source": [
    "df1.show()"
   ]
  },
  {
   "cell_type": "code",
   "execution_count": 14,
   "id": "4e204ca1",
   "metadata": {},
   "outputs": [
    {
     "name": "stdout",
     "output_type": "stream",
     "text": [
      "root\n",
      " |-- Name: string (nullable = true)\n",
      " |-- Department: string (nullable = true)\n",
      " |-- State: string (nullable = true)\n",
      " |-- Salary: long (nullable = true)\n",
      " |-- Age: long (nullable = true)\n",
      " |-- Bonus: long (nullable = true)\n",
      "\n"
     ]
    }
   ],
   "source": [
    "df1.printSchema()"
   ]
  },
  {
   "cell_type": "code",
   "execution_count": 23,
   "id": "4ceadd9a",
   "metadata": {},
   "outputs": [
    {
     "name": "stdout",
     "output_type": "stream",
     "text": [
      "+----------+-----------+\n",
      "|Department|sum(Salary)|\n",
      "+----------+-----------+\n",
      "|     Sales|     257000|\n",
      "|   Finance|     351000|\n",
      "| Marketing|     171000|\n",
      "+----------+-----------+\n",
      "\n"
     ]
    }
   ],
   "source": [
    "# group by and aggregations\n",
    "# 1) sum of salary department wise\n",
    "df1.groupBy(\"Department\").sum(\"Salary\").show()"
   ]
  },
  {
   "cell_type": "code",
   "execution_count": 21,
   "id": "21f49583",
   "metadata": {},
   "outputs": [
    {
     "name": "stdout",
     "output_type": "stream",
     "text": [
      "+----------+-----+\n",
      "|Department|count|\n",
      "+----------+-----+\n",
      "|     Sales|    3|\n",
      "|   Finance|    4|\n",
      "| Marketing|    2|\n",
      "+----------+-----+\n",
      "\n"
     ]
    }
   ],
   "source": [
    "# 2) number of employees dept wise\n",
    "df1.groupBy(\"Department\").count().show()"
   ]
  },
  {
   "cell_type": "code",
   "execution_count": 24,
   "id": "263158f7",
   "metadata": {},
   "outputs": [
    {
     "name": "stdout",
     "output_type": "stream",
     "text": [
      "+----------+-----------+\n",
      "|Department|min(Salary)|\n",
      "+----------+-----------+\n",
      "|     Sales|      81000|\n",
      "|   Finance|      79000|\n",
      "| Marketing|      80000|\n",
      "+----------+-----------+\n",
      "\n"
     ]
    }
   ],
   "source": [
    "# 3) Minimum salary for each department\n",
    "df1.groupBy(\"Department\").min(\"Salary\").show()"
   ]
  },
  {
   "cell_type": "code",
   "execution_count": 25,
   "id": "4bd972be",
   "metadata": {},
   "outputs": [
    {
     "name": "stdout",
     "output_type": "stream",
     "text": [
      "+----------+-----------+\n",
      "|Department|max(Salary)|\n",
      "+----------+-----------+\n",
      "|     Sales|      90000|\n",
      "|   Finance|      99000|\n",
      "| Marketing|      91000|\n",
      "+----------+-----------+\n",
      "\n"
     ]
    }
   ],
   "source": [
    "# 4) Maximum salary of each dept\n",
    "df1.groupBy(\"Department\").max(\"Salary\").show()"
   ]
  },
  {
   "cell_type": "code",
   "execution_count": 26,
   "id": "9ba08914",
   "metadata": {},
   "outputs": [
    {
     "name": "stdout",
     "output_type": "stream",
     "text": [
      "+----------+-----------------+\n",
      "|Department|      avg(Salary)|\n",
      "+----------+-----------------+\n",
      "|     Sales|85666.66666666667|\n",
      "|   Finance|          87750.0|\n",
      "| Marketing|          85500.0|\n",
      "+----------+-----------------+\n",
      "\n"
     ]
    }
   ],
   "source": [
    "# 5) AVerage salary of each dept\n",
    "df1.groupBy(\"Department\").avg(\"Salary\").show()"
   ]
  },
  {
   "cell_type": "code",
   "execution_count": 6,
   "id": "11398a4c",
   "metadata": {},
   "outputs": [
    {
     "name": "stdout",
     "output_type": "stream",
     "text": [
      "+----------+-----------------+\n",
      "|Department|      avg(Salary)|\n",
      "+----------+-----------------+\n",
      "|     Sales|85666.66666666667|\n",
      "|   Finance|          87750.0|\n",
      "| Marketing|          85500.0|\n",
      "+----------+-----------------+\n",
      "\n"
     ]
    }
   ],
   "source": [
    "# 6) Mean of salary dept wise\n",
    "df1.groupBy(\"Department\").mean(\"Salary\").show()"
   ]
  },
  {
   "cell_type": "code",
   "execution_count": 29,
   "id": "7a1ee90d",
   "metadata": {},
   "outputs": [
    {
     "name": "stdout",
     "output_type": "stream",
     "text": [
      "+----------+----------+\n",
      "|Department|sum(Bonus)|\n",
      "+----------+----------+\n",
      "|     Sales|     53000|\n",
      "|   Finance|     81000|\n",
      "| Marketing|     39000|\n",
      "+----------+----------+\n",
      "\n"
     ]
    }
   ],
   "source": [
    "# 7) Sum of bonus given by each dept\n",
    "df1.groupBy(\"Department\").sum(\"Bonus\").show()"
   ]
  },
  {
   "cell_type": "code",
   "execution_count": 31,
   "id": "a75e7048",
   "metadata": {},
   "outputs": [
    {
     "name": "stdout",
     "output_type": "stream",
     "text": [
      "+-------+-----+----------+-----+-----------------+------------------+------------------+\n",
      "|summary| Name|Department|State|           Salary|               Age|             Bonus|\n",
      "+-------+-----+----------+-----+-----------------+------------------+------------------+\n",
      "|  count|    9|         9|    9|                9|                 9|                 9|\n",
      "|   mean| NULL|      NULL| NULL|86555.55555555556|38.666666666666664|19222.222222222223|\n",
      "| stddev| NULL|      NULL| NULL|6540.472290116195|11.947803145348521| 4465.920335658087|\n",
      "|    min|Bannu|   Finance|   CA|            79000|                24|             10000|\n",
      "|    max| ravi|     Sales|   NY|            99000|                56|             24000|\n",
      "+-------+-----+----------+-----+-----------------+------------------+------------------+\n",
      "\n"
     ]
    }
   ],
   "source": [
    "# 8) Summary statistics\n",
    "df1.describe().show()"
   ]
  },
  {
   "cell_type": "code",
   "execution_count": 34,
   "id": "34823f35",
   "metadata": {},
   "outputs": [
    {
     "name": "stdout",
     "output_type": "stream",
     "text": [
      "+----------+-----+-----------+----------+\n",
      "|Department|State|sum(Salary)|sum(Bonus)|\n",
      "+----------+-----+-----------+----------+\n",
      "|     Sales|   NY|     176000|     30000|\n",
      "|     Sales|   CA|      81000|     23000|\n",
      "|   Finance|   CA|     189000|     47000|\n",
      "|   Finance|   NY|     162000|     34000|\n",
      "| Marketing|   NY|      91000|     21000|\n",
      "| Marketing|   CA|      80000|     18000|\n",
      "+----------+-----+-----------+----------+\n",
      "\n"
     ]
    }
   ],
   "source": [
    "# group by multiple columns\n",
    "# group by department,state and find sum of salary and bonus\n",
    "df1.groupBy(\"Department\",\"State\").sum(\"Salary\",\"Bonus\").show()\n",
    "\n"
   ]
  },
  {
   "cell_type": "code",
   "execution_count": 51,
   "id": "6aaf689a",
   "metadata": {},
   "outputs": [
    {
     "name": "stdout",
     "output_type": "stream",
     "text": [
      "+----------+----------+-----------------+----------+----------+-----------------+-----------+\n",
      "|Department|sum_salary|       avg_salary|Min_salary|Max_Salary|      Mean Salary|Total count|\n",
      "+----------+----------+-----------------+----------+----------+-----------------+-----------+\n",
      "|     Sales|    257000|85666.66666666667|     81000|     90000|85666.66666666667|          3|\n",
      "|   Finance|    351000|          87750.0|     79000|     99000|          87750.0|          4|\n",
      "| Marketing|    171000|          85500.0|     80000|     91000|          85500.0|          2|\n",
      "+----------+----------+-----------------+----------+----------+-----------------+-----------+\n",
      "\n"
     ]
    }
   ],
   "source": [
    "# Running more aggregates at a time\n",
    "# Example-1\n",
    "from pyspark.sql.functions import sum,avg,min,max,mean,count\n",
    "df1.groupBy(\"Department\").agg(sum(\"Salary\").alias(\"sum_salary\"),\n",
    "            avg(\"Salary\").alias(\"avg_salary\"),\n",
    "                min(\"Salary\").alias(\"Min_salary\"),\n",
    "            max(\"Salary\").alias(\"Max_Salary\"),\n",
    "            mean(\"Salary\").alias(\"Mean Salary\"),\n",
    "            count(\"*\").alias(\"Total count\")).show()"
   ]
  },
  {
   "cell_type": "code",
   "execution_count": null,
   "id": "bf61ba3e",
   "metadata": {},
   "outputs": [],
   "source": [
    "# Example-2\n",
    "# Aggregate functions using agg for bonus for each state\n",
    "from pyspark.sql.functions import min,max,sum,avg,count,mean"
   ]
  },
  {
   "cell_type": "code",
   "execution_count": 52,
   "id": "f1089fcc",
   "metadata": {},
   "outputs": [
    {
     "name": "stdout",
     "output_type": "stream",
     "text": [
      "+-----+---------+---------+---------+---------+----------+-----------+\n",
      "|State|Bonus_sum|Bonus_max|Bonus_min|Bonus_avg|Bonus_mean|Total count|\n",
      "+-----+---------+---------+---------+---------+----------+-----------+\n",
      "|   NY|    85000|    21000|    10000|  17000.0|   17000.0|          5|\n",
      "|   CA|    88000|    24000|    18000|  22000.0|   22000.0|          4|\n",
      "+-----+---------+---------+---------+---------+----------+-----------+\n",
      "\n"
     ]
    }
   ],
   "source": [
    "df1.groupby(\"State\").agg(sum(\"Bonus\").alias(\"Bonus_sum\"),\n",
    "                        max(\"Bonus\").alias(\"Bonus_max\"),\n",
    "                        min(\"Bonus\").alias(\"Bonus_min\"),\n",
    "                        avg(\"Bonus\").alias(\"Bonus_avg\"),\n",
    "                        mean(\"Bonus\").alias(\"Bonus_mean\"),\n",
    "                        count(\"*\").alias(\"Total count\")).show()"
   ]
  },
  {
   "cell_type": "code",
   "execution_count": 49,
   "id": "c9bbc063",
   "metadata": {},
   "outputs": [
    {
     "name": "stdout",
     "output_type": "stream",
     "text": [
      "+-----+---------+---------+---------+\n",
      "|State|Bonus_sum|Bonus_max|Bonus_min|\n",
      "+-----+---------+---------+---------+\n",
      "|   CA|    88000|    24000|    18000|\n",
      "+-----+---------+---------+---------+\n",
      "\n"
     ]
    }
   ],
   "source": [
    "# filtering the aggregated data\n",
    "from pyspark.sql.functions import col\n",
    "df1.groupby(\"State\").agg(sum(\"Bonus\").alias(\"Bonus_sum\"),\n",
    "                        max(\"Bonus\").alias(\"Bonus_max\"),\n",
    "                        min(\"Bonus\").alias(\"Bonus_min\")).where(col(\"Bonus_min\")>12000).show()"
   ]
  },
  {
   "cell_type": "code",
   "execution_count": 56,
   "id": "77a6eaef",
   "metadata": {},
   "outputs": [
    {
     "data": {
      "text/plain": [
       "[Row(approx_count_distinct(State)=2)]"
      ]
     },
     "execution_count": 56,
     "metadata": {},
     "output_type": "execute_result"
    }
   ],
   "source": [
    "# Aggregations without group by\n",
    "# 1) approx_count_distinct\n",
    "\n",
    "# approx_count_distinct() function returns the count of distinct items in a group.\n",
    "from pyspark.sql.functions import *\n",
    "df1.select(approx_count_distinct(\"State\")).collect()"
   ]
  },
  {
   "cell_type": "code",
   "execution_count": 61,
   "id": "24fc4842",
   "metadata": {},
   "outputs": [
    {
     "name": "stdout",
     "output_type": "stream",
     "text": [
      "+---------------------------------------------------------------+\n",
      "|collect_list(Salary)                                           |\n",
      "+---------------------------------------------------------------+\n",
      "|[90000, 86000, 81000, 90000, 99000, 83000, 79000, 80000, 91000]|\n",
      "+---------------------------------------------------------------+\n",
      "\n"
     ]
    }
   ],
   "source": [
    "# 2) collect_list Aggregate Function\n",
    "#collect_list() function returns all values from an input column with duplicates.\n",
    "\n",
    "df1.select(collect_list(\"Salary\")).show(truncate=False)"
   ]
  },
  {
   "cell_type": "code",
   "execution_count": 62,
   "id": "a884503b",
   "metadata": {},
   "outputs": [
    {
     "name": "stdout",
     "output_type": "stream",
     "text": [
      "+--------------------------------------------------------+\n",
      "|collect_set(Salary)                                     |\n",
      "+--------------------------------------------------------+\n",
      "|[79000, 83000, 91000, 99000, 90000, 80000, 86000, 81000]|\n",
      "+--------------------------------------------------------+\n",
      "\n"
     ]
    }
   ],
   "source": [
    "#3) collect_set Aggregate Function\n",
    "#collect_set() function returns all values from an input column with duplicate values eliminated.\n",
    "\n",
    "df1.select(collect_set(\"Salary\")).show(truncate=False)"
   ]
  },
  {
   "cell_type": "code",
   "execution_count": 64,
   "id": "c0b06e0e",
   "metadata": {},
   "outputs": [
    {
     "name": "stdout",
     "output_type": "stream",
     "text": [
      "+-----------------+\n",
      "|       Avg_Salary|\n",
      "+-----------------+\n",
      "|86555.55555555556|\n",
      "+-----------------+\n",
      "\n",
      "+-----------+\n",
      "|Total Count|\n",
      "+-----------+\n",
      "|          9|\n",
      "+-----------+\n",
      "\n"
     ]
    }
   ],
   "source": [
    "# 4) avg\n",
    "# 5) count\n",
    "df1.select(avg(\"Salary\").alias(\"Avg_Salary\")).show()\n",
    "df1.select(count(\"*\").alias(\"Total Count\")).show()"
   ]
  },
  {
   "cell_type": "code",
   "execution_count": 66,
   "id": "bbbfefa8",
   "metadata": {},
   "outputs": [
    {
     "name": "stdout",
     "output_type": "stream",
     "text": [
      "+------------+\n",
      "|First Salary|\n",
      "+------------+\n",
      "|       90000|\n",
      "+------------+\n",
      "\n",
      "+-----------+\n",
      "|Last Salary|\n",
      "+-----------+\n",
      "|      91000|\n",
      "+-----------+\n",
      "\n",
      "+----------+\n",
      "|Max_Salary|\n",
      "+----------+\n",
      "|     99000|\n",
      "+----------+\n",
      "\n",
      "+----------+\n",
      "|Min_Salary|\n",
      "+----------+\n",
      "|     79000|\n",
      "+----------+\n",
      "\n",
      "+-----------------+\n",
      "|      Mean_Salary|\n",
      "+-----------------+\n",
      "|86555.55555555556|\n",
      "+-----------------+\n",
      "\n",
      "+----------+\n",
      "|sum_Salary|\n",
      "+----------+\n",
      "|    779000|\n",
      "+----------+\n",
      "\n",
      "+--------------------------------+\n",
      "|Sum of Salary of Distinct values|\n",
      "+--------------------------------+\n",
      "|                          689000|\n",
      "+--------------------------------+\n",
      "\n",
      "+-------------------------+\n",
      "|Standard Deviation_Salary|\n",
      "+-------------------------+\n",
      "|        6540.472290116195|\n",
      "+-------------------------+\n",
      "\n",
      "+-------------------+\n",
      "|    Variance_Salary|\n",
      "+-------------------+\n",
      "|4.277777777777778E7|\n",
      "+-------------------+\n",
      "\n"
     ]
    }
   ],
   "source": [
    "# 6) first()------gives first element\n",
    "# 7) last()-------gives last element\n",
    "# 8) max()\n",
    "# 9) min()\n",
    "# 10) mean()\n",
    "# 11) sum()\n",
    "# 12) sumDistinct()\n",
    "# 13) stddev()-----------Standard Deviation\n",
    "# 14) variance()\n",
    "\n",
    "\n",
    "df1.select(first(\"Salary\").alias(\"First Salary\")).show()\n",
    "df1.select(last(\"Salary\").alias(\"Last Salary\")).show()\n",
    "df1.select(max(\"Salary\").alias(\"Max_Salary\")).show()\n",
    "df1.select(min(\"Salary\").alias(\"Min_Salary\")).show()\n",
    "df1.select(mean(\"Salary\").alias(\"Mean_Salary\")).show()\n",
    "df1.select(sum(\"Salary\").alias(\"sum_Salary\")).show()\n",
    "df1.select(sum_distinct(\"Salary\").alias(\"Sum of Salary of Distinct values\")).show()\n",
    "df1.select(stddev(\"Salary\").alias(\"Standard Deviation_Salary\")).show()\n",
    "df1.select(variance(\"Salary\").alias(\"Variance_Salary\")).show()\n",
    "\n",
    "\n",
    "\n"
   ]
  },
  {
   "cell_type": "code",
   "execution_count": 73,
   "id": "f16f7d79",
   "metadata": {},
   "outputs": [
    {
     "name": "stdout",
     "output_type": "stream",
     "text": [
      "root\n",
      " |-- Name: string (nullable = true)\n",
      " |-- Department: string (nullable = true)\n",
      " |-- State: string (nullable = true)\n",
      " |-- Salary: long (nullable = true)\n",
      " |-- Bonus: long (nullable = true)\n",
      "\n",
      "+------+----------+-----+------+-----+\n",
      "|  Name|Department|State|Salary|Bonus|\n",
      "+------+----------+-----+------+-----+\n",
      "|  Sona|     Sales|   NY| 90000|10000|\n",
      "|  Mona|     Sales|   NY| 86000|20000|\n",
      "| Bannu|     Sales|   CA| 81000|23000|\n",
      "|Chinnu|   Finance|   CA| 90000|23000|\n",
      "| Sunny|   Finance|   CA| 99000|24000|\n",
      "|  Raju|   Finance|   NY| 83000|19000|\n",
      "|  ravi|   Finance|   NY| 79000|15000|\n",
      "| Dhana| Marketing|   CA| 80000|18000|\n",
      "|   Ram| Marketing|   NY| 91000|21000|\n",
      "+------+----------+-----+------+-----+\n",
      "\n"
     ]
    }
   ],
   "source": [
    "######## Dropping\n",
    "#1) Drop single Column From DataFrame\n",
    "\n",
    "# i)\n",
    "df1.drop(\"Age\").printSchema()\n",
    "df1.drop(\"Age\").show()"
   ]
  },
  {
   "cell_type": "code",
   "execution_count": 75,
   "id": "acf3a025",
   "metadata": {},
   "outputs": [
    {
     "name": "stdout",
     "output_type": "stream",
     "text": [
      "+------+----------+-----+------+---+-----+\n",
      "|  Name|Department|State|Salary|Age|Bonus|\n",
      "+------+----------+-----+------+---+-----+\n",
      "|  Sona|     Sales|   NY| 90000| 34|10000|\n",
      "|  Mona|     Sales|   NY| 86000| 56|20000|\n",
      "| Bannu|     Sales|   CA| 81000| 30|23000|\n",
      "|Chinnu|   Finance|   CA| 90000| 24|23000|\n",
      "| Sunny|   Finance|   CA| 99000| 40|24000|\n",
      "|  Raju|   Finance|   NY| 83000| 36|19000|\n",
      "|  ravi|   Finance|   NY| 79000| 53|15000|\n",
      "| Dhana| Marketing|   CA| 80000| 25|18000|\n",
      "|   Ram| Marketing|   NY| 91000| 50|21000|\n",
      "+------+----------+-----+------+---+-----+\n",
      "\n"
     ]
    }
   ],
   "source": [
    "df1.show()"
   ]
  },
  {
   "cell_type": "code",
   "execution_count": 78,
   "id": "5a85537f",
   "metadata": {},
   "outputs": [
    {
     "name": "stdout",
     "output_type": "stream",
     "text": [
      "root\n",
      " |-- Name: string (nullable = true)\n",
      " |-- Department: string (nullable = true)\n",
      " |-- State: string (nullable = true)\n",
      " |-- Age: long (nullable = true)\n",
      " |-- Bonus: long (nullable = true)\n",
      "\n",
      "+------+----------+-----+---+-----+\n",
      "|  Name|Department|State|Age|Bonus|\n",
      "+------+----------+-----+---+-----+\n",
      "|  Sona|     Sales|   NY| 34|10000|\n",
      "|  Mona|     Sales|   NY| 56|20000|\n",
      "| Bannu|     Sales|   CA| 30|23000|\n",
      "|Chinnu|   Finance|   CA| 24|23000|\n",
      "| Sunny|   Finance|   CA| 40|24000|\n",
      "|  Raju|   Finance|   NY| 36|19000|\n",
      "|  ravi|   Finance|   NY| 53|15000|\n",
      "| Dhana| Marketing|   CA| 25|18000|\n",
      "|   Ram| Marketing|   NY| 50|21000|\n",
      "+------+----------+-----+---+-----+\n",
      "\n"
     ]
    }
   ],
   "source": [
    "# ii)\n",
    "\n",
    "df1.drop(col(\"Salary\")).printSchema()\n",
    "df1.drop(col(\"Salary\")).show()"
   ]
  },
  {
   "cell_type": "code",
   "execution_count": 79,
   "id": "14617947",
   "metadata": {},
   "outputs": [
    {
     "name": "stdout",
     "output_type": "stream",
     "text": [
      "root\n",
      " |-- Department: string (nullable = true)\n",
      " |-- State: string (nullable = true)\n",
      " |-- Salary: long (nullable = true)\n",
      " |-- Age: long (nullable = true)\n",
      " |-- Bonus: long (nullable = true)\n",
      "\n",
      "+----------+-----+------+---+-----+\n",
      "|Department|State|Salary|Age|Bonus|\n",
      "+----------+-----+------+---+-----+\n",
      "|     Sales|   NY| 90000| 34|10000|\n",
      "|     Sales|   NY| 86000| 56|20000|\n",
      "|     Sales|   CA| 81000| 30|23000|\n",
      "|   Finance|   CA| 90000| 24|23000|\n",
      "|   Finance|   CA| 99000| 40|24000|\n",
      "|   Finance|   NY| 83000| 36|19000|\n",
      "|   Finance|   NY| 79000| 53|15000|\n",
      "| Marketing|   CA| 80000| 25|18000|\n",
      "| Marketing|   NY| 91000| 50|21000|\n",
      "+----------+-----+------+---+-----+\n",
      "\n"
     ]
    }
   ],
   "source": [
    "# iii)\n",
    "\n",
    "df1.drop(df1.Name).printSchema()\n",
    "df1.drop(df1.Name).show()"
   ]
  },
  {
   "cell_type": "code",
   "execution_count": 80,
   "id": "424b7370",
   "metadata": {},
   "outputs": [
    {
     "name": "stdout",
     "output_type": "stream",
     "text": [
      "root\n",
      " |-- State: string (nullable = true)\n",
      " |-- Salary: long (nullable = true)\n",
      " |-- Age: long (nullable = true)\n",
      " |-- Bonus: long (nullable = true)\n",
      "\n",
      "+-----+------+---+-----+\n",
      "|State|Salary|Age|Bonus|\n",
      "+-----+------+---+-----+\n",
      "|   NY| 90000| 34|10000|\n",
      "|   NY| 86000| 56|20000|\n",
      "|   CA| 81000| 30|23000|\n",
      "|   CA| 90000| 24|23000|\n",
      "|   CA| 99000| 40|24000|\n",
      "|   NY| 83000| 36|19000|\n",
      "|   NY| 79000| 53|15000|\n",
      "|   CA| 80000| 25|18000|\n",
      "|   NY| 91000| 50|21000|\n",
      "+-----+------+---+-----+\n",
      "\n"
     ]
    }
   ],
   "source": [
    "# 2) Dropping multiple columns\n",
    "# i)\n",
    "df1.drop(\"Name\",\"Department\").printSchema()\n",
    "df1.drop(\"Name\",\"Department\").show()"
   ]
  },
  {
   "cell_type": "code",
   "execution_count": 81,
   "id": "0dee5bf8",
   "metadata": {},
   "outputs": [
    {
     "name": "stdout",
     "output_type": "stream",
     "text": [
      "root\n",
      " |-- State: string (nullable = true)\n",
      " |-- Salary: long (nullable = true)\n",
      " |-- Age: long (nullable = true)\n",
      " |-- Bonus: long (nullable = true)\n",
      "\n",
      "+-----+------+---+-----+\n",
      "|State|Salary|Age|Bonus|\n",
      "+-----+------+---+-----+\n",
      "|   NY| 90000| 34|10000|\n",
      "|   NY| 86000| 56|20000|\n",
      "|   CA| 81000| 30|23000|\n",
      "|   CA| 90000| 24|23000|\n",
      "|   CA| 99000| 40|24000|\n",
      "|   NY| 83000| 36|19000|\n",
      "|   NY| 79000| 53|15000|\n",
      "|   CA| 80000| 25|18000|\n",
      "|   NY| 91000| 50|21000|\n",
      "+-----+------+---+-----+\n",
      "\n"
     ]
    }
   ],
   "source": [
    "# ii)\n",
    "df1.drop(df1.Name,df1.Department).printSchema()\n",
    "df1.drop(df1.Name,df1.Department).show()"
   ]
  },
  {
   "cell_type": "code",
   "execution_count": 83,
   "id": "07abdbdd",
   "metadata": {},
   "outputs": [
    {
     "name": "stdout",
     "output_type": "stream",
     "text": [
      "root\n",
      " |-- State: string (nullable = true)\n",
      " |-- Salary: long (nullable = true)\n",
      " |-- Age: long (nullable = true)\n",
      " |-- Bonus: long (nullable = true)\n",
      "\n",
      "+-----+------+---+-----+\n",
      "|State|Salary|Age|Bonus|\n",
      "+-----+------+---+-----+\n",
      "|   NY| 90000| 34|10000|\n",
      "|   NY| 86000| 56|20000|\n",
      "|   CA| 81000| 30|23000|\n",
      "|   CA| 90000| 24|23000|\n",
      "|   CA| 99000| 40|24000|\n",
      "|   NY| 83000| 36|19000|\n",
      "|   NY| 79000| 53|15000|\n",
      "|   CA| 80000| 25|18000|\n",
      "|   NY| 91000| 50|21000|\n",
      "+-----+------+---+-----+\n",
      "\n"
     ]
    }
   ],
   "source": [
    "# iii)\n",
    "cols=[\"Name\",\"Department\"]\n",
    "df1.drop(*cols).printSchema()\n",
    "df1.drop(*cols).show()"
   ]
  },
  {
   "cell_type": "code",
   "execution_count": 84,
   "id": "7d54ce96",
   "metadata": {},
   "outputs": [
    {
     "name": "stdout",
     "output_type": "stream",
     "text": [
      "+------+----------+-----+------+---+-----+\n",
      "|  Name|Department|State|Salary|Age|Bonus|\n",
      "+------+----------+-----+------+---+-----+\n",
      "|  ravi|   Finance|   NY| 79000| 53|15000|\n",
      "| Dhana| Marketing|   CA| 80000| 25|18000|\n",
      "| Bannu|     Sales|   CA| 81000| 30|23000|\n",
      "|  Raju|   Finance|   NY| 83000| 36|19000|\n",
      "|  Mona|     Sales|   NY| 86000| 56|20000|\n",
      "|  Sona|     Sales|   NY| 90000| 34|10000|\n",
      "|Chinnu|   Finance|   CA| 90000| 24|23000|\n",
      "|   Ram| Marketing|   NY| 91000| 50|21000|\n",
      "| Sunny|   Finance|   CA| 99000| 40|24000|\n",
      "+------+----------+-----+------+---+-----+\n",
      "\n"
     ]
    }
   ],
   "source": [
    "############# Sorting\n",
    "# sort() or orderBy() function of PySpark DataFrame to sort DataFrame by ascending or descending order \n",
    "# based on single or multiple columns\n",
    "\n",
    "# 1) sort()\n",
    "\n",
    "# i) sorting one column in ascending order\n",
    "df1.sort(\"Salary\",ascending=True).show()"
   ]
  },
  {
   "cell_type": "code",
   "execution_count": 85,
   "id": "79843fa9",
   "metadata": {},
   "outputs": [
    {
     "name": "stdout",
     "output_type": "stream",
     "text": [
      "+------+----------+-----+------+---+-----+\n",
      "|  Name|Department|State|Salary|Age|Bonus|\n",
      "+------+----------+-----+------+---+-----+\n",
      "| Sunny|   Finance|   CA| 99000| 40|24000|\n",
      "|   Ram| Marketing|   NY| 91000| 50|21000|\n",
      "|  Sona|     Sales|   NY| 90000| 34|10000|\n",
      "|Chinnu|   Finance|   CA| 90000| 24|23000|\n",
      "|  Mona|     Sales|   NY| 86000| 56|20000|\n",
      "|  Raju|   Finance|   NY| 83000| 36|19000|\n",
      "| Bannu|     Sales|   CA| 81000| 30|23000|\n",
      "| Dhana| Marketing|   CA| 80000| 25|18000|\n",
      "|  ravi|   Finance|   NY| 79000| 53|15000|\n",
      "+------+----------+-----+------+---+-----+\n",
      "\n"
     ]
    }
   ],
   "source": [
    "# ii) sorting one column in descending order\n",
    "\n",
    "df1.sort(\"Salary\",ascending=False).show()"
   ]
  },
  {
   "cell_type": "code",
   "execution_count": 86,
   "id": "87360855",
   "metadata": {},
   "outputs": [
    {
     "name": "stdout",
     "output_type": "stream",
     "text": [
      "+------+----------+-----+------+---+-----+\n",
      "|  Name|Department|State|Salary|Age|Bonus|\n",
      "+------+----------+-----+------+---+-----+\n",
      "|  ravi|   Finance|   NY| 79000| 53|15000|\n",
      "| Dhana| Marketing|   CA| 80000| 25|18000|\n",
      "| Bannu|     Sales|   CA| 81000| 30|23000|\n",
      "|  Raju|   Finance|   NY| 83000| 36|19000|\n",
      "|  Mona|     Sales|   NY| 86000| 56|20000|\n",
      "|  Sona|     Sales|   NY| 90000| 34|10000|\n",
      "|Chinnu|   Finance|   CA| 90000| 24|23000|\n",
      "|   Ram| Marketing|   NY| 91000| 50|21000|\n",
      "| Sunny|   Finance|   CA| 99000| 40|24000|\n",
      "+------+----------+-----+------+---+-----+\n",
      "\n"
     ]
    }
   ],
   "source": [
    "# iii) sorting two columns one in ascending and other in descending\n",
    "\n",
    "df1.sort(\"Salary\",\"Age\",ascending=[True,False]).show()"
   ]
  },
  {
   "cell_type": "code",
   "execution_count": 87,
   "id": "e4f9be55",
   "metadata": {},
   "outputs": [
    {
     "name": "stdout",
     "output_type": "stream",
     "text": [
      "+------+----------+-----+------+---+-----+\n",
      "|  Name|Department|State|Salary|Age|Bonus|\n",
      "+------+----------+-----+------+---+-----+\n",
      "|  ravi|   Finance|   NY| 79000| 53|15000|\n",
      "| Dhana| Marketing|   CA| 80000| 25|18000|\n",
      "| Bannu|     Sales|   CA| 81000| 30|23000|\n",
      "|  Raju|   Finance|   NY| 83000| 36|19000|\n",
      "|  Mona|     Sales|   NY| 86000| 56|20000|\n",
      "|Chinnu|   Finance|   CA| 90000| 24|23000|\n",
      "|  Sona|     Sales|   NY| 90000| 34|10000|\n",
      "|   Ram| Marketing|   NY| 91000| 50|21000|\n",
      "| Sunny|   Finance|   CA| 99000| 40|24000|\n",
      "+------+----------+-----+------+---+-----+\n",
      "\n"
     ]
    }
   ],
   "source": [
    "# iv) by default sorts in ascending order\n",
    "df1.sort(col(\"Salary\"),col(\"Age\")).show()"
   ]
  },
  {
   "cell_type": "code",
   "execution_count": 88,
   "id": "603d0ace",
   "metadata": {},
   "outputs": [
    {
     "name": "stdout",
     "output_type": "stream",
     "text": [
      "+------+----------+-----+------+---+-----+\n",
      "|  Name|Department|State|Salary|Age|Bonus|\n",
      "+------+----------+-----+------+---+-----+\n",
      "|  ravi|   Finance|   NY| 79000| 53|15000|\n",
      "| Dhana| Marketing|   CA| 80000| 25|18000|\n",
      "| Bannu|     Sales|   CA| 81000| 30|23000|\n",
      "|  Raju|   Finance|   NY| 83000| 36|19000|\n",
      "|  Mona|     Sales|   NY| 86000| 56|20000|\n",
      "|Chinnu|   Finance|   CA| 90000| 24|23000|\n",
      "|  Sona|     Sales|   NY| 90000| 34|10000|\n",
      "|   Ram| Marketing|   NY| 91000| 50|21000|\n",
      "| Sunny|   Finance|   CA| 99000| 40|24000|\n",
      "+------+----------+-----+------+---+-----+\n",
      "\n"
     ]
    }
   ],
   "source": [
    "# v)\n",
    "df1.sort(df1.Salary,df1.Age).show()"
   ]
  },
  {
   "cell_type": "code",
   "execution_count": 89,
   "id": "39c58eac",
   "metadata": {},
   "outputs": [
    {
     "name": "stdout",
     "output_type": "stream",
     "text": [
      "+------+----------+-----+------+---+-----+\n",
      "|  Name|Department|State|Salary|Age|Bonus|\n",
      "+------+----------+-----+------+---+-----+\n",
      "| Bannu|     Sales|   CA| 81000| 30|23000|\n",
      "|Chinnu|   Finance|   CA| 90000| 24|23000|\n",
      "| Dhana| Marketing|   CA| 80000| 25|18000|\n",
      "|  Mona|     Sales|   NY| 86000| 56|20000|\n",
      "|  Raju|   Finance|   NY| 83000| 36|19000|\n",
      "|   Ram| Marketing|   NY| 91000| 50|21000|\n",
      "|  Sona|     Sales|   NY| 90000| 34|10000|\n",
      "| Sunny|   Finance|   CA| 99000| 40|24000|\n",
      "|  ravi|   Finance|   NY| 79000| 53|15000|\n",
      "+------+----------+-----+------+---+-----+\n",
      "\n"
     ]
    }
   ],
   "source": [
    "# 2) orderBy()  ----- by default sorts in ascending order\n",
    "\n",
    "df1.orderBy(\"Name\").show()"
   ]
  },
  {
   "cell_type": "code",
   "execution_count": 90,
   "id": "68c680e6",
   "metadata": {},
   "outputs": [
    {
     "name": "stdout",
     "output_type": "stream",
     "text": [
      "+------+----------+-----+------+---+-----+\n",
      "|  Name|Department|State|Salary|Age|Bonus|\n",
      "+------+----------+-----+------+---+-----+\n",
      "|  ravi|   Finance|   NY| 79000| 53|15000|\n",
      "|  Raju|   Finance|   NY| 83000| 36|19000|\n",
      "|Chinnu|   Finance|   CA| 90000| 24|23000|\n",
      "| Sunny|   Finance|   CA| 99000| 40|24000|\n",
      "| Dhana| Marketing|   CA| 80000| 25|18000|\n",
      "|   Ram| Marketing|   NY| 91000| 50|21000|\n",
      "| Bannu|     Sales|   CA| 81000| 30|23000|\n",
      "|  Mona|     Sales|   NY| 86000| 56|20000|\n",
      "|  Sona|     Sales|   NY| 90000| 34|10000|\n",
      "+------+----------+-----+------+---+-----+\n",
      "\n"
     ]
    }
   ],
   "source": [
    "# multiple columns using orderBy()\n",
    "\n",
    "df1.orderBy(\"Department\",\"Salary\").show()"
   ]
  },
  {
   "cell_type": "code",
   "execution_count": 91,
   "id": "10dbff57",
   "metadata": {},
   "outputs": [
    {
     "name": "stdout",
     "output_type": "stream",
     "text": [
      "+------+----------+-----+------+---+-----+\n",
      "|  Name|Department|State|Salary|Age|Bonus|\n",
      "+------+----------+-----+------+---+-----+\n",
      "|  ravi|   Finance|   NY| 79000| 53|15000|\n",
      "|  Raju|   Finance|   NY| 83000| 36|19000|\n",
      "|Chinnu|   Finance|   CA| 90000| 24|23000|\n",
      "| Sunny|   Finance|   CA| 99000| 40|24000|\n",
      "| Dhana| Marketing|   CA| 80000| 25|18000|\n",
      "|   Ram| Marketing|   NY| 91000| 50|21000|\n",
      "| Bannu|     Sales|   CA| 81000| 30|23000|\n",
      "|  Mona|     Sales|   NY| 86000| 56|20000|\n",
      "|  Sona|     Sales|   NY| 90000| 34|10000|\n",
      "+------+----------+-----+------+---+-----+\n",
      "\n"
     ]
    }
   ],
   "source": [
    "df1.orderBy(col(\"Department\"),col(\"Salary\")).show()"
   ]
  },
  {
   "cell_type": "code",
   "execution_count": 99,
   "id": "4d71f288",
   "metadata": {},
   "outputs": [],
   "source": [
    "# 3.Sort by Ascending (ASC)\n",
    "from pyspark.sql.functions import asc,desc\n"
   ]
  },
  {
   "cell_type": "code",
   "execution_count": 102,
   "id": "6157cdd7",
   "metadata": {},
   "outputs": [
    {
     "name": "stdout",
     "output_type": "stream",
     "text": [
      "+------+----------+-----+------+---+-----+\n",
      "|  Name|Department|State|Salary|Age|Bonus|\n",
      "+------+----------+-----+------+---+-----+\n",
      "|Chinnu|   Finance|   CA| 90000| 24|23000|\n",
      "|  ravi|   Finance|   NY| 79000| 53|15000|\n",
      "| Sunny|   Finance|   CA| 99000| 40|24000|\n",
      "|  Raju|   Finance|   NY| 83000| 36|19000|\n",
      "| Dhana| Marketing|   CA| 80000| 25|18000|\n",
      "|   Ram| Marketing|   NY| 91000| 50|21000|\n",
      "|  Sona|     Sales|   NY| 90000| 34|10000|\n",
      "| Bannu|     Sales|   CA| 81000| 30|23000|\n",
      "|  Mona|     Sales|   NY| 86000| 56|20000|\n",
      "+------+----------+-----+------+---+-----+\n",
      "\n"
     ]
    }
   ],
   "source": [
    "df1.sort(df1.Department.asc()).show()"
   ]
  },
  {
   "cell_type": "code",
   "execution_count": 104,
   "id": "55cbee7e",
   "metadata": {},
   "outputs": [
    {
     "name": "stdout",
     "output_type": "stream",
     "text": [
      "+------+----------+-----+------+---+-----+\n",
      "|  Name|Department|State|Salary|Age|Bonus|\n",
      "+------+----------+-----+------+---+-----+\n",
      "|Chinnu|   Finance|   CA| 90000| 24|23000|\n",
      "|  Raju|   Finance|   NY| 83000| 36|19000|\n",
      "| Sunny|   Finance|   CA| 99000| 40|24000|\n",
      "|  ravi|   Finance|   NY| 79000| 53|15000|\n",
      "| Dhana| Marketing|   CA| 80000| 25|18000|\n",
      "|   Ram| Marketing|   NY| 91000| 50|21000|\n",
      "| Bannu|     Sales|   CA| 81000| 30|23000|\n",
      "|  Sona|     Sales|   NY| 90000| 34|10000|\n",
      "|  Mona|     Sales|   NY| 86000| 56|20000|\n",
      "+------+----------+-----+------+---+-----+\n",
      "\n"
     ]
    }
   ],
   "source": [
    "df1.sort(df1.Department.asc(),df1.Age.asc()).show()"
   ]
  },
  {
   "cell_type": "code",
   "execution_count": 108,
   "id": "8b3e3557",
   "metadata": {},
   "outputs": [
    {
     "name": "stdout",
     "output_type": "stream",
     "text": [
      "+------+----------+-----+------+---+-----+\n",
      "|Name  |Department|State|Salary|Age|Bonus|\n",
      "+------+----------+-----+------+---+-----+\n",
      "|Chinnu|Finance   |CA   |90000 |24 |23000|\n",
      "|Sunny |Finance   |CA   |99000 |40 |24000|\n",
      "|Raju  |Finance   |NY   |83000 |36 |19000|\n",
      "|ravi  |Finance   |NY   |79000 |53 |15000|\n",
      "|Dhana |Marketing |CA   |80000 |25 |18000|\n",
      "|Ram   |Marketing |NY   |91000 |50 |21000|\n",
      "|Bannu |Sales     |CA   |81000 |30 |23000|\n",
      "|Mona  |Sales     |NY   |86000 |56 |20000|\n",
      "|Sona  |Sales     |NY   |90000 |34 |10000|\n",
      "+------+----------+-----+------+---+-----+\n",
      "\n"
     ]
    }
   ],
   "source": [
    "df1.sort(col(\"Department\").asc(),col(\"State\").asc()).show(truncate=False)"
   ]
  },
  {
   "cell_type": "code",
   "execution_count": 109,
   "id": "77152b12",
   "metadata": {},
   "outputs": [
    {
     "name": "stdout",
     "output_type": "stream",
     "text": [
      "+------+----------+-----+------+---+-----+\n",
      "|  Name|Department|State|Salary|Age|Bonus|\n",
      "+------+----------+-----+------+---+-----+\n",
      "|Chinnu|   Finance|   CA| 90000| 24|23000|\n",
      "| Sunny|   Finance|   CA| 99000| 40|24000|\n",
      "|  ravi|   Finance|   NY| 79000| 53|15000|\n",
      "|  Raju|   Finance|   NY| 83000| 36|19000|\n",
      "| Dhana| Marketing|   CA| 80000| 25|18000|\n",
      "|   Ram| Marketing|   NY| 91000| 50|21000|\n",
      "| Bannu|     Sales|   CA| 81000| 30|23000|\n",
      "|  Mona|     Sales|   NY| 86000| 56|20000|\n",
      "|  Sona|     Sales|   NY| 90000| 34|10000|\n",
      "+------+----------+-----+------+---+-----+\n",
      "\n"
     ]
    }
   ],
   "source": [
    "df1.orderBy(col(\"Department\").asc(),col(\"State\").asc(),col(\"Salary\").asc()).show()"
   ]
  },
  {
   "cell_type": "code",
   "execution_count": 111,
   "id": "42435ed4",
   "metadata": {},
   "outputs": [
    {
     "name": "stdout",
     "output_type": "stream",
     "text": [
      "+------+----------+-----+------+---+-----+\n",
      "|  Name|Department|State|Salary|Age|Bonus|\n",
      "+------+----------+-----+------+---+-----+\n",
      "| Bannu|     Sales|   CA| 81000| 30|23000|\n",
      "|  Sona|     Sales|   NY| 90000| 34|10000|\n",
      "|  Mona|     Sales|   NY| 86000| 56|20000|\n",
      "| Dhana| Marketing|   CA| 80000| 25|18000|\n",
      "|   Ram| Marketing|   NY| 91000| 50|21000|\n",
      "|Chinnu|   Finance|   CA| 90000| 24|23000|\n",
      "|  ravi|   Finance|   NY| 79000| 53|15000|\n",
      "| Sunny|   Finance|   CA| 99000| 40|24000|\n",
      "|  Raju|   Finance|   NY| 83000| 36|19000|\n",
      "+------+----------+-----+------+---+-----+\n",
      "\n"
     ]
    }
   ],
   "source": [
    "# # 4.Sort by Descending (DESC)\n",
    "\n",
    "from pyspark.sql.functions import desc\n",
    "df1.sort(df1.Department.desc()).show()"
   ]
  },
  {
   "cell_type": "code",
   "execution_count": 112,
   "id": "66471e5a",
   "metadata": {},
   "outputs": [
    {
     "name": "stdout",
     "output_type": "stream",
     "text": [
      "+------+----------+-----+------+---+-----+\n",
      "|  Name|Department|State|Salary|Age|Bonus|\n",
      "+------+----------+-----+------+---+-----+\n",
      "|  Mona|     Sales|   NY| 86000| 56|20000|\n",
      "|  Sona|     Sales|   NY| 90000| 34|10000|\n",
      "| Bannu|     Sales|   CA| 81000| 30|23000|\n",
      "|   Ram| Marketing|   NY| 91000| 50|21000|\n",
      "| Dhana| Marketing|   CA| 80000| 25|18000|\n",
      "|  ravi|   Finance|   NY| 79000| 53|15000|\n",
      "| Sunny|   Finance|   CA| 99000| 40|24000|\n",
      "|  Raju|   Finance|   NY| 83000| 36|19000|\n",
      "|Chinnu|   Finance|   CA| 90000| 24|23000|\n",
      "+------+----------+-----+------+---+-----+\n",
      "\n"
     ]
    }
   ],
   "source": [
    "df1.sort(df1.Department.desc(),df1.Age.desc()).show()"
   ]
  },
  {
   "cell_type": "code",
   "execution_count": 113,
   "id": "48e06886",
   "metadata": {},
   "outputs": [
    {
     "name": "stdout",
     "output_type": "stream",
     "text": [
      "+------+----------+-----+------+---+-----+\n",
      "|  Name|Department|State|Salary|Age|Bonus|\n",
      "+------+----------+-----+------+---+-----+\n",
      "| Bannu|     Sales|   CA| 81000| 30|23000|\n",
      "|  Mona|     Sales|   NY| 86000| 56|20000|\n",
      "|  Sona|     Sales|   NY| 90000| 34|10000|\n",
      "|   Ram| Marketing|   NY| 91000| 50|21000|\n",
      "| Dhana| Marketing|   CA| 80000| 25|18000|\n",
      "| Sunny|   Finance|   CA| 99000| 40|24000|\n",
      "|Chinnu|   Finance|   CA| 90000| 24|23000|\n",
      "|  Raju|   Finance|   NY| 83000| 36|19000|\n",
      "|  ravi|   Finance|   NY| 79000| 53|15000|\n",
      "+------+----------+-----+------+---+-----+\n",
      "\n"
     ]
    }
   ],
   "source": [
    "df1.sort(col(\"Department\").desc(),col(\"Bonus\").desc()).show()"
   ]
  },
  {
   "cell_type": "code",
   "execution_count": 114,
   "id": "026a8ecc",
   "metadata": {},
   "outputs": [
    {
     "name": "stdout",
     "output_type": "stream",
     "text": [
      "+------+----------+-----+------+---+-----+\n",
      "|  Name|Department|State|Salary|Age|Bonus|\n",
      "+------+----------+-----+------+---+-----+\n",
      "|  Mona|     Sales|   NY| 86000| 56|20000|\n",
      "|  Sona|     Sales|   NY| 90000| 34|10000|\n",
      "| Bannu|     Sales|   CA| 81000| 30|23000|\n",
      "|   Ram| Marketing|   NY| 91000| 50|21000|\n",
      "| Dhana| Marketing|   CA| 80000| 25|18000|\n",
      "|  ravi|   Finance|   NY| 79000| 53|15000|\n",
      "|  Raju|   Finance|   NY| 83000| 36|19000|\n",
      "| Sunny|   Finance|   CA| 99000| 40|24000|\n",
      "|Chinnu|   Finance|   CA| 90000| 24|23000|\n",
      "+------+----------+-----+------+---+-----+\n",
      "\n"
     ]
    }
   ],
   "source": [
    "# using orderBy()\n",
    "df1.orderBy(col(\"Department\").desc(),col(\"State\").desc(),col(\"Age\").desc()).show()"
   ]
  },
  {
   "cell_type": "code",
   "execution_count": 119,
   "id": "deb43275",
   "metadata": {},
   "outputs": [],
   "source": [
    "######### Joining pyspark dataframes\n",
    "\n",
    "emp = [(1,\"Smith\",-1,\"2018\",\"10\",\"M\",3000), \n",
    "    (2,\"Rose\",1,\"2010\",\"20\",\"M\",4000), \n",
    "    (3,\"Williams\",1,\"2010\",\"10\",\"M\",1000), \n",
    "    (4,\"Jones\",2,\"2005\",\"10\",\"F\",2000), \n",
    "    (5,\"Brown\",2,\"2010\",\"40\",\"\",-1), \n",
    "      (6,\"Brown\",2,\"2010\",\"50\",\"\",-1) \n",
    "    ]\n",
    "empColumns = [\"emp_id\",\"name\",\"superior_emp_id\",\"year_joined\",\"emp_dept_id\",\"gender\",\"salary\"]\n",
    "empDF=spark.createDataFrame(data=emp,schema=empColumns)"
   ]
  },
  {
   "cell_type": "code",
   "execution_count": 120,
   "id": "4cf67ef0",
   "metadata": {},
   "outputs": [
    {
     "data": {
      "text/plain": [
       "DataFrame[emp_id: bigint, name: string, superior_emp_id: bigint, year_joined: string, emp_dept_id: string, gender: string, salary: bigint]"
      ]
     },
     "execution_count": 120,
     "metadata": {},
     "output_type": "execute_result"
    }
   ],
   "source": [
    "empDF"
   ]
  },
  {
   "cell_type": "code",
   "execution_count": 121,
   "id": "3ea1f21f",
   "metadata": {},
   "outputs": [
    {
     "name": "stdout",
     "output_type": "stream",
     "text": [
      "<class 'pyspark.sql.dataframe.DataFrame'>\n"
     ]
    }
   ],
   "source": [
    "print(type(empDF))"
   ]
  },
  {
   "cell_type": "code",
   "execution_count": 122,
   "id": "f82b9fec",
   "metadata": {},
   "outputs": [
    {
     "name": "stdout",
     "output_type": "stream",
     "text": [
      "+------+--------+---------------+-----------+-----------+------+------+\n",
      "|emp_id|    name|superior_emp_id|year_joined|emp_dept_id|gender|salary|\n",
      "+------+--------+---------------+-----------+-----------+------+------+\n",
      "|     1|   Smith|             -1|       2018|         10|     M|  3000|\n",
      "|     2|    Rose|              1|       2010|         20|     M|  4000|\n",
      "|     3|Williams|              1|       2010|         10|     M|  1000|\n",
      "|     4|   Jones|              2|       2005|         10|     F|  2000|\n",
      "|     5|   Brown|              2|       2010|         40|      |    -1|\n",
      "|     6|   Brown|              2|       2010|         50|      |    -1|\n",
      "+------+--------+---------------+-----------+-----------+------+------+\n",
      "\n"
     ]
    }
   ],
   "source": [
    "empDF.show()"
   ]
  },
  {
   "cell_type": "code",
   "execution_count": 123,
   "id": "84659d31",
   "metadata": {},
   "outputs": [
    {
     "data": {
      "text/plain": [
       "DataFrame[dept_name: string, dept_id: bigint]"
      ]
     },
     "execution_count": 123,
     "metadata": {},
     "output_type": "execute_result"
    }
   ],
   "source": [
    "dept = [(\"Finance\",10), \n",
    "    (\"Marketing\",20), \n",
    "    (\"Sales\",30), \n",
    "    (\"IT\",40) \n",
    "  ]\n",
    "deptColumns = [\"dept_name\",\"dept_id\"]\n",
    "deptDF=spark.createDataFrame(data=dept,schema=deptColumns)\n",
    "deptDF"
   ]
  },
  {
   "cell_type": "code",
   "execution_count": 124,
   "id": "a28f4403",
   "metadata": {},
   "outputs": [
    {
     "name": "stdout",
     "output_type": "stream",
     "text": [
      "root\n",
      " |-- dept_name: string (nullable = true)\n",
      " |-- dept_id: long (nullable = true)\n",
      "\n"
     ]
    }
   ],
   "source": [
    "deptDF.printSchema()"
   ]
  },
  {
   "cell_type": "code",
   "execution_count": 125,
   "id": "a51f982e",
   "metadata": {},
   "outputs": [
    {
     "name": "stdout",
     "output_type": "stream",
     "text": [
      "+---------+-------+\n",
      "|dept_name|dept_id|\n",
      "+---------+-------+\n",
      "|  Finance|     10|\n",
      "|Marketing|     20|\n",
      "|    Sales|     30|\n",
      "|       IT|     40|\n",
      "+---------+-------+\n",
      "\n"
     ]
    }
   ],
   "source": [
    "deptDF.show()"
   ]
  },
  {
   "cell_type": "code",
   "execution_count": 128,
   "id": "efd68177",
   "metadata": {},
   "outputs": [
    {
     "name": "stdout",
     "output_type": "stream",
     "text": [
      "+------+--------+---------------+-----------+-----------+------+------+---------+-------+\n",
      "|emp_id|    name|superior_emp_id|year_joined|emp_dept_id|gender|salary|dept_name|dept_id|\n",
      "+------+--------+---------------+-----------+-----------+------+------+---------+-------+\n",
      "|     1|   Smith|             -1|       2018|         10|     M|  3000|  Finance|     10|\n",
      "|     3|Williams|              1|       2010|         10|     M|  1000|  Finance|     10|\n",
      "|     4|   Jones|              2|       2005|         10|     F|  2000|  Finance|     10|\n",
      "|     2|    Rose|              1|       2010|         20|     M|  4000|Marketing|     20|\n",
      "|     5|   Brown|              2|       2010|         40|      |    -1|       IT|     40|\n",
      "+------+--------+---------------+-----------+-----------+------+------+---------+-------+\n",
      "\n"
     ]
    }
   ],
   "source": [
    "## 1) Inner Join\n",
    "empDF.join(deptDF,empDF.emp_dept_id==deptDF.dept_id,\"inner\").show()"
   ]
  },
  {
   "cell_type": "code",
   "execution_count": 130,
   "id": "dcf0dad4",
   "metadata": {},
   "outputs": [
    {
     "name": "stdout",
     "output_type": "stream",
     "text": [
      "+------+--------+---------------+-----------+-----------+------+------+---------+-------+\n",
      "|emp_id|    name|superior_emp_id|year_joined|emp_dept_id|gender|salary|dept_name|dept_id|\n",
      "+------+--------+---------------+-----------+-----------+------+------+---------+-------+\n",
      "|     1|   Smith|             -1|       2018|         10|     M|  3000|  Finance|     10|\n",
      "|     3|Williams|              1|       2010|         10|     M|  1000|  Finance|     10|\n",
      "|     4|   Jones|              2|       2005|         10|     F|  2000|  Finance|     10|\n",
      "|     2|    Rose|              1|       2010|         20|     M|  4000|Marketing|     20|\n",
      "|  NULL|    NULL|           NULL|       NULL|       NULL|  NULL|  NULL|    Sales|     30|\n",
      "|     5|   Brown|              2|       2010|         40|      |    -1|       IT|     40|\n",
      "|     6|   Brown|              2|       2010|         50|      |    -1|     NULL|   NULL|\n",
      "+------+--------+---------------+-----------+-----------+------+------+---------+-------+\n",
      "\n",
      "+------+--------+---------------+-----------+-----------+------+------+---------+-------+\n",
      "|emp_id|    name|superior_emp_id|year_joined|emp_dept_id|gender|salary|dept_name|dept_id|\n",
      "+------+--------+---------------+-----------+-----------+------+------+---------+-------+\n",
      "|     1|   Smith|             -1|       2018|         10|     M|  3000|  Finance|     10|\n",
      "|     3|Williams|              1|       2010|         10|     M|  1000|  Finance|     10|\n",
      "|     4|   Jones|              2|       2005|         10|     F|  2000|  Finance|     10|\n",
      "|     2|    Rose|              1|       2010|         20|     M|  4000|Marketing|     20|\n",
      "|  NULL|    NULL|           NULL|       NULL|       NULL|  NULL|  NULL|    Sales|     30|\n",
      "|     5|   Brown|              2|       2010|         40|      |    -1|       IT|     40|\n",
      "|     6|   Brown|              2|       2010|         50|      |    -1|     NULL|   NULL|\n",
      "+------+--------+---------------+-----------+-----------+------+------+---------+-------+\n",
      "\n",
      "+------+--------+---------------+-----------+-----------+------+------+---------+-------+\n",
      "|emp_id|    name|superior_emp_id|year_joined|emp_dept_id|gender|salary|dept_name|dept_id|\n",
      "+------+--------+---------------+-----------+-----------+------+------+---------+-------+\n",
      "|     1|   Smith|             -1|       2018|         10|     M|  3000|  Finance|     10|\n",
      "|     3|Williams|              1|       2010|         10|     M|  1000|  Finance|     10|\n",
      "|     4|   Jones|              2|       2005|         10|     F|  2000|  Finance|     10|\n",
      "|     2|    Rose|              1|       2010|         20|     M|  4000|Marketing|     20|\n",
      "|  NULL|    NULL|           NULL|       NULL|       NULL|  NULL|  NULL|    Sales|     30|\n",
      "|     5|   Brown|              2|       2010|         40|      |    -1|       IT|     40|\n",
      "|     6|   Brown|              2|       2010|         50|      |    -1|     NULL|   NULL|\n",
      "+------+--------+---------------+-----------+-----------+------+------+---------+-------+\n",
      "\n"
     ]
    }
   ],
   "source": [
    "# 2) Full outer join\n",
    "empDF.join(deptDF,empDF.emp_dept_id==deptDF.dept_id,\"outer\").show()\n",
    "                # or\n",
    "empDF.join(deptDF,empDF.emp_dept_id==deptDF.dept_id,\"full\").show()\n",
    "                # or\n",
    "empDF.join(deptDF,empDF.emp_dept_id==deptDF.dept_id,\"fullouter\").show()"
   ]
  },
  {
   "cell_type": "code",
   "execution_count": 133,
   "id": "a573794b",
   "metadata": {},
   "outputs": [
    {
     "name": "stdout",
     "output_type": "stream",
     "text": [
      "+------+--------+---------------+-----------+-----------+------+------+---------+-------+\n",
      "|emp_id|    name|superior_emp_id|year_joined|emp_dept_id|gender|salary|dept_name|dept_id|\n",
      "+------+--------+---------------+-----------+-----------+------+------+---------+-------+\n",
      "|     1|   Smith|             -1|       2018|         10|     M|  3000|  Finance|     10|\n",
      "|     2|    Rose|              1|       2010|         20|     M|  4000|Marketing|     20|\n",
      "|     3|Williams|              1|       2010|         10|     M|  1000|  Finance|     10|\n",
      "|     4|   Jones|              2|       2005|         10|     F|  2000|  Finance|     10|\n",
      "|     5|   Brown|              2|       2010|         40|      |    -1|       IT|     40|\n",
      "|     6|   Brown|              2|       2010|         50|      |    -1|     NULL|   NULL|\n",
      "+------+--------+---------------+-----------+-----------+------+------+---------+-------+\n",
      "\n",
      "+------+--------+---------------+-----------+-----------+------+------+---------+-------+\n",
      "|emp_id|    name|superior_emp_id|year_joined|emp_dept_id|gender|salary|dept_name|dept_id|\n",
      "+------+--------+---------------+-----------+-----------+------+------+---------+-------+\n",
      "|     1|   Smith|             -1|       2018|         10|     M|  3000|  Finance|     10|\n",
      "|     2|    Rose|              1|       2010|         20|     M|  4000|Marketing|     20|\n",
      "|     3|Williams|              1|       2010|         10|     M|  1000|  Finance|     10|\n",
      "|     4|   Jones|              2|       2005|         10|     F|  2000|  Finance|     10|\n",
      "|     5|   Brown|              2|       2010|         40|      |    -1|       IT|     40|\n",
      "|     6|   Brown|              2|       2010|         50|      |    -1|     NULL|   NULL|\n",
      "+------+--------+---------------+-----------+-----------+------+------+---------+-------+\n",
      "\n"
     ]
    }
   ],
   "source": [
    "# 3) Left outer join or Left join\n",
    "empDF.join(deptDF,empDF.emp_dept_id==deptDF.dept_id,\"left\").show()\n",
    "\n",
    "                 # or\n",
    "empDF.join(deptDF,empDF.emp_dept_id==deptDF.dept_id,\"leftouter\").show()"
   ]
  },
  {
   "cell_type": "code",
   "execution_count": 142,
   "id": "16e675ec",
   "metadata": {},
   "outputs": [
    {
     "name": "stdout",
     "output_type": "stream",
     "text": [
      "+------+--------+---------------+-----------+-----------+------+------+---------+-------+\n",
      "|emp_id|    name|superior_emp_id|year_joined|emp_dept_id|gender|salary|dept_name|dept_id|\n",
      "+------+--------+---------------+-----------+-----------+------+------+---------+-------+\n",
      "|     4|   Jones|              2|       2005|         10|     F|  2000|  Finance|     10|\n",
      "|     3|Williams|              1|       2010|         10|     M|  1000|  Finance|     10|\n",
      "|     1|   Smith|             -1|       2018|         10|     M|  3000|  Finance|     10|\n",
      "|     2|    Rose|              1|       2010|         20|     M|  4000|Marketing|     20|\n",
      "|  NULL|    NULL|           NULL|       NULL|       NULL|  NULL|  NULL|    Sales|     30|\n",
      "|     5|   Brown|              2|       2010|         40|      |    -1|       IT|     40|\n",
      "+------+--------+---------------+-----------+-----------+------+------+---------+-------+\n",
      "\n",
      "+------+--------+---------------+-----------+-----------+------+------+---------+-------+\n",
      "|emp_id|    name|superior_emp_id|year_joined|emp_dept_id|gender|salary|dept_name|dept_id|\n",
      "+------+--------+---------------+-----------+-----------+------+------+---------+-------+\n",
      "|     4|   Jones|              2|       2005|         10|     F|  2000|  Finance|     10|\n",
      "|     3|Williams|              1|       2010|         10|     M|  1000|  Finance|     10|\n",
      "|     1|   Smith|             -1|       2018|         10|     M|  3000|  Finance|     10|\n",
      "|     2|    Rose|              1|       2010|         20|     M|  4000|Marketing|     20|\n",
      "|  NULL|    NULL|           NULL|       NULL|       NULL|  NULL|  NULL|    Sales|     30|\n",
      "|     5|   Brown|              2|       2010|         40|      |    -1|       IT|     40|\n",
      "+------+--------+---------------+-----------+-----------+------+------+---------+-------+\n",
      "\n"
     ]
    }
   ],
   "source": [
    "# 4) Right Outer join or Right Join\n",
    "empDF.join(deptDF,empDF.emp_dept_id==deptDF.dept_id,\"right\").show()\n",
    "                \n",
    "empDF.join(deptDF,empDF.emp_dept_id==deptDF.dept_id,\"rightouter\").show()"
   ]
  },
  {
   "cell_type": "code",
   "execution_count": 143,
   "id": "89bb64d5",
   "metadata": {},
   "outputs": [
    {
     "name": "stdout",
     "output_type": "stream",
     "text": [
      "+------+--------+---------------+-----------+-----------+------+------+\n",
      "|emp_id|    name|superior_emp_id|year_joined|emp_dept_id|gender|salary|\n",
      "+------+--------+---------------+-----------+-----------+------+------+\n",
      "|     1|   Smith|             -1|       2018|         10|     M|  3000|\n",
      "|     3|Williams|              1|       2010|         10|     M|  1000|\n",
      "|     4|   Jones|              2|       2005|         10|     F|  2000|\n",
      "|     2|    Rose|              1|       2010|         20|     M|  4000|\n",
      "|     5|   Brown|              2|       2010|         40|      |    -1|\n",
      "+------+--------+---------------+-----------+-----------+------+------+\n",
      "\n"
     ]
    }
   ],
   "source": [
    "# 5) left semi join\n",
    "#returns columns from the only left dataset for the records match in the right dataset on join expression, \n",
    "#records not matched on join expression are ignored from both left and right datasets.\n",
    "\n",
    "empDF.join(deptDF,empDF.emp_dept_id==deptDF.dept_id,\"leftsemi\").show()"
   ]
  },
  {
   "cell_type": "code",
   "execution_count": 145,
   "id": "bf951a27",
   "metadata": {},
   "outputs": [
    {
     "name": "stdout",
     "output_type": "stream",
     "text": [
      "+------+-----+---------------+-----------+-----------+------+------+\n",
      "|emp_id| name|superior_emp_id|year_joined|emp_dept_id|gender|salary|\n",
      "+------+-----+---------------+-----------+-----------+------+------+\n",
      "|     6|Brown|              2|       2010|         50|      |    -1|\n",
      "+------+-----+---------------+-----------+-----------+------+------+\n",
      "\n"
     ]
    }
   ],
   "source": [
    "# 6) Left Anti Join\n",
    "#leftanti join does the exact opposite of the leftsemi\n",
    "#leftanti join returns only columns from the left dataset for non-matched records.\n",
    "empDF.join(deptDF,empDF.emp_dept_id==deptDF.dept_id,\"leftanti\").show()"
   ]
  },
  {
   "cell_type": "code",
   "execution_count": 146,
   "id": "ec1ec101",
   "metadata": {},
   "outputs": [],
   "source": [
    "# 7) self join"
   ]
  },
  {
   "cell_type": "code",
   "execution_count": 147,
   "id": "0d995d2a",
   "metadata": {},
   "outputs": [],
   "source": [
    "############## Updating\n",
    "# using the previous data used in the starting \n",
    "data=[(\"Sona\",\"Sales\",\"NY\",90000,34,10000),\n",
    "      (\"Mona\",\"Sales\",\"NY\",86000,56,20000),\n",
    "      (\"Bannu\",\"Sales\",\"CA\",81000,30,23000),\n",
    "      (\"Chinnu\",\"Finance\",\"CA\",90000,24,23000),\n",
    "    (\"Sunny\",\"Finance\",\"CA\",99000,40,24000),\n",
    "    (\"Raju\",\"Finance\",\"NY\",83000,36,19000),\n",
    "    (\"ravi\",\"Finance\",\"NY\",79000,53,15000),\n",
    "    (\"Dhana\",\"Marketing\",\"CA\",80000,25,18000),\n",
    "    (\"Ram\",\"Marketing\",\"NY\",91000,50,21000)]\n",
    "\n",
    "columns=[\"Name\",\"Department\",\"State\",\"Salary\",\"Age\",\"Bonus\"]\n",
    "\n",
    "df1=spark.createDataFrame(data=data,schema=columns)\n"
   ]
  },
  {
   "cell_type": "code",
   "execution_count": 148,
   "id": "48b96cad",
   "metadata": {},
   "outputs": [
    {
     "name": "stdout",
     "output_type": "stream",
     "text": [
      "+------+----------+-----+------+---+-----+\n",
      "|  Name|Department|State|Salary|Age|Bonus|\n",
      "+------+----------+-----+------+---+-----+\n",
      "|  Sona|     Sales|   NY| 90000| 34|10000|\n",
      "|  Mona|     Sales|   NY| 86000| 56|20000|\n",
      "| Bannu|     Sales|   CA| 81000| 30|23000|\n",
      "|Chinnu|   Finance|   CA| 90000| 24|23000|\n",
      "| Sunny|   Finance|   CA| 99000| 40|24000|\n",
      "|  Raju|   Finance|   NY| 83000| 36|19000|\n",
      "|  ravi|   Finance|   NY| 79000| 53|15000|\n",
      "| Dhana| Marketing|   CA| 80000| 25|18000|\n",
      "|   Ram| Marketing|   NY| 91000| 50|21000|\n",
      "+------+----------+-----+------+---+-----+\n",
      "\n"
     ]
    }
   ],
   "source": [
    "df1.show()"
   ]
  },
  {
   "cell_type": "code",
   "execution_count": 149,
   "id": "5d8a1b5a",
   "metadata": {},
   "outputs": [
    {
     "name": "stdout",
     "output_type": "stream",
     "text": [
      "+------+----------+-----+------+----+-----+\n",
      "|  Name|Department|State|Salary| Age|Bonus|\n",
      "+------+----------+-----+------+----+-----+\n",
      "|  Sona|     Sales|   NY| 90000|17.0|10000|\n",
      "|  Mona|     Sales|   NY| 86000|28.0|20000|\n",
      "| Bannu|     Sales|   CA| 81000|15.0|23000|\n",
      "|Chinnu|   Finance|   CA| 90000|12.0|23000|\n",
      "| Sunny|   Finance|   CA| 99000|20.0|24000|\n",
      "|  Raju|   Finance|   NY| 83000|18.0|19000|\n",
      "|  ravi|   Finance|   NY| 79000|26.5|15000|\n",
      "| Dhana| Marketing|   CA| 80000|12.5|18000|\n",
      "|   Ram| Marketing|   NY| 91000|25.0|21000|\n",
      "+------+----------+-----+------+----+-----+\n",
      "\n"
     ]
    }
   ],
   "source": [
    "# 1) updating a column\n",
    "df1.withColumn(\"Age\",df1.Age/2).show()"
   ]
  },
  {
   "cell_type": "code",
   "execution_count": 150,
   "id": "f3c23420",
   "metadata": {},
   "outputs": [
    {
     "name": "stdout",
     "output_type": "stream",
     "text": [
      "+------+----------+-----+------+---+-----+\n",
      "|  Name|Department|State|Salary|Age|Bonus|\n",
      "+------+----------+-----+------+---+-----+\n",
      "|  Sona| Developer|   NY| 90000| 34|10000|\n",
      "|  Mona| Developer|   NY| 86000| 56|20000|\n",
      "| Bannu| Developer|   CA| 81000| 30|23000|\n",
      "|Chinnu|    Tester|   CA| 90000| 24|23000|\n",
      "| Sunny|    Tester|   CA| 99000| 40|24000|\n",
      "|  Raju|    Tester|   NY| 83000| 36|19000|\n",
      "|  ravi|    Tester|   NY| 79000| 53|15000|\n",
      "| Dhana|   Manager|   CA| 80000| 25|18000|\n",
      "|   Ram|   Manager|   NY| 91000| 50|21000|\n",
      "+------+----------+-----+------+---+-----+\n",
      "\n"
     ]
    }
   ],
   "source": [
    "# 2) updating column based on condition using when and otherwise\n",
    "df1.withColumn(\"Department\",when(df1.Department.startswith(\"S\"),\"Developer\")\n",
    "              .when(df1.Department.startswith(\"F\"),\"Tester\")\n",
    "              .when(df1.Department.startswith(\"M\"),\"Manager\")\n",
    "              .otherwise(df1.Department)).show()"
   ]
  },
  {
   "cell_type": "code",
   "execution_count": 159,
   "id": "ca0d8c53",
   "metadata": {},
   "outputs": [
    {
     "name": "stdout",
     "output_type": "stream",
     "text": [
      "root\n",
      " |-- Name: string (nullable = true)\n",
      " |-- Department: string (nullable = true)\n",
      " |-- State: string (nullable = true)\n",
      " |-- Salary: long (nullable = true)\n",
      " |-- Age: string (nullable = true)\n",
      " |-- Bonus: long (nullable = true)\n",
      "\n"
     ]
    }
   ],
   "source": [
    "# 3)Update DataFrame Column Data Type\n",
    "x=df1.withColumn(\"Age\", col(\"Age\").cast(\"string\"))\n",
    "x.printSchema()"
   ]
  },
  {
   "cell_type": "code",
   "execution_count": 160,
   "id": "f5238f7b",
   "metadata": {},
   "outputs": [
    {
     "name": "stdout",
     "output_type": "stream",
     "text": [
      "+------+----------+-----+------+---+-----+\n",
      "|  Name|Department|State|Salary|Age|Bonus|\n",
      "+------+----------+-----+------+---+-----+\n",
      "|  Sona|     Sales|   NY| 90000| 45|10000|\n",
      "|  Mona|     Sales|   NY| 86000| 45|20000|\n",
      "| Bannu|     Sales|   CA| 81000| 45|23000|\n",
      "|Chinnu|   Finance|   CA| 90000| 45|23000|\n",
      "| Sunny|   Finance|   CA| 99000| 45|24000|\n",
      "|  Raju|   Finance|   NY| 83000| 45|19000|\n",
      "|  ravi|   Finance|   NY| 79000| 45|15000|\n",
      "| Dhana| Marketing|   CA| 80000| 45|18000|\n",
      "|   Ram| Marketing|   NY| 91000| 45|21000|\n",
      "+------+----------+-----+------+---+-----+\n",
      "\n"
     ]
    }
   ],
   "source": [
    "# 4)Update DataFrame Column with a constant\n",
    "df1.withColumn(\"Age\",lit(45)).show()"
   ]
  },
  {
   "cell_type": "code",
   "execution_count": 8,
   "id": "22e447bb",
   "metadata": {},
   "outputs": [
    {
     "name": "stdout",
     "output_type": "stream",
     "text": [
      "+------+----------+-----+------+---+-----+----------+\n",
      "|Name  |Department|State|Salary|Age|Bonus|row_number|\n",
      "+------+----------+-----+------+---+-----+----------+\n",
      "|ravi  |Finance   |NY   |79000 |53 |15000|1         |\n",
      "|Raju  |Finance   |NY   |83000 |36 |19000|2         |\n",
      "|Chinnu|Finance   |CA   |90000 |24 |23000|3         |\n",
      "|Sunny |Finance   |CA   |99000 |40 |24000|4         |\n",
      "|Dhana |Marketing |CA   |80000 |25 |18000|1         |\n",
      "|Ram   |Marketing |NY   |91000 |50 |21000|2         |\n",
      "|Bannu |Sales     |CA   |81000 |30 |23000|1         |\n",
      "|Mona  |Sales     |NY   |86000 |56 |20000|2         |\n",
      "|Sona  |Sales     |NY   |90000 |34 |10000|3         |\n",
      "+------+----------+-----+------+---+-----+----------+\n",
      "\n"
     ]
    }
   ],
   "source": [
    "##### Window functions\n",
    "# 1) ROW_NUMBER()\n",
    "\n",
    "# with partition\n",
    "from pyspark.sql.window import Window\n",
    "from pyspark.sql.functions import row_number\n",
    "windowSpec  = Window.partitionBy(\"department\").orderBy(\"salary\")\n",
    "\n",
    "df1.withColumn(\"row_number\",row_number().over(windowSpec)).show(truncate=False)"
   ]
  },
  {
   "cell_type": "code",
   "execution_count": 12,
   "id": "df1897a2",
   "metadata": {},
   "outputs": [
    {
     "name": "stdout",
     "output_type": "stream",
     "text": [
      "+------+----------+-----+------+---+-----+----------+\n",
      "|  Name|Department|State|Salary|Age|Bonus|row_number|\n",
      "+------+----------+-----+------+---+-----+----------+\n",
      "|  ravi|   Finance|   NY| 79000| 53|15000|         1|\n",
      "| Dhana| Marketing|   CA| 80000| 25|18000|         2|\n",
      "| Bannu|     Sales|   CA| 81000| 30|23000|         3|\n",
      "|  Raju|   Finance|   NY| 83000| 36|19000|         4|\n",
      "|  Mona|     Sales|   NY| 86000| 56|20000|         5|\n",
      "|  Sona|     Sales|   NY| 90000| 34|10000|         6|\n",
      "|Chinnu|   Finance|   CA| 90000| 24|23000|         7|\n",
      "|   Ram| Marketing|   NY| 91000| 50|21000|         8|\n",
      "| Sunny|   Finance|   CA| 99000| 40|24000|         9|\n",
      "+------+----------+-----+------+---+-----+----------+\n",
      "\n"
     ]
    }
   ],
   "source": [
    "# without partition \n",
    "df1.withColumn(\"row_number\",row_number().over(Window.orderBy(\"Salary\"))).show()"
   ]
  },
  {
   "cell_type": "code",
   "execution_count": 14,
   "id": "3ac9bf39",
   "metadata": {},
   "outputs": [
    {
     "name": "stdout",
     "output_type": "stream",
     "text": [
      "+------+----------+-----+------+---+-----+----+\n",
      "|  Name|Department|State|Salary|Age|Bonus|RANK|\n",
      "+------+----------+-----+------+---+-----+----+\n",
      "|  ravi|   Finance|   NY| 79000| 53|15000|   1|\n",
      "|  Raju|   Finance|   NY| 83000| 36|19000|   2|\n",
      "|Chinnu|   Finance|   CA| 90000| 24|23000|   3|\n",
      "| Sunny|   Finance|   CA| 99000| 40|24000|   4|\n",
      "| Dhana| Marketing|   CA| 80000| 25|18000|   1|\n",
      "|   Ram| Marketing|   NY| 91000| 50|21000|   2|\n",
      "| Bannu|     Sales|   CA| 81000| 30|23000|   1|\n",
      "|  Mona|     Sales|   NY| 86000| 56|20000|   2|\n",
      "|  Sona|     Sales|   NY| 90000| 34|10000|   3|\n",
      "+------+----------+-----+------+---+-----+----+\n",
      "\n"
     ]
    }
   ],
   "source": [
    "# 2) RANK()\n",
    "from pyspark.sql.functions import rank\n",
    "windowSpec=Window.partitionBy(\"Department\").orderBy(\"Salary\")\n",
    "df1.withColumn(\"RANK\",rank().over(windowSpec)).show()"
   ]
  },
  {
   "cell_type": "code",
   "execution_count": 16,
   "id": "1715b94e",
   "metadata": {},
   "outputs": [
    {
     "name": "stdout",
     "output_type": "stream",
     "text": [
      "+------+----------+-----+------+---+-----+----+\n",
      "|  Name|Department|State|Salary|Age|Bonus|RANK|\n",
      "+------+----------+-----+------+---+-----+----+\n",
      "|  ravi|   Finance|   NY| 79000| 53|15000|   1|\n",
      "| Dhana| Marketing|   CA| 80000| 25|18000|   2|\n",
      "| Bannu|     Sales|   CA| 81000| 30|23000|   3|\n",
      "|  Raju|   Finance|   NY| 83000| 36|19000|   4|\n",
      "|  Mona|     Sales|   NY| 86000| 56|20000|   5|\n",
      "|  Sona|     Sales|   NY| 90000| 34|10000|   6|\n",
      "|Chinnu|   Finance|   CA| 90000| 24|23000|   6|\n",
      "|   Ram| Marketing|   NY| 91000| 50|21000|   8|\n",
      "| Sunny|   Finance|   CA| 99000| 40|24000|   9|\n",
      "+------+----------+-----+------+---+-----+----+\n",
      "\n"
     ]
    }
   ],
   "source": [
    "# without partition \n",
    "df1.withColumn(\"RANK\",rank().over(Window.orderBy(\"Salary\"))).show()"
   ]
  },
  {
   "cell_type": "code",
   "execution_count": 15,
   "id": "a5b022d8",
   "metadata": {},
   "outputs": [
    {
     "name": "stdout",
     "output_type": "stream",
     "text": [
      "+------+----------+-----+------+---+-----+----------+\n",
      "|  Name|Department|State|Salary|Age|Bonus|DENSE RANK|\n",
      "+------+----------+-----+------+---+-----+----------+\n",
      "|  ravi|   Finance|   NY| 79000| 53|15000|         1|\n",
      "|  Raju|   Finance|   NY| 83000| 36|19000|         2|\n",
      "|Chinnu|   Finance|   CA| 90000| 24|23000|         3|\n",
      "| Sunny|   Finance|   CA| 99000| 40|24000|         4|\n",
      "| Dhana| Marketing|   CA| 80000| 25|18000|         1|\n",
      "|   Ram| Marketing|   NY| 91000| 50|21000|         2|\n",
      "| Bannu|     Sales|   CA| 81000| 30|23000|         1|\n",
      "|  Mona|     Sales|   NY| 86000| 56|20000|         2|\n",
      "|  Sona|     Sales|   NY| 90000| 34|10000|         3|\n",
      "+------+----------+-----+------+---+-----+----------+\n",
      "\n"
     ]
    }
   ],
   "source": [
    "# 3) DENSE_RANK()\n",
    "from pyspark.sql.functions import dense_rank\n",
    "windowSpec=Window.partitionBy(\"Department\").orderBy(\"Salary\")\n",
    "df1.withColumn(\"DENSE RANK\",dense_rank().over(windowSpec)).show()"
   ]
  },
  {
   "cell_type": "code",
   "execution_count": 17,
   "id": "b0203550",
   "metadata": {},
   "outputs": [
    {
     "name": "stdout",
     "output_type": "stream",
     "text": [
      "+------+----------+-----+------+---+-----+----------+\n",
      "|  Name|Department|State|Salary|Age|Bonus|DENSE RANK|\n",
      "+------+----------+-----+------+---+-----+----------+\n",
      "|  ravi|   Finance|   NY| 79000| 53|15000|         1|\n",
      "| Dhana| Marketing|   CA| 80000| 25|18000|         2|\n",
      "| Bannu|     Sales|   CA| 81000| 30|23000|         3|\n",
      "|  Raju|   Finance|   NY| 83000| 36|19000|         4|\n",
      "|  Mona|     Sales|   NY| 86000| 56|20000|         5|\n",
      "|  Sona|     Sales|   NY| 90000| 34|10000|         6|\n",
      "|Chinnu|   Finance|   CA| 90000| 24|23000|         6|\n",
      "|   Ram| Marketing|   NY| 91000| 50|21000|         7|\n",
      "| Sunny|   Finance|   CA| 99000| 40|24000|         8|\n",
      "+------+----------+-----+------+---+-----+----------+\n",
      "\n"
     ]
    }
   ],
   "source": [
    "# without partition \n",
    "df1.withColumn(\"DENSE RANK\",dense_rank().over(Window.orderBy(\"Salary\"))).show()"
   ]
  },
  {
   "cell_type": "code",
   "execution_count": 19,
   "id": "4ef26eb6",
   "metadata": {},
   "outputs": [
    {
     "name": "stdout",
     "output_type": "stream",
     "text": [
      "+------+----------+-----+------+---+-----+------------------+\n",
      "|  Name|Department|State|Salary|Age|Bonus|      PERCENT RANK|\n",
      "+------+----------+-----+------+---+-----+------------------+\n",
      "|  ravi|   Finance|   NY| 79000| 53|15000|               0.0|\n",
      "|  Raju|   Finance|   NY| 83000| 36|19000|0.3333333333333333|\n",
      "|Chinnu|   Finance|   CA| 90000| 24|23000|0.6666666666666666|\n",
      "| Sunny|   Finance|   CA| 99000| 40|24000|               1.0|\n",
      "| Dhana| Marketing|   CA| 80000| 25|18000|               0.0|\n",
      "|   Ram| Marketing|   NY| 91000| 50|21000|               1.0|\n",
      "| Bannu|     Sales|   CA| 81000| 30|23000|               0.0|\n",
      "|  Mona|     Sales|   NY| 86000| 56|20000|               0.5|\n",
      "|  Sona|     Sales|   NY| 90000| 34|10000|               1.0|\n",
      "+------+----------+-----+------+---+-----+------------------+\n",
      "\n"
     ]
    }
   ],
   "source": [
    "# 4) PERCENT_RANK()\n",
    "from pyspark.sql.functions import percent_rank\n",
    "windowSpec=Window.partitionBy(\"Department\").orderBy(\"Salary\")\n",
    "df1.withColumn(\"PERCENT RANK\",percent_rank().over(windowSpec)).show()"
   ]
  },
  {
   "cell_type": "code",
   "execution_count": 20,
   "id": "6097e42b",
   "metadata": {},
   "outputs": [
    {
     "name": "stdout",
     "output_type": "stream",
     "text": [
      "+------+----------+-----+------+---+-----+------------+\n",
      "|  Name|Department|State|Salary|Age|Bonus|PERCENT RANK|\n",
      "+------+----------+-----+------+---+-----+------------+\n",
      "|  ravi|   Finance|   NY| 79000| 53|15000|         0.0|\n",
      "| Dhana| Marketing|   CA| 80000| 25|18000|       0.125|\n",
      "| Bannu|     Sales|   CA| 81000| 30|23000|        0.25|\n",
      "|  Raju|   Finance|   NY| 83000| 36|19000|       0.375|\n",
      "|  Mona|     Sales|   NY| 86000| 56|20000|         0.5|\n",
      "|  Sona|     Sales|   NY| 90000| 34|10000|       0.625|\n",
      "|Chinnu|   Finance|   CA| 90000| 24|23000|       0.625|\n",
      "|   Ram| Marketing|   NY| 91000| 50|21000|       0.875|\n",
      "| Sunny|   Finance|   CA| 99000| 40|24000|         1.0|\n",
      "+------+----------+-----+------+---+-----+------------+\n",
      "\n"
     ]
    }
   ],
   "source": [
    "# without partition \n",
    "df1.withColumn(\"PERCENT RANK\",percent_rank().over(Window.orderBy(\"Salary\"))).show()"
   ]
  },
  {
   "cell_type": "code",
   "execution_count": 21,
   "id": "94f2f5fa",
   "metadata": {},
   "outputs": [
    {
     "name": "stdout",
     "output_type": "stream",
     "text": [
      "+------+----------+-----+------+---+-----+-----+\n",
      "|  Name|Department|State|Salary|Age|Bonus|ntile|\n",
      "+------+----------+-----+------+---+-----+-----+\n",
      "|  ravi|   Finance|   NY| 79000| 53|15000|    1|\n",
      "|  Raju|   Finance|   NY| 83000| 36|19000|    1|\n",
      "|Chinnu|   Finance|   CA| 90000| 24|23000|    2|\n",
      "| Sunny|   Finance|   CA| 99000| 40|24000|    3|\n",
      "| Dhana| Marketing|   CA| 80000| 25|18000|    1|\n",
      "|   Ram| Marketing|   NY| 91000| 50|21000|    2|\n",
      "| Bannu|     Sales|   CA| 81000| 30|23000|    1|\n",
      "|  Mona|     Sales|   NY| 86000| 56|20000|    2|\n",
      "|  Sona|     Sales|   NY| 90000| 34|10000|    3|\n",
      "+------+----------+-----+------+---+-----+-----+\n",
      "\n"
     ]
    }
   ],
   "source": [
    "# 5) ntile(n)\n",
    "from pyspark.sql.functions import ntile\n",
    "windowSpec=Window.partitionBy(\"Department\").orderBy(\"Salary\")\n",
    "df1.withColumn(\"ntile\",ntile(3).over(windowSpec)).show()"
   ]
  },
  {
   "cell_type": "code",
   "execution_count": 22,
   "id": "77a98d57",
   "metadata": {},
   "outputs": [
    {
     "name": "stdout",
     "output_type": "stream",
     "text": [
      "+------+----------+-----+------+---+-----+-----+\n",
      "|  Name|Department|State|Salary|Age|Bonus|NTILE|\n",
      "+------+----------+-----+------+---+-----+-----+\n",
      "|  ravi|   Finance|   NY| 79000| 53|15000|    1|\n",
      "| Dhana| Marketing|   CA| 80000| 25|18000|    1|\n",
      "| Bannu|     Sales|   CA| 81000| 30|23000|    1|\n",
      "|  Raju|   Finance|   NY| 83000| 36|19000|    2|\n",
      "|  Mona|     Sales|   NY| 86000| 56|20000|    2|\n",
      "|  Sona|     Sales|   NY| 90000| 34|10000|    2|\n",
      "|Chinnu|   Finance|   CA| 90000| 24|23000|    3|\n",
      "|   Ram| Marketing|   NY| 91000| 50|21000|    3|\n",
      "| Sunny|   Finance|   CA| 99000| 40|24000|    3|\n",
      "+------+----------+-----+------+---+-----+-----+\n",
      "\n"
     ]
    }
   ],
   "source": [
    "# without partition \n",
    "df1.withColumn(\"NTILE\",ntile(3).over(Window.orderBy(\"Salary\"))).show()"
   ]
  },
  {
   "cell_type": "code",
   "execution_count": 23,
   "id": "1c112b35",
   "metadata": {},
   "outputs": [
    {
     "name": "stdout",
     "output_type": "stream",
     "text": [
      "+----------+-----------------+------+-----+-----+\n",
      "|department|              avg|   sum|  min|  max|\n",
      "+----------+-----------------+------+-----+-----+\n",
      "|   Finance|          87750.0|351000|79000|99000|\n",
      "| Marketing|          85500.0|171000|80000|91000|\n",
      "|     Sales|85666.66666666667|257000|81000|90000|\n",
      "+----------+-----------------+------+-----+-----+\n",
      "\n"
     ]
    }
   ],
   "source": [
    "# Window Aggregate functions \n",
    "\n",
    "windowSpecAgg  = Window.partitionBy(\"department\")\n",
    "from pyspark.sql.functions import col,avg,sum,min,max,row_number \n",
    "\n",
    "df1.withColumn(\"row\",row_number().over(windowSpec)) \\\n",
    "  .withColumn(\"avg\", avg(col(\"salary\")).over(windowSpecAgg)) \\\n",
    "  .withColumn(\"sum\", sum(col(\"salary\")).over(windowSpecAgg)) \\\n",
    "  .withColumn(\"min\", min(col(\"salary\")).over(windowSpecAgg)) \\\n",
    "  .withColumn(\"max\", max(col(\"salary\")).over(windowSpecAgg)) \\\n",
    "  .where(col(\"row\")==1).select(\"department\",\"avg\",\"sum\",\"min\",\"max\") \\\n",
    "  .show()"
   ]
  },
  {
   "cell_type": "code",
   "execution_count": null,
   "id": "54a85764",
   "metadata": {},
   "outputs": [],
   "source": [
    "# Window Analytic functions"
   ]
  }
 ],
 "metadata": {
  "kernelspec": {
   "display_name": "Python 3 (ipykernel)",
   "language": "python",
   "name": "python3"
  },
  "language_info": {
   "codemirror_mode": {
    "name": "ipython",
    "version": 3
   },
   "file_extension": ".py",
   "mimetype": "text/x-python",
   "name": "python",
   "nbconvert_exporter": "python",
   "pygments_lexer": "ipython3",
   "version": "3.11.5"
  }
 },
 "nbformat": 4,
 "nbformat_minor": 5
}
