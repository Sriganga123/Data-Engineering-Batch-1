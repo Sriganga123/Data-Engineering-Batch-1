{
 "cells": [
  {
   "cell_type": "code",
   "execution_count": 1,
   "id": "1c0a2933",
   "metadata": {},
   "outputs": [],
   "source": [
    "import pyspark\n",
    "import findspark\n",
    "findspark.init()"
   ]
  },
  {
   "cell_type": "code",
   "execution_count": 2,
   "id": "b43c8c45",
   "metadata": {},
   "outputs": [
    {
     "data": {
      "text/html": [
       "\n",
       "            <div>\n",
       "                <p><b>SparkSession - in-memory</b></p>\n",
       "                \n",
       "        <div>\n",
       "            <p><b>SparkContext</b></p>\n",
       "\n",
       "            <p><a href=\"http://DESKTOP-HPGQI4S:4040\">Spark UI</a></p>\n",
       "\n",
       "            <dl>\n",
       "              <dt>Version</dt>\n",
       "                <dd><code>v3.5.0</code></dd>\n",
       "              <dt>Master</dt>\n",
       "                <dd><code>local[*]</code></dd>\n",
       "              <dt>AppName</dt>\n",
       "                <dd><code>Renaming Columns in data frame</code></dd>\n",
       "            </dl>\n",
       "        </div>\n",
       "        \n",
       "            </div>\n",
       "        "
      ],
      "text/plain": [
       "<pyspark.sql.session.SparkSession at 0x231ca1d7c10>"
      ]
     },
     "execution_count": 2,
     "metadata": {},
     "output_type": "execute_result"
    }
   ],
   "source": [
    "\n",
    "from pyspark.sql import SparkSession\n",
    "spark=SparkSession.builder.appName(\"Renaming Columns in data frame\").getOrCreate()\n",
    "spark"
   ]
  },
  {
   "cell_type": "code",
   "execution_count": 3,
   "id": "9fe3dbac",
   "metadata": {},
   "outputs": [
    {
     "name": "stdout",
     "output_type": "stream",
     "text": [
      "+-----------+----------+------+------+\n",
      "|       Name|       DOB|Gender|Salary|\n",
      "+-----------+----------+------+------+\n",
      "|        Ram|2002-09-03|     M| 65000|\n",
      "|       Raju|1980-08-12|     M| 78000|\n",
      "|Dhana Laxmi|1992-12-12|     F| 67000|\n",
      "|Shivathmika|2005-03-05|     F| 80000|\n",
      "|       Mona|2002-08-01|     F| 90000|\n",
      "+-----------+----------+------+------+\n",
      "\n"
     ]
    }
   ],
   "source": [
    "from pyspark.sql import SparkSession\n",
    "spark=SparkSession.builder.appName(\"Renaming Columns in data frame\").getOrCreate()\n",
    "# creating data\n",
    "data=[('Ram','2002-09-03','M',65000),\n",
    "      ('Raju','1980-08-12','M',78000),\n",
    "      ('Dhana Laxmi','1992-12-12','F',67000),\n",
    "      ('Shivathmika','2005-03-05','F',80000),\n",
    "      ('Mona','2002-08-01','F',90000)]\n",
    "# columns\n",
    "columns=[\"Name\",\"DOB\",\"Gender\",\"Salary\"]\n",
    "# creating spark dataframe\n",
    "df=spark.createDataFrame(data=data,schema=columns)\n",
    "df.show()"
   ]
  },
  {
   "cell_type": "code",
   "execution_count": 4,
   "id": "f401b39f",
   "metadata": {},
   "outputs": [
    {
     "name": "stdout",
     "output_type": "stream",
     "text": [
      "+-----------+-----------+------+------+\n",
      "|       Name|DateOfBirth|Gender|Salary|\n",
      "+-----------+-----------+------+------+\n",
      "|        Ram| 2002-09-03|     M| 65000|\n",
      "|       Raju| 1980-08-12|     M| 78000|\n",
      "|Dhana Laxmi| 1992-12-12|     F| 67000|\n",
      "|Shivathmika| 2005-03-05|     F| 80000|\n",
      "|       Mona| 2002-08-01|     F| 90000|\n",
      "+-----------+-----------+------+------+\n",
      "\n"
     ]
    }
   ],
   "source": [
    "#Method 1: Using withColumnRenamed()\n",
    "# Renaming from DOB to DateOfBirth\n",
    "df.withColumnRenamed(\"DOB\",\"DateOfBirth\").show()\n"
   ]
  },
  {
   "cell_type": "code",
   "execution_count": 5,
   "id": "e5e08196",
   "metadata": {},
   "outputs": [
    {
     "name": "stdout",
     "output_type": "stream",
     "text": [
      "+-----------+----------+---+------+\n",
      "|       Name|       DOB|Sex|Amount|\n",
      "+-----------+----------+---+------+\n",
      "|        Ram|2002-09-03|  M| 65000|\n",
      "|       Raju|1980-08-12|  M| 78000|\n",
      "|Dhana Laxmi|1992-12-12|  F| 67000|\n",
      "|Shivathmika|2005-03-05|  F| 80000|\n",
      "|       Mona|2002-08-01|  F| 90000|\n",
      "+-----------+----------+---+------+\n",
      "\n"
     ]
    }
   ],
   "source": [
    "# Renaming multiple columns\n",
    "# Gender to Sex and Salary to Amount\n",
    "df.withColumnRenamed(\"Gender\",\"Sex\").withColumnRenamed(\"Salary\",\"Amount\").show()"
   ]
  },
  {
   "cell_type": "code",
   "execution_count": 6,
   "id": "665e29cb",
   "metadata": {},
   "outputs": [
    {
     "name": "stdout",
     "output_type": "stream",
     "text": [
      "+-----------+----------+------+------+\n",
      "|       name|       DOB|Gender|Salary|\n",
      "+-----------+----------+------+------+\n",
      "|        Ram|2002-09-03|     M| 65000|\n",
      "|       Raju|1980-08-12|     M| 78000|\n",
      "|Dhana Laxmi|1992-12-12|     F| 67000|\n",
      "|Shivathmika|2005-03-05|     F| 80000|\n",
      "|       Mona|2002-08-01|     F| 90000|\n",
      "+-----------+----------+------+------+\n",
      "\n"
     ]
    }
   ],
   "source": [
    "# Method 2: Using selectExpr()\n",
    "# change Name to name and remaining columns as it is\n",
    "df.selectExpr(\"Name as name\",\"DOB\",\"Gender\",\"Salary\").show()"
   ]
  },
  {
   "cell_type": "code",
   "execution_count": 7,
   "id": "faa30543",
   "metadata": {},
   "outputs": [
    {
     "name": "stdout",
     "output_type": "stream",
     "text": [
      "+-----------+----------+------+------+\n",
      "|       Name|       DOB|Gender|Amount|\n",
      "+-----------+----------+------+------+\n",
      "|        Ram|2002-09-03|     M| 65000|\n",
      "|       Raju|1980-08-12|     M| 78000|\n",
      "|Dhana Laxmi|1992-12-12|     F| 67000|\n",
      "|Shivathmika|2005-03-05|     F| 80000|\n",
      "|       Mona|2002-08-01|     F| 90000|\n",
      "+-----------+----------+------+------+\n",
      "\n"
     ]
    }
   ],
   "source": [
    "#Method 3: Using select() method\n",
    "# select(col().alias())\n",
    "# Rename Salary to Amount and remaining columns as it as\n",
    "from pyspark.sql.functions import col\n",
    "data=df.select(col(\"Name\"),col(\"DOB\"),col(\"Gender\"),col(\"Salary\").alias(\"Amount\"))\n",
    "data.show()\n"
   ]
  },
  {
   "cell_type": "code",
   "execution_count": 8,
   "id": "06a13181",
   "metadata": {},
   "outputs": [
    {
     "name": "stdout",
     "output_type": "stream",
     "text": [
      "+-----------+----------+---+-----------+\n",
      "|   Emp Name|Birth date|M/F|Paid salary|\n",
      "+-----------+----------+---+-----------+\n",
      "|        Ram|2002-09-03|  M|      65000|\n",
      "|       Raju|1980-08-12|  M|      78000|\n",
      "|Dhana Laxmi|1992-12-12|  F|      67000|\n",
      "|Shivathmika|2005-03-05|  F|      80000|\n",
      "|       Mona|2002-08-01|  F|      90000|\n",
      "+-----------+----------+---+-----------+\n",
      "\n"
     ]
    }
   ],
   "source": [
    "#Method 4: Using toDF()\n",
    "#toDF(*col)\n",
    "#create an order list of new column names and pass it into toDF function\n",
    "data_list=[\"Emp Name\",\"Birth date\",\"M/F\",\"Paid salary\"]\n",
    "new_df=df.toDF(*data_list)\n",
    "new_df.show()"
   ]
  },
  {
   "cell_type": "code",
   "execution_count": 9,
   "id": "d65926ab",
   "metadata": {},
   "outputs": [
    {
     "name": "stdout",
     "output_type": "stream",
     "text": [
      "+-----------+----------+---+------+\n",
      "|       Name|Birth Date|Sex|Salary|\n",
      "+-----------+----------+---+------+\n",
      "|        Ram|2002-09-03|  M| 65000|\n",
      "|       Raju|1980-08-12|  M| 78000|\n",
      "|Dhana Laxmi|1992-12-12|  F| 67000|\n",
      "|Shivathmika|2005-03-05|  F| 80000|\n",
      "|       Mona|2002-08-01|  F| 90000|\n",
      "+-----------+----------+---+------+\n",
      "\n"
     ]
    }
   ],
   "source": [
    "# To change only some columns\n",
    "data_list=[\"Name\",\"Birth Date\",\"Sex\",\"Salary\"]\n",
    "new_df=df.toDF(*data_list)\n",
    "new_df.show()"
   ]
  },
  {
   "cell_type": "code",
   "execution_count": null,
   "id": "87af680a",
   "metadata": {},
   "outputs": [],
   "source": []
  },
  {
   "cell_type": "code",
   "execution_count": null,
   "id": "4e42e12a",
   "metadata": {},
   "outputs": [],
   "source": []
  }
 ],
 "metadata": {
  "kernelspec": {
   "display_name": "Python 3 (ipykernel)",
   "language": "python",
   "name": "python3"
  },
  "language_info": {
   "codemirror_mode": {
    "name": "ipython",
    "version": 3
   },
   "file_extension": ".py",
   "mimetype": "text/x-python",
   "name": "python",
   "nbconvert_exporter": "python",
   "pygments_lexer": "ipython3",
   "version": "3.11.5"
  }
 },
 "nbformat": 4,
 "nbformat_minor": 5
}
