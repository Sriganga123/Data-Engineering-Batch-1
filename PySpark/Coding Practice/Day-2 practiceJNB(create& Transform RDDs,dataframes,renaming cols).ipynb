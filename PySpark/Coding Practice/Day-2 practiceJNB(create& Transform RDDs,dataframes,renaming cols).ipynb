{
 "cells": [
  {
   "cell_type": "code",
   "execution_count": 2,
   "id": "bd1f79a2",
   "metadata": {},
   "outputs": [],
   "source": [
    "import pyspark\n",
    "import findspark\n",
    "findspark.init()"
   ]
  },
  {
   "cell_type": "code",
   "execution_count": 3,
   "id": "7f83afd0",
   "metadata": {},
   "outputs": [
    {
     "data": {
      "text/html": [
       "\n",
       "            <div>\n",
       "                <p><b>SparkSession - in-memory</b></p>\n",
       "                \n",
       "        <div>\n",
       "            <p><b>SparkContext</b></p>\n",
       "\n",
       "            <p><a href=\"http://DESKTOP-HPGQI4S:4040\">Spark UI</a></p>\n",
       "\n",
       "            <dl>\n",
       "              <dt>Version</dt>\n",
       "                <dd><code>v3.5.0</code></dd>\n",
       "              <dt>Master</dt>\n",
       "                <dd><code>local[*]</code></dd>\n",
       "              <dt>AppName</dt>\n",
       "                <dd><code>Create RDDs</code></dd>\n",
       "            </dl>\n",
       "        </div>\n",
       "        \n",
       "            </div>\n",
       "        "
      ],
      "text/plain": [
       "<pyspark.sql.session.SparkSession at 0x2540a22d310>"
      ]
     },
     "execution_count": 3,
     "metadata": {},
     "output_type": "execute_result"
    }
   ],
   "source": [
    "#######  Creating RDD\n",
    "# 1) using parallelize()\n",
    "from pyspark.sql import SparkSession\n",
    "spark=SparkSession.builder.appName(\"Create RDDs\").getOrCreate()\n",
    "spark"
   ]
  },
  {
   "cell_type": "code",
   "execution_count": 4,
   "id": "cc2e0ca1",
   "metadata": {},
   "outputs": [
    {
     "data": {
      "text/plain": [
       "[('Sona', 22), ('Mona', 19), ('Chinnu', 24), ('Sunny', 23), ('Bannu', 26)]"
      ]
     },
     "execution_count": 4,
     "metadata": {},
     "output_type": "execute_result"
    }
   ],
   "source": [
    "data=[(\"Sona\",22),(\"Mona\",19),(\"Chinnu\",24),(\"Sunny\",23),(\"Bannu\",26)]\n",
    "rdd=spark.sparkContext.parallelize(data)\n",
    "rdd.collect()"
   ]
  },
  {
   "cell_type": "code",
   "execution_count": 5,
   "id": "d0809f78",
   "metadata": {},
   "outputs": [
    {
     "name": "stdout",
     "output_type": "stream",
     "text": [
      "<class 'pyspark.rdd.RDD'>\n"
     ]
    }
   ],
   "source": [
    "print(type(rdd))"
   ]
  },
  {
   "cell_type": "code",
   "execution_count": 6,
   "id": "f09b103a",
   "metadata": {},
   "outputs": [
    {
     "data": {
      "text/plain": [
       "C:\\Users\\DELL\\OneDrive\\Desktop\\Data Engineering Python\\DEPython\\app.txt MapPartitionsRDD[2] at textFile at NativeMethodAccessorImpl.java:0"
      ]
     },
     "execution_count": 6,
     "metadata": {},
     "output_type": "execute_result"
    }
   ],
   "source": [
    "# 2) sparkContext.textFile()\n",
    "data=spark.sparkContext.textFile(\"C:\\\\Users\\\\DELL\\\\OneDrive\\\\Desktop\\\\Data Engineering Python\\\\DEPython\\\\app.txt\")\n",
    "data"
   ]
  },
  {
   "cell_type": "code",
   "execution_count": 7,
   "id": "beca55cb",
   "metadata": {},
   "outputs": [
    {
     "data": {
      "text/plain": [
       "['I am Sriganga.I am from Nizamabad.Hello WelcomeHello WelcomeHello WelcomeHello Welcome']"
      ]
     },
     "execution_count": 7,
     "metadata": {},
     "output_type": "execute_result"
    }
   ],
   "source": [
    "data.collect()"
   ]
  },
  {
   "cell_type": "code",
   "execution_count": 8,
   "id": "30e64146",
   "metadata": {},
   "outputs": [
    {
     "name": "stdout",
     "output_type": "stream",
     "text": [
      "<class 'pyspark.rdd.RDD'>\n"
     ]
    }
   ],
   "source": [
    "print(type(data))"
   ]
  },
  {
   "cell_type": "code",
   "execution_count": 9,
   "id": "869be226",
   "metadata": {},
   "outputs": [
    {
     "data": {
      "text/plain": [
       "[('file:/C:/Users/DELL/OneDrive/Desktop/Data Engineering Python/DEPython/app.txt',\n",
       "  'I am Sriganga.I am from Nizamabad.Hello WelcomeHello WelcomeHello WelcomeHello Welcome')]"
      ]
     },
     "execution_count": 9,
     "metadata": {},
     "output_type": "execute_result"
    }
   ],
   "source": [
    "# 3)using sparkContext.wholeTextFiles()\n",
    "# Returns a pair RDD with file name-key and text-value\n",
    "data=spark.sparkContext.wholeTextFiles(\"C:\\\\Users\\\\DELL\\\\OneDrive\\\\Desktop\\\\Data Engineering Python\\\\DEPython\\\\app.txt\")\n",
    "data.collect()"
   ]
  },
  {
   "cell_type": "code",
   "execution_count": 10,
   "id": "c8576c4b",
   "metadata": {},
   "outputs": [
    {
     "name": "stdout",
     "output_type": "stream",
     "text": [
      "<class 'pyspark.rdd.RDD'>\n"
     ]
    }
   ],
   "source": [
    "print(type(data))"
   ]
  },
  {
   "cell_type": "code",
   "execution_count": 24,
   "id": "4ba1c19d",
   "metadata": {},
   "outputs": [
    {
     "name": "stdout",
     "output_type": "stream",
     "text": [
      "+-------------------------------------------------------------------------------------------------+\n",
      "|Text_Data                                                                                        |\n",
      "+-------------------------------------------------------------------------------------------------+\n",
      "|[I, am, Sriganga.I, am, from, Nizamabad.Hello, WelcomeHello, WelcomeHello, WelcomeHello, Welcome]|\n",
      "+-------------------------------------------------------------------------------------------------+\n",
      "\n"
     ]
    }
   ],
   "source": [
    "# spark.read.format()\n",
    "# Read data from a file in local file system\n",
    "df = spark.read.format(\"text\").load(\"C:\\\\Users\\\\DELL\\\\OneDrive\\\\Desktop\\\\Data Engineering Python\\\\DEPython\\\\app.txt\")\n",
    "\n",
    "# Split the 'value' column based on spaces and rename it as 'Text_Data'\n",
    "df = df.selectExpr(\"split(value, ' ') as Text_Data\")\n",
    "\n",
    "# Show the resulting DataFrame\n",
    "df.show(4,False)\n"
   ]
  },
  {
   "cell_type": "code",
   "execution_count": 12,
   "id": "1262ae2e",
   "metadata": {},
   "outputs": [
    {
     "data": {
      "text/plain": [
       "['ID,Name,Age,Salary',\n",
       " '1,Sona,12,12000',\n",
       " '2,Mona,21,43000',\n",
       " '3,Bannu,13,25000',\n",
       " '4,Chinnu,23,10000',\n",
       " '5,sunny,14,23000',\n",
       " '6,raju,24,78000',\n",
       " '7,ram,15,45000',\n",
       " '8,lucky,25,50000',\n",
       " '9,Appy,17,60000',\n",
       " '10,Lekha,38,21890',\n",
       " '11,Vinnni,11,78654',\n",
       " '12,pavan,19,34567',\n",
       " '13,Sita,32,78901',\n",
       " '14,latha,33,56455',\n",
       " '15,Gita,28,25678']"
      ]
     },
     "execution_count": 12,
     "metadata": {},
     "output_type": "execute_result"
    }
   ],
   "source": [
    "# 4) RDD from CSV file\n",
    "data=spark.sparkContext.textFile('C:\\\\Users\\\\DELL\\\\OneDrive\\\\Desktop\\\\Data Engineering Python\\\\DEPython\\\\Example-1.csv')\n",
    "data.collect()"
   ]
  },
  {
   "cell_type": "code",
   "execution_count": 13,
   "id": "ad8f5975",
   "metadata": {},
   "outputs": [
    {
     "name": "stdout",
     "output_type": "stream",
     "text": [
      "<class 'pyspark.rdd.RDD'>\n"
     ]
    }
   ],
   "source": [
    "print(type(data))"
   ]
  },
  {
   "cell_type": "code",
   "execution_count": 14,
   "id": "b02cb5d6",
   "metadata": {},
   "outputs": [
    {
     "data": {
      "text/plain": [
       "['{\"t_name\": \"Dhana Laxmi\", \"t_id\": 200, \"t_age\": 43, \"t_salary\": 45000}']"
      ]
     },
     "execution_count": 14,
     "metadata": {},
     "output_type": "execute_result"
    }
   ],
   "source": [
    "# 5) RDD from json file\n",
    "data=spark.sparkContext.textFile(\"C:\\\\Users\\\\DELL\\\\OneDrive\\\\Desktop\\\\Data Engineering Python\\\\DEPython\\\\teacher.json\")\n",
    "data.collect()"
   ]
  },
  {
   "cell_type": "code",
   "execution_count": 15,
   "id": "862970cf",
   "metadata": {},
   "outputs": [
    {
     "name": "stdout",
     "output_type": "stream",
     "text": [
      "<class 'pyspark.rdd.RDD'>\n"
     ]
    }
   ],
   "source": [
    "print(type(data))"
   ]
  },
  {
   "cell_type": "code",
   "execution_count": 16,
   "id": "40c01853",
   "metadata": {},
   "outputs": [
    {
     "name": "stdout",
     "output_type": "stream",
     "text": [
      "<class 'pyspark.rdd.RDD'>\n"
     ]
    }
   ],
   "source": [
    "# 6)empty RDD using sparkContext.emptyRDD\n",
    "data1=spark.sparkContext.emptyRDD()\n",
    "print(type(data1))"
   ]
  },
  {
   "cell_type": "code",
   "execution_count": 17,
   "id": "13413b77",
   "metadata": {},
   "outputs": [],
   "source": [
    "###### Transforming data with PySpark RDDs\n",
    "# Actions\n",
    "from pyspark import SparkContext\n",
    "sc=SparkContext.getOrCreate()\n"
   ]
  },
  {
   "cell_type": "code",
   "execution_count": 18,
   "id": "7239a9c3",
   "metadata": {},
   "outputs": [
    {
     "name": "stdout",
     "output_type": "stream",
     "text": [
      "<class 'pyspark.rdd.RDD'>\n"
     ]
    }
   ],
   "source": [
    "# 1) collect()\n",
    "collect_rdd=sc.parallelize([12,3,2,6,4,8,9,44,21,5,49])\n",
    "print(type(collect_rdd))"
   ]
  },
  {
   "cell_type": "code",
   "execution_count": 19,
   "id": "d3b24257",
   "metadata": {},
   "outputs": [
    {
     "data": {
      "text/plain": [
       "[12, 3, 2, 6, 4, 8, 9, 44, 21, 5, 49]"
      ]
     },
     "execution_count": 19,
     "metadata": {},
     "output_type": "execute_result"
    }
   ],
   "source": [
    "collect_rdd.collect()"
   ]
  },
  {
   "cell_type": "code",
   "execution_count": 20,
   "id": "16f50750",
   "metadata": {},
   "outputs": [
    {
     "name": "stdout",
     "output_type": "stream",
     "text": [
      "<class 'pyspark.rdd.RDD'>\n"
     ]
    }
   ],
   "source": [
    "# 2) count()\n",
    "count_rdd=sc.parallelize([1,5,4,3,3,2,1,66,88,43,11])\n",
    "print(type(count_rdd))"
   ]
  },
  {
   "cell_type": "code",
   "execution_count": 21,
   "id": "0c22fe32",
   "metadata": {},
   "outputs": [
    {
     "data": {
      "text/plain": [
       "11"
      ]
     },
     "execution_count": 21,
     "metadata": {},
     "output_type": "execute_result"
    }
   ],
   "source": [
    "count_rdd.count()"
   ]
  },
  {
   "cell_type": "code",
   "execution_count": 38,
   "id": "52599ea9",
   "metadata": {},
   "outputs": [
    {
     "name": "stdout",
     "output_type": "stream",
     "text": [
      "<class 'pyspark.rdd.RDD'>\n"
     ]
    }
   ],
   "source": [
    "# 3) first()\n",
    "first_rdd=sc.parallelize([1888,4,3,66,78,9])\n",
    "print(type(first_rdd))"
   ]
  },
  {
   "cell_type": "code",
   "execution_count": 39,
   "id": "4c02495d",
   "metadata": {},
   "outputs": [
    {
     "data": {
      "text/plain": [
       "1888"
      ]
     },
     "execution_count": 39,
     "metadata": {},
     "output_type": "execute_result"
    }
   ],
   "source": [
    "first_rdd.first()"
   ]
  },
  {
   "cell_type": "code",
   "execution_count": 40,
   "id": "a5d4b655",
   "metadata": {},
   "outputs": [
    {
     "data": {
      "text/plain": [
       "['sona', 'mona', 11]"
      ]
     },
     "execution_count": 40,
     "metadata": {},
     "output_type": "execute_result"
    }
   ],
   "source": [
    "# 4) take(n)\n",
    "take_rdd=sc.parallelize(['sona','mona',11,'Raju',89,'Dhana',11])\n",
    "take_rdd.take(3)"
   ]
  },
  {
   "cell_type": "code",
   "execution_count": 41,
   "id": "851ebbfc",
   "metadata": {},
   "outputs": [
    {
     "data": {
      "text/plain": [
       "176"
      ]
     },
     "execution_count": 41,
     "metadata": {},
     "output_type": "execute_result"
    }
   ],
   "source": [
    "# 5) reduce()\n",
    "reduce_rdd=sc.parallelize([11,55,66,44])\n",
    "reduce_rdd.reduce(lambda x,y:x+y)"
   ]
  },
  {
   "cell_type": "code",
   "execution_count": null,
   "id": "c2e75272",
   "metadata": {},
   "outputs": [],
   "source": [
    "# 6) saveAsTextfile()\n",
    "save_rdd=sc.parallelize([2,4,6,7,8])\n",
    "save_rdd.saveAsTextFile(\"first.txt\")"
   ]
  },
  {
   "cell_type": "code",
   "execution_count": 68,
   "id": "8b8ce134",
   "metadata": {},
   "outputs": [
    {
     "data": {
      "text/plain": [
       "-55"
      ]
     },
     "execution_count": 68,
     "metadata": {},
     "output_type": "execute_result"
    }
   ],
   "source": [
    "# 7) min()\n",
    "rdd=sc.parallelize([6,8,4,22,0,-7,-55])\n",
    "rdd.min()"
   ]
  },
  {
   "cell_type": "code",
   "execution_count": 69,
   "id": "a53a09fa",
   "metadata": {},
   "outputs": [
    {
     "data": {
      "text/plain": [
       "22"
      ]
     },
     "execution_count": 69,
     "metadata": {},
     "output_type": "execute_result"
    }
   ],
   "source": [
    "rdd.max()"
   ]
  },
  {
   "cell_type": "code",
   "execution_count": 70,
   "id": "4fa80596",
   "metadata": {},
   "outputs": [
    {
     "data": {
      "text/plain": [
       "-3.142857142857143"
      ]
     },
     "execution_count": 70,
     "metadata": {},
     "output_type": "execute_result"
    }
   ],
   "source": [
    "rdd.mean()"
   ]
  },
  {
   "cell_type": "code",
   "execution_count": 43,
   "id": "93e77c44",
   "metadata": {},
   "outputs": [
    {
     "data": {
      "text/plain": [
       "[2, 4, 10, 16]"
      ]
     },
     "execution_count": 43,
     "metadata": {},
     "output_type": "execute_result"
    }
   ],
   "source": [
    "# Transformations of RDDs\n",
    "# 1) map()\n",
    "data=sc.parallelize([1,2,5,8])\n",
    "data.map(lambda x:x*2).collect()"
   ]
  },
  {
   "cell_type": "code",
   "execution_count": 57,
   "id": "70199605",
   "metadata": {},
   "outputs": [
    {
     "data": {
      "text/plain": [
       "[10, 22, 33]"
      ]
     },
     "execution_count": 57,
     "metadata": {},
     "output_type": "execute_result"
    }
   ],
   "source": [
    "# 2)filter()\n",
    "data=sc.parallelize([6,9,10,22,1,5,3,2,6,33])\n",
    "data.filter(lambda x:x>9).collect()"
   ]
  },
  {
   "cell_type": "code",
   "execution_count": 63,
   "id": "0a7e2471",
   "metadata": {},
   "outputs": [
    {
     "data": {
      "text/plain": [
       "['sona', 'sriganaga', 'mona', 'sunny', 'shiva', 'chinnu']"
      ]
     },
     "execution_count": 63,
     "metadata": {},
     "output_type": "execute_result"
    }
   ],
   "source": [
    "data=sc.parallelize(['sona','sriganaga','mona','sunny','shiva','chinnu'])\n",
    "data.filter(lambda x:x).collect()"
   ]
  },
  {
   "cell_type": "code",
   "execution_count": 49,
   "id": "a6a1b247",
   "metadata": {},
   "outputs": [
    {
     "data": {
      "text/plain": [
       "[1, 2, 5, 7, 55, 12, 15]"
      ]
     },
     "execution_count": 49,
     "metadata": {},
     "output_type": "execute_result"
    }
   ],
   "source": [
    "# 3) union()\n",
    "data=sc.parallelize([1,2,-4,5,7,-88,55,-44,12,15,0])\n",
    "union1_rdd=data.filter(lambda x:x>0)\n",
    "union1_rdd.collect()\n"
   ]
  },
  {
   "cell_type": "code",
   "execution_count": 50,
   "id": "434a2fe5",
   "metadata": {},
   "outputs": [
    {
     "data": {
      "text/plain": [
       "[-4, -88, -44]"
      ]
     },
     "execution_count": 50,
     "metadata": {},
     "output_type": "execute_result"
    }
   ],
   "source": [
    "union2_rdd=data.filter(lambda x:x<0)\n",
    "union2_rdd.collect()"
   ]
  },
  {
   "cell_type": "code",
   "execution_count": 51,
   "id": "651a32b6",
   "metadata": {},
   "outputs": [
    {
     "data": {
      "text/plain": [
       "[1, 2, 5, 7, 55, 12, 15, -4, -88, -44]"
      ]
     },
     "execution_count": 51,
     "metadata": {},
     "output_type": "execute_result"
    }
   ],
   "source": [
    "union1_rdd.union(union2_rdd).collect()"
   ]
  },
  {
   "cell_type": "code",
   "execution_count": 67,
   "id": "0dfbfbbc",
   "metadata": {},
   "outputs": [
    {
     "data": {
      "text/plain": [
       "['Welcome', '', 'to', 'Pyspark', 'tutorial', '', 'on', 'Transforming', 'RDDs']"
      ]
     },
     "execution_count": 67,
     "metadata": {},
     "output_type": "execute_result"
    }
   ],
   "source": [
    "# flatMap()\n",
    "data=sc.parallelize([\"Welcome\",\" to Pyspark tutorial\",\" on Transforming RDDs\"])\n",
    "data.flatMap(lambda x:x.split(\" \")).collect()"
   ]
  },
  {
   "cell_type": "code",
   "execution_count": null,
   "id": "c9788165",
   "metadata": {},
   "outputs": [],
   "source": [
    "# Transformations from sparkbyexamples\n",
    "# Narrow transformations--> map(),filter(),union(),flatMap()\n",
    "# Wider Transformations---> groupByKey(),reduceByKey(),aggregate(),aggregateByKey(),join(),repartition()"
   ]
  },
  {
   "cell_type": "code",
   "execution_count": 72,
   "id": "033eedc3",
   "metadata": {},
   "outputs": [
    {
     "name": "stdout",
     "output_type": "stream",
     "text": [
      "[('Shreya', 50), ('Rohan', 44), ('Rahul', 48), ('Swati', 45), ('Abhay', 55)]\n"
     ]
    }
   ],
   "source": [
    "# 1) reduceByKey()\n",
    "##transformation performs multiple parallel processes for each key in the data and combines the values for the same keys\n",
    "marks_rdd = sc.parallelize([('Rahul', 25), ('Swati', 26), ('Shreya', 22), ('Abhay', 29), ('Rohan', 22), ('Rahul', 23), ('Swati', 19), ('Shreya', 28), ('Abhay', 26), ('Rohan', 22)])\n",
    "print(marks_rdd.reduceByKey(lambda x, y: x + y).collect())"
   ]
  },
  {
   "cell_type": "code",
   "execution_count": 74,
   "id": "74a11a2d",
   "metadata": {},
   "outputs": [
    {
     "name": "stdout",
     "output_type": "stream",
     "text": [
      "Shreya [22, 28]\n",
      "Rohan [22, 22]\n",
      "Rahul [25, 23]\n",
      "Swati [26, 19]\n",
      "Abhay [29, 26]\n"
     ]
    }
   ],
   "source": [
    "#2) groupByKey()\n",
    "dict_rdd=marks_rdd.groupByKey().collect()\n",
    "for i,j in dict_rdd:\n",
    "    print(i,list(j))"
   ]
  },
  {
   "cell_type": "code",
   "execution_count": 77,
   "id": "dd294203",
   "metadata": {},
   "outputs": [
    {
     "data": {
      "text/plain": [
       "[('Abhay', 29),\n",
       " ('Abhay', 26),\n",
       " ('Rahul', 25),\n",
       " ('Rahul', 23),\n",
       " ('Rohan', 22),\n",
       " ('Rohan', 22),\n",
       " ('Shreya', 22),\n",
       " ('Shreya', 28),\n",
       " ('Swati', 26),\n",
       " ('Swati', 19)]"
      ]
     },
     "execution_count": 77,
     "metadata": {},
     "output_type": "execute_result"
    }
   ],
   "source": [
    "#3) .sortByKey() Transformation\n",
    "marks_rdd.sortByKey('ascending').collect()"
   ]
  },
  {
   "cell_type": "code",
   "execution_count": null,
   "id": "ff00cb2a",
   "metadata": {},
   "outputs": [],
   "source": []
  },
  {
   "cell_type": "code",
   "execution_count": 78,
   "id": "181249a4",
   "metadata": {},
   "outputs": [],
   "source": [
    "# DataFrames\n",
    "# 1) Creating dataframe from existing RDD\n",
    "sc=SparkContext.getOrCreate()\n",
    "spark=SparkSession.builder.appName(\"Create data frames\").getOrCreate()\n"
   ]
  },
  {
   "cell_type": "code",
   "execution_count": 80,
   "id": "3c4c7a68",
   "metadata": {},
   "outputs": [
    {
     "data": {
      "text/plain": [
       "[('A', 'Sona', 78, 89, 45),\n",
       " ('B', 'Mona', 80, 45, 67),\n",
       " ('C', 'Chinnu', 67, 89, 20),\n",
       " ('D', 'Bannu', 89, 67, 56)]"
      ]
     },
     "execution_count": 80,
     "metadata": {},
     "output_type": "execute_result"
    }
   ],
   "source": [
    "data=sc.parallelize([('A',\"Sona\",78,89,45),('B',\"Mona\",80,45,67),('C',\"Chinnu\",67,89,20),('D',\"Bannu\",89,67,56)])\n",
    "data.collect()"
   ]
  },
  {
   "cell_type": "code",
   "execution_count": 81,
   "id": "ccd08d3d",
   "metadata": {},
   "outputs": [
    {
     "name": "stdout",
     "output_type": "stream",
     "text": [
      "<class 'pyspark.rdd.RDD'>\n"
     ]
    }
   ],
   "source": [
    "print(type(data))"
   ]
  },
  {
   "cell_type": "code",
   "execution_count": 82,
   "id": "74e7b9ec",
   "metadata": {},
   "outputs": [],
   "source": [
    "columns=[\"Section\",\"Name\",\"Maths\",\"Physics\",\"Chemistry\"]\n",
    "df=spark.createDataFrame(data,schema=columns)"
   ]
  },
  {
   "cell_type": "code",
   "execution_count": 83,
   "id": "9b411e35",
   "metadata": {},
   "outputs": [
    {
     "name": "stdout",
     "output_type": "stream",
     "text": [
      "+-------+------+-----+-------+---------+\n",
      "|Section|  Name|Maths|Physics|Chemistry|\n",
      "+-------+------+-----+-------+---------+\n",
      "|      A|  Sona|   78|     89|       45|\n",
      "|      B|  Mona|   80|     45|       67|\n",
      "|      C|Chinnu|   67|     89|       20|\n",
      "|      D| Bannu|   89|     67|       56|\n",
      "+-------+------+-----+-------+---------+\n",
      "\n"
     ]
    }
   ],
   "source": [
    "df.show()"
   ]
  },
  {
   "cell_type": "code",
   "execution_count": 84,
   "id": "638fa016",
   "metadata": {},
   "outputs": [
    {
     "name": "stdout",
     "output_type": "stream",
     "text": [
      "<class 'pyspark.sql.dataframe.DataFrame'>\n"
     ]
    }
   ],
   "source": [
    "print(type(df))"
   ]
  },
  {
   "cell_type": "code",
   "execution_count": 85,
   "id": "7623b06d",
   "metadata": {},
   "outputs": [
    {
     "name": "stdout",
     "output_type": "stream",
     "text": [
      "root\n",
      " |-- Section: string (nullable = true)\n",
      " |-- Name: string (nullable = true)\n",
      " |-- Maths: long (nullable = true)\n",
      " |-- Physics: long (nullable = true)\n",
      " |-- Chemistry: long (nullable = true)\n",
      "\n"
     ]
    }
   ],
   "source": [
    "df.printSchema()"
   ]
  },
  {
   "cell_type": "code",
   "execution_count": 87,
   "id": "3def0b3f",
   "metadata": {},
   "outputs": [
    {
     "name": "stdout",
     "output_type": "stream",
     "text": [
      "+--------+------+-----+-------+---------+\n",
      "|Division|  Name|Maths|Physics|Chemistry|\n",
      "+--------+------+-----+-------+---------+\n",
      "|       A|  Sona|   78|     89|       45|\n",
      "|       B|  Mona|   80|     45|       67|\n",
      "|       C|Chinnu|   67|     89|       20|\n",
      "|       D| Bannu|   89|     67|       56|\n",
      "+--------+------+-----+-------+---------+\n",
      "\n"
     ]
    }
   ],
   "source": [
    "# Renaming columns\n",
    "# 1) withColumnRenamed()\n",
    "df.withColumnRenamed('Section','Division').show()"
   ]
  },
  {
   "cell_type": "code",
   "execution_count": 90,
   "id": "fc6c5214",
   "metadata": {},
   "outputs": [],
   "source": [
    "# renaming multiple columns\n",
    "df1=df.withColumnRenamed('Name','name').withColumnRenamed('Chemistry','Biology')"
   ]
  },
  {
   "cell_type": "code",
   "execution_count": 91,
   "id": "046cc350",
   "metadata": {},
   "outputs": [
    {
     "name": "stdout",
     "output_type": "stream",
     "text": [
      "+-------+------+-----+-------+-------+\n",
      "|Section|  name|Maths|Physics|Biology|\n",
      "+-------+------+-----+-------+-------+\n",
      "|      A|  Sona|   78|     89|     45|\n",
      "|      B|  Mona|   80|     45|     67|\n",
      "|      C|Chinnu|   67|     89|     20|\n",
      "|      D| Bannu|   89|     67|     56|\n",
      "+-------+------+-----+-------+-------+\n",
      "\n"
     ]
    }
   ],
   "source": [
    "df1.show()"
   ]
  },
  {
   "cell_type": "code",
   "execution_count": 94,
   "id": "8d01f3bb",
   "metadata": {},
   "outputs": [
    {
     "name": "stdout",
     "output_type": "stream",
     "text": [
      "+---+------+----+-------+---------+\n",
      "|sec|  Name|math|Physics|Chemistry|\n",
      "+---+------+----+-------+---------+\n",
      "|  A|  Sona|  78|     89|       45|\n",
      "|  B|  Mona|  80|     45|       67|\n",
      "|  C|Chinnu|  67|     89|       20|\n",
      "|  D| Bannu|  89|     67|       56|\n",
      "+---+------+----+-------+---------+\n",
      "\n"
     ]
    }
   ],
   "source": [
    "# 2) selectExpr(expr)\n",
    "df.selectExpr(\"Section as sec\",\"Name\",\"Maths as math\",\"Physics\",\"Chemistry\").show()"
   ]
  },
  {
   "cell_type": "code",
   "execution_count": 96,
   "id": "6284ff43",
   "metadata": {},
   "outputs": [
    {
     "name": "stdout",
     "output_type": "stream",
     "text": [
      "+--------+------+----+-------+---------+\n",
      "|Division|  Name|math|Physics|Chemistry|\n",
      "+--------+------+----+-------+---------+\n",
      "|       A|  Sona|  78|     89|       45|\n",
      "|       B|  Mona|  80|     45|       67|\n",
      "|       C|Chinnu|  67|     89|       20|\n",
      "|       D| Bannu|  89|     67|       56|\n",
      "+--------+------+----+-------+---------+\n",
      "\n"
     ]
    }
   ],
   "source": [
    "# 3) select(col)\n",
    "from pyspark.sql.functions import col\n",
    "data=df.select(col(\"Section\").alias(\"Division\"),col(\"Name\"),col(\"Maths\").alias(\"math\"),col(\"Physics\"),col(\"Chemistry\"))\n",
    "data.show()"
   ]
  },
  {
   "cell_type": "code",
   "execution_count": 97,
   "id": "c33f4c7b",
   "metadata": {},
   "outputs": [
    {
     "name": "stdout",
     "output_type": "stream",
     "text": [
      "+--------+---------------+-----+-------+---------+\n",
      "|Division|Name of Student|Maths|Physics|Chemistry|\n",
      "+--------+---------------+-----+-------+---------+\n",
      "|       A|           Sona|   78|     89|       45|\n",
      "|       B|           Mona|   80|     45|       67|\n",
      "|       C|         Chinnu|   67|     89|       20|\n",
      "|       D|          Bannu|   89|     67|       56|\n",
      "+--------+---------------+-----+-------+---------+\n",
      "\n"
     ]
    }
   ],
   "source": [
    "# toDF(*col)\n",
    "li=[\"Division\",\"Name of Student\",\"Maths\",\"Physics\",\"Chemistry\"]\n",
    "df.toDF(*li).show()"
   ]
  },
  {
   "cell_type": "code",
   "execution_count": 99,
   "id": "1f4bdbf3",
   "metadata": {},
   "outputs": [
    {
     "name": "stdout",
     "output_type": "stream",
     "text": [
      "<class 'pyspark.sql.dataframe.DataFrame'>\n",
      "+---+------+---+------+\n",
      "| ID|  Name|Age|Salary|\n",
      "+---+------+---+------+\n",
      "|  1|  Sona| 12| 12000|\n",
      "|  2|  Mona| 21| 43000|\n",
      "|  3| Bannu| 13| 25000|\n",
      "|  4|Chinnu| 23| 10000|\n",
      "|  5| sunny| 14| 23000|\n",
      "|  6|  raju| 24| 78000|\n",
      "|  7|   ram| 15| 45000|\n",
      "|  8| lucky| 25| 50000|\n",
      "|  9|  Appy| 17| 60000|\n",
      "| 10| Lekha| 38| 21890|\n",
      "| 11|Vinnni| 11| 78654|\n",
      "| 12| pavan| 19| 34567|\n",
      "| 13|  Sita| 32| 78901|\n",
      "| 14| latha| 33| 56455|\n",
      "| 15|  Gita| 28| 25678|\n",
      "+---+------+---+------+\n",
      "\n",
      "root\n",
      " |-- ID: integer (nullable = true)\n",
      " |-- Name: string (nullable = true)\n",
      " |-- Age: integer (nullable = true)\n",
      " |-- Salary: integer (nullable = true)\n",
      "\n"
     ]
    }
   ],
   "source": [
    "# 2) Creating dataframes from External Files\n",
    "# a) from csv file\n",
    "df=spark.read.csv('C:\\\\Users\\\\DELL\\\\OneDrive\\\\Desktop\\\\Data Engineering Python\\\\DEPython\\\\Example-1.csv',sep=',',inferSchema=True,header=True)\n",
    "print(type(df))\n",
    "df.show()\n",
    "df.printSchema()"
   ]
  },
  {
   "cell_type": "code",
   "execution_count": 100,
   "id": "bf53c68a",
   "metadata": {},
   "outputs": [
    {
     "name": "stdout",
     "output_type": "stream",
     "text": [
      "<class 'pyspark.sql.dataframe.DataFrame'>\n",
      "+--------------------+\n",
      "|               value|\n",
      "+--------------------+\n",
      "|I am Sriganga.I a...|\n",
      "+--------------------+\n",
      "\n",
      "root\n",
      " |-- value: string (nullable = true)\n",
      "\n"
     ]
    }
   ],
   "source": [
    "# b) from text file\n",
    "df=spark.read.text(\"C:\\\\Users\\\\DELL\\\\OneDrive\\\\Desktop\\\\Data Engineering Python\\\\DEPython\\\\app.txt\")\n",
    "print(type(df))\n",
    "df.show()\n",
    "df.printSchema()"
   ]
  },
  {
   "cell_type": "code",
   "execution_count": 102,
   "id": "98f15144",
   "metadata": {},
   "outputs": [
    {
     "name": "stdout",
     "output_type": "stream",
     "text": [
      "<class 'pyspark.sql.dataframe.DataFrame'>\n",
      "+-----+----+-----------+--------+\n",
      "|t_age|t_id|     t_name|t_salary|\n",
      "+-----+----+-----------+--------+\n",
      "|   43| 200|Dhana Laxmi|   45000|\n",
      "+-----+----+-----------+--------+\n",
      "\n",
      "root\n",
      " |-- t_age: long (nullable = true)\n",
      " |-- t_id: long (nullable = true)\n",
      " |-- t_name: string (nullable = true)\n",
      " |-- t_salary: long (nullable = true)\n",
      "\n"
     ]
    }
   ],
   "source": [
    "# c) from json file\n",
    "df=spark.read.json(\"C:\\\\Users\\\\DELL\\\\OneDrive\\\\Desktop\\\\Data Engineering Python\\\\DEPython\\\\teacher.json\",multiLine=True)\n",
    "print(type(df))\n",
    "df.show()\n",
    "df.printSchema()"
   ]
  },
  {
   "cell_type": "code",
   "execution_count": 103,
   "id": "8c466697",
   "metadata": {},
   "outputs": [
    {
     "name": "stdout",
     "output_type": "stream",
     "text": [
      "+--------------------+\n",
      "|               value|\n",
      "+--------------------+\n",
      "|I am Sriganga.I a...|\n",
      "|   Name: Shivathmika|\n",
      "|             Age: 20|\n",
      "|            Marks:89|\n",
      "|            Grade: A|\n",
      "+--------------------+\n",
      "\n",
      "root\n",
      " |-- value: string (nullable = true)\n",
      "\n"
     ]
    }
   ],
   "source": [
    "# reading multiple files\n",
    "files=[\"C:\\\\Users\\\\DELL\\\\OneDrive\\\\Desktop\\\\Data Engineering Python\\\\DEPython\\\\app.txt\",\"C:\\\\Users\\\\DELL\\\\OneDrive\\\\Desktop\\\\Data Engineering Python\\\\DEPython\\\\student.txt\"]\n",
    "df=spark.read.text(files)\n",
    "df.show()\n",
    "df.printSchema()"
   ]
  },
  {
   "cell_type": "code",
   "execution_count": 104,
   "id": "fb16ba40",
   "metadata": {},
   "outputs": [],
   "source": [
    "# d) using pandas\n",
    "df1=spark.read.csv('C:\\\\Users\\\\DELL\\\\OneDrive\\\\Desktop\\\\Data Engineering Python\\\\DEPython\\\\Example-1.csv',sep=',',inferSchema=True,header=True)\n",
    "\n",
    "# converting into pandas dataframe\n",
    "df2=df1.toPandas()"
   ]
  },
  {
   "cell_type": "code",
   "execution_count": 105,
   "id": "4f1a1051",
   "metadata": {},
   "outputs": [
    {
     "name": "stdout",
     "output_type": "stream",
     "text": [
      "<class 'pandas.core.frame.DataFrame'>\n"
     ]
    }
   ],
   "source": [
    "print(type(df2))"
   ]
  },
  {
   "cell_type": "code",
   "execution_count": 106,
   "id": "cabe0cce",
   "metadata": {},
   "outputs": [
    {
     "data": {
      "text/html": [
       "<div>\n",
       "<style scoped>\n",
       "    .dataframe tbody tr th:only-of-type {\n",
       "        vertical-align: middle;\n",
       "    }\n",
       "\n",
       "    .dataframe tbody tr th {\n",
       "        vertical-align: top;\n",
       "    }\n",
       "\n",
       "    .dataframe thead th {\n",
       "        text-align: right;\n",
       "    }\n",
       "</style>\n",
       "<table border=\"1\" class=\"dataframe\">\n",
       "  <thead>\n",
       "    <tr style=\"text-align: right;\">\n",
       "      <th></th>\n",
       "      <th>ID</th>\n",
       "      <th>Name</th>\n",
       "      <th>Age</th>\n",
       "      <th>Salary</th>\n",
       "    </tr>\n",
       "  </thead>\n",
       "  <tbody>\n",
       "    <tr>\n",
       "      <th>0</th>\n",
       "      <td>1</td>\n",
       "      <td>Sona</td>\n",
       "      <td>12</td>\n",
       "      <td>12000</td>\n",
       "    </tr>\n",
       "    <tr>\n",
       "      <th>1</th>\n",
       "      <td>2</td>\n",
       "      <td>Mona</td>\n",
       "      <td>21</td>\n",
       "      <td>43000</td>\n",
       "    </tr>\n",
       "    <tr>\n",
       "      <th>2</th>\n",
       "      <td>3</td>\n",
       "      <td>Bannu</td>\n",
       "      <td>13</td>\n",
       "      <td>25000</td>\n",
       "    </tr>\n",
       "    <tr>\n",
       "      <th>3</th>\n",
       "      <td>4</td>\n",
       "      <td>Chinnu</td>\n",
       "      <td>23</td>\n",
       "      <td>10000</td>\n",
       "    </tr>\n",
       "    <tr>\n",
       "      <th>4</th>\n",
       "      <td>5</td>\n",
       "      <td>sunny</td>\n",
       "      <td>14</td>\n",
       "      <td>23000</td>\n",
       "    </tr>\n",
       "    <tr>\n",
       "      <th>5</th>\n",
       "      <td>6</td>\n",
       "      <td>raju</td>\n",
       "      <td>24</td>\n",
       "      <td>78000</td>\n",
       "    </tr>\n",
       "    <tr>\n",
       "      <th>6</th>\n",
       "      <td>7</td>\n",
       "      <td>ram</td>\n",
       "      <td>15</td>\n",
       "      <td>45000</td>\n",
       "    </tr>\n",
       "    <tr>\n",
       "      <th>7</th>\n",
       "      <td>8</td>\n",
       "      <td>lucky</td>\n",
       "      <td>25</td>\n",
       "      <td>50000</td>\n",
       "    </tr>\n",
       "    <tr>\n",
       "      <th>8</th>\n",
       "      <td>9</td>\n",
       "      <td>Appy</td>\n",
       "      <td>17</td>\n",
       "      <td>60000</td>\n",
       "    </tr>\n",
       "    <tr>\n",
       "      <th>9</th>\n",
       "      <td>10</td>\n",
       "      <td>Lekha</td>\n",
       "      <td>38</td>\n",
       "      <td>21890</td>\n",
       "    </tr>\n",
       "    <tr>\n",
       "      <th>10</th>\n",
       "      <td>11</td>\n",
       "      <td>Vinnni</td>\n",
       "      <td>11</td>\n",
       "      <td>78654</td>\n",
       "    </tr>\n",
       "    <tr>\n",
       "      <th>11</th>\n",
       "      <td>12</td>\n",
       "      <td>pavan</td>\n",
       "      <td>19</td>\n",
       "      <td>34567</td>\n",
       "    </tr>\n",
       "    <tr>\n",
       "      <th>12</th>\n",
       "      <td>13</td>\n",
       "      <td>Sita</td>\n",
       "      <td>32</td>\n",
       "      <td>78901</td>\n",
       "    </tr>\n",
       "    <tr>\n",
       "      <th>13</th>\n",
       "      <td>14</td>\n",
       "      <td>latha</td>\n",
       "      <td>33</td>\n",
       "      <td>56455</td>\n",
       "    </tr>\n",
       "    <tr>\n",
       "      <th>14</th>\n",
       "      <td>15</td>\n",
       "      <td>Gita</td>\n",
       "      <td>28</td>\n",
       "      <td>25678</td>\n",
       "    </tr>\n",
       "  </tbody>\n",
       "</table>\n",
       "</div>"
      ],
      "text/plain": [
       "    ID    Name  Age  Salary\n",
       "0    1    Sona   12   12000\n",
       "1    2    Mona   21   43000\n",
       "2    3   Bannu   13   25000\n",
       "3    4  Chinnu   23   10000\n",
       "4    5   sunny   14   23000\n",
       "5    6    raju   24   78000\n",
       "6    7     ram   15   45000\n",
       "7    8   lucky   25   50000\n",
       "8    9    Appy   17   60000\n",
       "9   10   Lekha   38   21890\n",
       "10  11  Vinnni   11   78654\n",
       "11  12   pavan   19   34567\n",
       "12  13    Sita   32   78901\n",
       "13  14   latha   33   56455\n",
       "14  15    Gita   28   25678"
      ]
     },
     "execution_count": 106,
     "metadata": {},
     "output_type": "execute_result"
    }
   ],
   "source": [
    "df2"
   ]
  },
  {
   "cell_type": "code",
   "execution_count": 114,
   "id": "a3a0a1c6",
   "metadata": {},
   "outputs": [],
   "source": [
    "df2.rename(columns={'ID':'Rollno'},inplace=True) # inplace=True changes the column name permanently"
   ]
  },
  {
   "cell_type": "code",
   "execution_count": 117,
   "id": "5c4d5be4",
   "metadata": {},
   "outputs": [
    {
     "data": {
      "text/html": [
       "<div>\n",
       "<style scoped>\n",
       "    .dataframe tbody tr th:only-of-type {\n",
       "        vertical-align: middle;\n",
       "    }\n",
       "\n",
       "    .dataframe tbody tr th {\n",
       "        vertical-align: top;\n",
       "    }\n",
       "\n",
       "    .dataframe thead th {\n",
       "        text-align: right;\n",
       "    }\n",
       "</style>\n",
       "<table border=\"1\" class=\"dataframe\">\n",
       "  <thead>\n",
       "    <tr style=\"text-align: right;\">\n",
       "      <th></th>\n",
       "      <th>Rollno</th>\n",
       "      <th>Name</th>\n",
       "      <th>Age</th>\n",
       "      <th>Salary</th>\n",
       "    </tr>\n",
       "  </thead>\n",
       "  <tbody>\n",
       "    <tr>\n",
       "      <th>0</th>\n",
       "      <td>1</td>\n",
       "      <td>Sona</td>\n",
       "      <td>12</td>\n",
       "      <td>12000</td>\n",
       "    </tr>\n",
       "    <tr>\n",
       "      <th>1</th>\n",
       "      <td>2</td>\n",
       "      <td>Mona</td>\n",
       "      <td>21</td>\n",
       "      <td>43000</td>\n",
       "    </tr>\n",
       "    <tr>\n",
       "      <th>2</th>\n",
       "      <td>3</td>\n",
       "      <td>Bannu</td>\n",
       "      <td>13</td>\n",
       "      <td>25000</td>\n",
       "    </tr>\n",
       "    <tr>\n",
       "      <th>3</th>\n",
       "      <td>4</td>\n",
       "      <td>Chinnu</td>\n",
       "      <td>23</td>\n",
       "      <td>10000</td>\n",
       "    </tr>\n",
       "    <tr>\n",
       "      <th>4</th>\n",
       "      <td>5</td>\n",
       "      <td>sunny</td>\n",
       "      <td>14</td>\n",
       "      <td>23000</td>\n",
       "    </tr>\n",
       "    <tr>\n",
       "      <th>5</th>\n",
       "      <td>6</td>\n",
       "      <td>raju</td>\n",
       "      <td>24</td>\n",
       "      <td>78000</td>\n",
       "    </tr>\n",
       "    <tr>\n",
       "      <th>6</th>\n",
       "      <td>7</td>\n",
       "      <td>ram</td>\n",
       "      <td>15</td>\n",
       "      <td>45000</td>\n",
       "    </tr>\n",
       "    <tr>\n",
       "      <th>7</th>\n",
       "      <td>8</td>\n",
       "      <td>lucky</td>\n",
       "      <td>25</td>\n",
       "      <td>50000</td>\n",
       "    </tr>\n",
       "    <tr>\n",
       "      <th>8</th>\n",
       "      <td>9</td>\n",
       "      <td>Appy</td>\n",
       "      <td>17</td>\n",
       "      <td>60000</td>\n",
       "    </tr>\n",
       "    <tr>\n",
       "      <th>9</th>\n",
       "      <td>10</td>\n",
       "      <td>Lekha</td>\n",
       "      <td>38</td>\n",
       "      <td>21890</td>\n",
       "    </tr>\n",
       "    <tr>\n",
       "      <th>10</th>\n",
       "      <td>11</td>\n",
       "      <td>Vinnni</td>\n",
       "      <td>11</td>\n",
       "      <td>78654</td>\n",
       "    </tr>\n",
       "    <tr>\n",
       "      <th>11</th>\n",
       "      <td>12</td>\n",
       "      <td>pavan</td>\n",
       "      <td>19</td>\n",
       "      <td>34567</td>\n",
       "    </tr>\n",
       "    <tr>\n",
       "      <th>12</th>\n",
       "      <td>13</td>\n",
       "      <td>Sita</td>\n",
       "      <td>32</td>\n",
       "      <td>78901</td>\n",
       "    </tr>\n",
       "    <tr>\n",
       "      <th>13</th>\n",
       "      <td>14</td>\n",
       "      <td>latha</td>\n",
       "      <td>33</td>\n",
       "      <td>56455</td>\n",
       "    </tr>\n",
       "    <tr>\n",
       "      <th>14</th>\n",
       "      <td>15</td>\n",
       "      <td>Gita</td>\n",
       "      <td>28</td>\n",
       "      <td>25678</td>\n",
       "    </tr>\n",
       "  </tbody>\n",
       "</table>\n",
       "</div>"
      ],
      "text/plain": [
       "    Rollno    Name  Age  Salary\n",
       "0        1    Sona   12   12000\n",
       "1        2    Mona   21   43000\n",
       "2        3   Bannu   13   25000\n",
       "3        4  Chinnu   23   10000\n",
       "4        5   sunny   14   23000\n",
       "5        6    raju   24   78000\n",
       "6        7     ram   15   45000\n",
       "7        8   lucky   25   50000\n",
       "8        9    Appy   17   60000\n",
       "9       10   Lekha   38   21890\n",
       "10      11  Vinnni   11   78654\n",
       "11      12   pavan   19   34567\n",
       "12      13    Sita   32   78901\n",
       "13      14   latha   33   56455\n",
       "14      15    Gita   28   25678"
      ]
     },
     "execution_count": 117,
     "metadata": {},
     "output_type": "execute_result"
    }
   ],
   "source": [
    "df2"
   ]
  },
  {
   "cell_type": "code",
   "execution_count": 118,
   "id": "a89611a5",
   "metadata": {},
   "outputs": [],
   "source": [
    "df2.columns=['Rollno','Stu_Name','Age','Amount_Paid']"
   ]
  },
  {
   "cell_type": "code",
   "execution_count": 119,
   "id": "d2f0bf86",
   "metadata": {},
   "outputs": [
    {
     "data": {
      "text/html": [
       "<div>\n",
       "<style scoped>\n",
       "    .dataframe tbody tr th:only-of-type {\n",
       "        vertical-align: middle;\n",
       "    }\n",
       "\n",
       "    .dataframe tbody tr th {\n",
       "        vertical-align: top;\n",
       "    }\n",
       "\n",
       "    .dataframe thead th {\n",
       "        text-align: right;\n",
       "    }\n",
       "</style>\n",
       "<table border=\"1\" class=\"dataframe\">\n",
       "  <thead>\n",
       "    <tr style=\"text-align: right;\">\n",
       "      <th></th>\n",
       "      <th>Rollno</th>\n",
       "      <th>Stu_Name</th>\n",
       "      <th>Age</th>\n",
       "      <th>Amount_Paid</th>\n",
       "    </tr>\n",
       "  </thead>\n",
       "  <tbody>\n",
       "    <tr>\n",
       "      <th>0</th>\n",
       "      <td>1</td>\n",
       "      <td>Sona</td>\n",
       "      <td>12</td>\n",
       "      <td>12000</td>\n",
       "    </tr>\n",
       "    <tr>\n",
       "      <th>1</th>\n",
       "      <td>2</td>\n",
       "      <td>Mona</td>\n",
       "      <td>21</td>\n",
       "      <td>43000</td>\n",
       "    </tr>\n",
       "    <tr>\n",
       "      <th>2</th>\n",
       "      <td>3</td>\n",
       "      <td>Bannu</td>\n",
       "      <td>13</td>\n",
       "      <td>25000</td>\n",
       "    </tr>\n",
       "    <tr>\n",
       "      <th>3</th>\n",
       "      <td>4</td>\n",
       "      <td>Chinnu</td>\n",
       "      <td>23</td>\n",
       "      <td>10000</td>\n",
       "    </tr>\n",
       "    <tr>\n",
       "      <th>4</th>\n",
       "      <td>5</td>\n",
       "      <td>sunny</td>\n",
       "      <td>14</td>\n",
       "      <td>23000</td>\n",
       "    </tr>\n",
       "    <tr>\n",
       "      <th>5</th>\n",
       "      <td>6</td>\n",
       "      <td>raju</td>\n",
       "      <td>24</td>\n",
       "      <td>78000</td>\n",
       "    </tr>\n",
       "    <tr>\n",
       "      <th>6</th>\n",
       "      <td>7</td>\n",
       "      <td>ram</td>\n",
       "      <td>15</td>\n",
       "      <td>45000</td>\n",
       "    </tr>\n",
       "    <tr>\n",
       "      <th>7</th>\n",
       "      <td>8</td>\n",
       "      <td>lucky</td>\n",
       "      <td>25</td>\n",
       "      <td>50000</td>\n",
       "    </tr>\n",
       "    <tr>\n",
       "      <th>8</th>\n",
       "      <td>9</td>\n",
       "      <td>Appy</td>\n",
       "      <td>17</td>\n",
       "      <td>60000</td>\n",
       "    </tr>\n",
       "    <tr>\n",
       "      <th>9</th>\n",
       "      <td>10</td>\n",
       "      <td>Lekha</td>\n",
       "      <td>38</td>\n",
       "      <td>21890</td>\n",
       "    </tr>\n",
       "    <tr>\n",
       "      <th>10</th>\n",
       "      <td>11</td>\n",
       "      <td>Vinnni</td>\n",
       "      <td>11</td>\n",
       "      <td>78654</td>\n",
       "    </tr>\n",
       "    <tr>\n",
       "      <th>11</th>\n",
       "      <td>12</td>\n",
       "      <td>pavan</td>\n",
       "      <td>19</td>\n",
       "      <td>34567</td>\n",
       "    </tr>\n",
       "    <tr>\n",
       "      <th>12</th>\n",
       "      <td>13</td>\n",
       "      <td>Sita</td>\n",
       "      <td>32</td>\n",
       "      <td>78901</td>\n",
       "    </tr>\n",
       "    <tr>\n",
       "      <th>13</th>\n",
       "      <td>14</td>\n",
       "      <td>latha</td>\n",
       "      <td>33</td>\n",
       "      <td>56455</td>\n",
       "    </tr>\n",
       "    <tr>\n",
       "      <th>14</th>\n",
       "      <td>15</td>\n",
       "      <td>Gita</td>\n",
       "      <td>28</td>\n",
       "      <td>25678</td>\n",
       "    </tr>\n",
       "  </tbody>\n",
       "</table>\n",
       "</div>"
      ],
      "text/plain": [
       "    Rollno Stu_Name  Age  Amount_Paid\n",
       "0        1     Sona   12        12000\n",
       "1        2     Mona   21        43000\n",
       "2        3    Bannu   13        25000\n",
       "3        4   Chinnu   23        10000\n",
       "4        5    sunny   14        23000\n",
       "5        6     raju   24        78000\n",
       "6        7      ram   15        45000\n",
       "7        8    lucky   25        50000\n",
       "8        9     Appy   17        60000\n",
       "9       10    Lekha   38        21890\n",
       "10      11   Vinnni   11        78654\n",
       "11      12    pavan   19        34567\n",
       "12      13     Sita   32        78901\n",
       "13      14    latha   33        56455\n",
       "14      15     Gita   28        25678"
      ]
     },
     "execution_count": 119,
     "metadata": {},
     "output_type": "execute_result"
    }
   ],
   "source": [
    "df2"
   ]
  },
  {
   "cell_type": "code",
   "execution_count": null,
   "id": "4127b88a",
   "metadata": {},
   "outputs": [],
   "source": []
  }
 ],
 "metadata": {
  "kernelspec": {
   "display_name": "Python 3 (ipykernel)",
   "language": "python",
   "name": "python3"
  },
  "language_info": {
   "codemirror_mode": {
    "name": "ipython",
    "version": 3
   },
   "file_extension": ".py",
   "mimetype": "text/x-python",
   "name": "python",
   "nbconvert_exporter": "python",
   "pygments_lexer": "ipython3",
   "version": "3.11.5"
  }
 },
 "nbformat": 4,
 "nbformat_minor": 5
}
