{
 "cells": [
  {
   "cell_type": "code",
   "execution_count": 0,
   "metadata": {
    "application/vnd.databricks.v1+cell": {
     "cellMetadata": {
      "byteLimit": 2048000,
      "rowLimit": 10000
     },
     "inputWidgets": {},
     "nuid": "c9ab7a55-b275-4632-be0a-7655b44c3094",
     "showTitle": false,
     "title": ""
    }
   },
   "outputs": [],
   "source": [
    "# Setting up configuration with ADLS gen2 account (hexaadls1049)\n",
    "spark.conf.set(\"fs.azure.account.key.hexaadls1049.dfs.core.windows.net\",\"nMK5TECyrk6SWzVuAHOOr8qgUBvjB3J3szoQGCzv87dhEj8iy+oyHKfbyDI+ewEnmONtSYdubHfM+ASt3WV0/A==\")"
   ]
  },
  {
   "cell_type": "code",
   "execution_count": 0,
   "metadata": {
    "application/vnd.databricks.v1+cell": {
     "cellMetadata": {
      "byteLimit": 2048000,
      "rowLimit": 10000
     },
     "inputWidgets": {},
     "nuid": "2c56fe3d-954c-4442-a51c-c9e7f3fd8ace",
     "showTitle": false,
     "title": ""
    }
   },
   "outputs": [
    {
     "output_type": "display_data",
     "data": {
      "text/html": [
       "<style scoped>\n",
       "  .table-result-container {\n",
       "    max-height: 300px;\n",
       "    overflow: auto;\n",
       "  }\n",
       "  table, th, td {\n",
       "    border: 1px solid black;\n",
       "    border-collapse: collapse;\n",
       "  }\n",
       "  th, td {\n",
       "    padding: 5px;\n",
       "  }\n",
       "  th {\n",
       "    text-align: left;\n",
       "  }\n",
       "</style><div class='table-result-container'><table class='table-result'><thead style='background-color: white'><tr><th>Games</th><th>Year</th><th>Country</th><th>Type</th><th>Cost_per_event</th><th>Cost_per_athlete</th></tr></thead><tbody><tr><td>Tokyo</td><td>1964</td><td>Japan</td><td>Summer</td><td>1.7</td><td>0.1</td></tr><tr><td>Munich</td><td>1972</td><td>Germany</td><td>Summer</td><td>5.2</td><td>0.1</td></tr><tr><td>Montreal</td><td>1976</td><td>Canada</td><td>Summer</td><td>30.8</td><td>1.0</td></tr><tr><td>Moscow</td><td>1980</td><td>Soviet Union</td><td>Summer</td><td>31.2</td><td>1.2</td></tr><tr><td>Los Angeles</td><td>1984</td><td>United States</td><td>Summer</td><td>3.3</td><td>0.1</td></tr><tr><td>Barcelona</td><td>1992</td><td>Spain</td><td>Summer</td><td>37.7</td><td>1.0</td></tr><tr><td>Atlanta</td><td>1996</td><td>United States</td><td>Summer</td><td>15.3</td><td>0.4</td></tr><tr><td>Sydney</td><td>2000</td><td>Australia</td><td>Summer</td><td>16.8</td><td>0.5</td></tr><tr><td>Athens</td><td>2004</td><td>Greece</td><td>Summer</td><td>9.8</td><td>0.3</td></tr><tr><td>Beijing</td><td>2008</td><td>China</td><td>Summer</td><td>22.5</td><td>0.6</td></tr><tr><td>London</td><td>2012</td><td>United Kingdom</td><td>Summer</td><td>49.5</td><td>1.4</td></tr><tr><td>Rio</td><td>2016</td><td>Brazil</td><td>Summer</td><td>14.9</td><td>0.4</td></tr><tr><td>Innsbruck</td><td>1964</td><td>Austria</td><td>Winter</td><td>0.6</td><td>0.02</td></tr><tr><td>Grenoble</td><td>1968</td><td>France</td><td>Winter</td><td>25.4</td><td>0.8</td></tr><tr><td>Sapporo</td><td>1972</td><td>Japan</td><td>Winter</td><td>3.4</td><td>0.1</td></tr><tr><td>Innsbruck</td><td>1976</td><td>Austria</td><td>Winter</td><td>3.2</td><td>0.1</td></tr><tr><td>Lake Placid</td><td>1980</td><td>United States</td><td>Winter</td><td>11.5</td><td>0.4</td></tr><tr><td>Calgary</td><td>1988</td><td>Canada</td><td>Winter</td><td>24.1</td><td>0.8</td></tr><tr><td>Albertville</td><td>1992</td><td>France</td><td>Winter</td><td>35.0</td><td>1.1</td></tr><tr><td>Lillehammer</td><td>1994</td><td>Norway</td><td>Winter</td><td>36.5</td><td>1.3</td></tr><tr><td>Nagano</td><td>1998</td><td>Japan</td><td>Winter</td><td>32.7</td><td>1.0</td></tr><tr><td>Salt Lake City</td><td>2002</td><td>United States</td><td>Winter</td><td>32.3</td><td>1.1</td></tr><tr><td>Torino</td><td>2006</td><td>Italy</td><td>Winter</td><td>52.0</td><td>1.7</td></tr><tr><td>Vancouver</td><td>2010</td><td>Canada</td><td>Winter</td><td>29.5</td><td>1.0</td></tr><tr><td>Sochi</td><td>2014</td><td>Russia</td><td>Winter</td><td>223.4</td><td>7.9</td></tr></tbody></table></div>"
      ]
     },
     "metadata": {
      "application/vnd.databricks.v1+output": {
       "addedWidgets": {},
       "aggData": [],
       "aggError": "",
       "aggOverflow": false,
       "aggSchema": [],
       "aggSeriesLimitReached": false,
       "aggType": "",
       "arguments": {},
       "columnCustomDisplayInfos": {},
       "data": [
        [
         "Tokyo",
         1964,
         "Japan",
         "Summer",
         1.7,
         0.1
        ],
        [
         "Munich",
         1972,
         "Germany",
         "Summer",
         5.2,
         0.1
        ],
        [
         "Montreal",
         1976,
         "Canada",
         "Summer",
         30.8,
         1.0
        ],
        [
         "Moscow",
         1980,
         "Soviet Union",
         "Summer",
         31.2,
         1.2
        ],
        [
         "Los Angeles",
         1984,
         "United States",
         "Summer",
         3.3,
         0.1
        ],
        [
         "Barcelona",
         1992,
         "Spain",
         "Summer",
         37.7,
         1.0
        ],
        [
         "Atlanta",
         1996,
         "United States",
         "Summer",
         15.3,
         0.4
        ],
        [
         "Sydney",
         2000,
         "Australia",
         "Summer",
         16.8,
         0.5
        ],
        [
         "Athens",
         2004,
         "Greece",
         "Summer",
         9.8,
         0.3
        ],
        [
         "Beijing",
         2008,
         "China",
         "Summer",
         22.5,
         0.6
        ],
        [
         "London",
         2012,
         "United Kingdom",
         "Summer",
         49.5,
         1.4
        ],
        [
         "Rio",
         2016,
         "Brazil",
         "Summer",
         14.9,
         0.4
        ],
        [
         "Innsbruck",
         1964,
         "Austria",
         "Winter",
         0.6,
         0.02
        ],
        [
         "Grenoble",
         1968,
         "France",
         "Winter",
         25.4,
         0.8
        ],
        [
         "Sapporo",
         1972,
         "Japan",
         "Winter",
         3.4,
         0.1
        ],
        [
         "Innsbruck",
         1976,
         "Austria",
         "Winter",
         3.2,
         0.1
        ],
        [
         "Lake Placid",
         1980,
         "United States",
         "Winter",
         11.5,
         0.4
        ],
        [
         "Calgary",
         1988,
         "Canada",
         "Winter",
         24.1,
         0.8
        ],
        [
         "Albertville",
         1992,
         "France",
         "Winter",
         35.0,
         1.1
        ],
        [
         "Lillehammer",
         1994,
         "Norway",
         "Winter",
         36.5,
         1.3
        ],
        [
         "Nagano",
         1998,
         "Japan",
         "Winter",
         32.7,
         1.0
        ],
        [
         "Salt Lake City",
         2002,
         "United States",
         "Winter",
         32.3,
         1.1
        ],
        [
         "Torino",
         2006,
         "Italy",
         "Winter",
         52.0,
         1.7
        ],
        [
         "Vancouver",
         2010,
         "Canada",
         "Winter",
         29.5,
         1.0
        ],
        [
         "Sochi",
         2014,
         "Russia",
         "Winter",
         223.4,
         7.9
        ]
       ],
       "datasetInfos": [],
       "dbfsResultPath": null,
       "isJsonSchema": true,
       "metadata": {},
       "overflow": false,
       "plotOptions": {
        "customPlotOptions": {},
        "displayType": "table",
        "pivotAggregation": null,
        "pivotColumns": null,
        "xColumns": null,
        "yColumns": null
       },
       "removedWidgets": [],
       "schema": [
        {
         "metadata": "{}",
         "name": "Games",
         "type": "\"string\""
        },
        {
         "metadata": "{}",
         "name": "Year",
         "type": "\"integer\""
        },
        {
         "metadata": "{}",
         "name": "Country",
         "type": "\"string\""
        },
        {
         "metadata": "{}",
         "name": "Type",
         "type": "\"string\""
        },
        {
         "metadata": "{}",
         "name": "Cost_per_event",
         "type": "\"double\""
        },
        {
         "metadata": "{}",
         "name": "Cost_per_athlete",
         "type": "\"double\""
        }
       ],
       "type": "table"
      }
     },
     "output_type": "display_data"
    }
   ],
   "source": [
    "# Reading data from CSV file\n",
    "df=spark.read.csv(path='abfss://hexacon2@hexaadls1049.dfs.core.windows.net/Olympics.csv',header=True,inferSchema=True)\n",
    "display(df)"
   ]
  },
  {
   "cell_type": "code",
   "execution_count": 0,
   "metadata": {
    "application/vnd.databricks.v1+cell": {
     "cellMetadata": {
      "byteLimit": 2048000,
      "rowLimit": 10000
     },
     "inputWidgets": {},
     "nuid": "0e268288-dd81-4d60-b9ea-827456e56c63",
     "showTitle": false,
     "title": ""
    }
   },
   "outputs": [
    {
     "output_type": "stream",
     "name": "stdout",
     "output_type": "stream",
     "text": [
      "+-----------+----+--------------+------+----------+------------+\n|      Games|Year|       Country|  Type|Event_Cost|Athlete_Cost|\n+-----------+----+--------------+------+----------+------------+\n|      Tokyo|1964|         Japan|Summer|       1.7|         0.1|\n|     Munich|1972|       Germany|Summer|       5.2|         0.1|\n|   Montreal|1976|        Canada|Summer|      30.8|         1.0|\n|     Moscow|1980|  Soviet Union|Summer|      31.2|         1.2|\n|Los Angeles|1984| United States|Summer|       3.3|         0.1|\n|  Barcelona|1992|         Spain|Summer|      37.7|         1.0|\n|    Atlanta|1996| United States|Summer|      15.3|         0.4|\n|     Sydney|2000|     Australia|Summer|      16.8|         0.5|\n|     Athens|2004|        Greece|Summer|       9.8|         0.3|\n|    Beijing|2008|         China|Summer|      22.5|         0.6|\n|     London|2012|United Kingdom|Summer|      49.5|         1.4|\n|        Rio|2016|        Brazil|Summer|      14.9|         0.4|\n|  Innsbruck|1964|       Austria|Winter|       0.6|        0.02|\n|   Grenoble|1968|        France|Winter|      25.4|         0.8|\n|    Sapporo|1972|         Japan|Winter|       3.4|         0.1|\n|  Innsbruck|1976|       Austria|Winter|       3.2|         0.1|\n|Lake Placid|1980| United States|Winter|      11.5|         0.4|\n|    Calgary|1988|        Canada|Winter|      24.1|         0.8|\n|Albertville|1992|        France|Winter|      35.0|         1.1|\n|Lillehammer|1994|        Norway|Winter|      36.5|         1.3|\n+-----------+----+--------------+------+----------+------------+\nonly showing top 20 rows\n\n"
     ]
    }
   ],
   "source": [
    "# Transformations\n",
    "\n",
    "# 1) Renaming columns\n",
    "\n",
    "df1 = df.withColumnRenamed(\"Cost_per_event\", \"Event_Cost\").withColumnRenamed(\"Cost_per_athlete\",\"Athlete_Cost\")\n",
    "df1.show()"
   ]
  },
  {
   "cell_type": "code",
   "execution_count": 0,
   "metadata": {
    "application/vnd.databricks.v1+cell": {
     "cellMetadata": {
      "byteLimit": 2048000,
      "rowLimit": 10000
     },
     "inputWidgets": {},
     "nuid": "8550de9f-55b5-41d3-8b3f-b81e75e5b459",
     "showTitle": false,
     "title": ""
    }
   },
   "outputs": [
    {
     "output_type": "display_data",
     "data": {
      "text/html": [
       "<style scoped>\n",
       "  .table-result-container {\n",
       "    max-height: 300px;\n",
       "    overflow: auto;\n",
       "  }\n",
       "  table, th, td {\n",
       "    border: 1px solid black;\n",
       "    border-collapse: collapse;\n",
       "  }\n",
       "  th, td {\n",
       "    padding: 5px;\n",
       "  }\n",
       "  th {\n",
       "    text-align: left;\n",
       "  }\n",
       "</style><div class='table-result-container'><table class='table-result'><thead style='background-color: white'><tr><th>Games</th><th>Country</th><th>Type</th><th>Cost_per_event</th><th>Cost_per_athlete</th></tr></thead><tbody><tr><td>Tokyo</td><td>Japan</td><td>Summer</td><td>1.7</td><td>0.1</td></tr><tr><td>Munich</td><td>Germany</td><td>Summer</td><td>5.2</td><td>0.1</td></tr><tr><td>Montreal</td><td>Canada</td><td>Summer</td><td>30.8</td><td>1.0</td></tr><tr><td>Moscow</td><td>Soviet Union</td><td>Summer</td><td>31.2</td><td>1.2</td></tr><tr><td>Los Angeles</td><td>United States</td><td>Summer</td><td>3.3</td><td>0.1</td></tr><tr><td>Barcelona</td><td>Spain</td><td>Summer</td><td>37.7</td><td>1.0</td></tr><tr><td>Atlanta</td><td>United States</td><td>Summer</td><td>15.3</td><td>0.4</td></tr><tr><td>Sydney</td><td>Australia</td><td>Summer</td><td>16.8</td><td>0.5</td></tr><tr><td>Athens</td><td>Greece</td><td>Summer</td><td>9.8</td><td>0.3</td></tr><tr><td>Beijing</td><td>China</td><td>Summer</td><td>22.5</td><td>0.6</td></tr><tr><td>London</td><td>United Kingdom</td><td>Summer</td><td>49.5</td><td>1.4</td></tr><tr><td>Rio</td><td>Brazil</td><td>Summer</td><td>14.9</td><td>0.4</td></tr><tr><td>Innsbruck</td><td>Austria</td><td>Winter</td><td>0.6</td><td>0.02</td></tr><tr><td>Grenoble</td><td>France</td><td>Winter</td><td>25.4</td><td>0.8</td></tr><tr><td>Sapporo</td><td>Japan</td><td>Winter</td><td>3.4</td><td>0.1</td></tr><tr><td>Innsbruck</td><td>Austria</td><td>Winter</td><td>3.2</td><td>0.1</td></tr><tr><td>Lake Placid</td><td>United States</td><td>Winter</td><td>11.5</td><td>0.4</td></tr><tr><td>Calgary</td><td>Canada</td><td>Winter</td><td>24.1</td><td>0.8</td></tr><tr><td>Albertville</td><td>France</td><td>Winter</td><td>35.0</td><td>1.1</td></tr><tr><td>Lillehammer</td><td>Norway</td><td>Winter</td><td>36.5</td><td>1.3</td></tr><tr><td>Nagano</td><td>Japan</td><td>Winter</td><td>32.7</td><td>1.0</td></tr><tr><td>Salt Lake City</td><td>United States</td><td>Winter</td><td>32.3</td><td>1.1</td></tr><tr><td>Torino</td><td>Italy</td><td>Winter</td><td>52.0</td><td>1.7</td></tr><tr><td>Vancouver</td><td>Canada</td><td>Winter</td><td>29.5</td><td>1.0</td></tr><tr><td>Sochi</td><td>Russia</td><td>Winter</td><td>223.4</td><td>7.9</td></tr></tbody></table></div>"
      ]
     },
     "metadata": {
      "application/vnd.databricks.v1+output": {
       "addedWidgets": {},
       "aggData": [],
       "aggError": "",
       "aggOverflow": false,
       "aggSchema": [],
       "aggSeriesLimitReached": false,
       "aggType": "",
       "arguments": {},
       "columnCustomDisplayInfos": {},
       "data": [
        [
         "Tokyo",
         "Japan",
         "Summer",
         1.7,
         0.1
        ],
        [
         "Munich",
         "Germany",
         "Summer",
         5.2,
         0.1
        ],
        [
         "Montreal",
         "Canada",
         "Summer",
         30.8,
         1.0
        ],
        [
         "Moscow",
         "Soviet Union",
         "Summer",
         31.2,
         1.2
        ],
        [
         "Los Angeles",
         "United States",
         "Summer",
         3.3,
         0.1
        ],
        [
         "Barcelona",
         "Spain",
         "Summer",
         37.7,
         1.0
        ],
        [
         "Atlanta",
         "United States",
         "Summer",
         15.3,
         0.4
        ],
        [
         "Sydney",
         "Australia",
         "Summer",
         16.8,
         0.5
        ],
        [
         "Athens",
         "Greece",
         "Summer",
         9.8,
         0.3
        ],
        [
         "Beijing",
         "China",
         "Summer",
         22.5,
         0.6
        ],
        [
         "London",
         "United Kingdom",
         "Summer",
         49.5,
         1.4
        ],
        [
         "Rio",
         "Brazil",
         "Summer",
         14.9,
         0.4
        ],
        [
         "Innsbruck",
         "Austria",
         "Winter",
         0.6,
         0.02
        ],
        [
         "Grenoble",
         "France",
         "Winter",
         25.4,
         0.8
        ],
        [
         "Sapporo",
         "Japan",
         "Winter",
         3.4,
         0.1
        ],
        [
         "Innsbruck",
         "Austria",
         "Winter",
         3.2,
         0.1
        ],
        [
         "Lake Placid",
         "United States",
         "Winter",
         11.5,
         0.4
        ],
        [
         "Calgary",
         "Canada",
         "Winter",
         24.1,
         0.8
        ],
        [
         "Albertville",
         "France",
         "Winter",
         35.0,
         1.1
        ],
        [
         "Lillehammer",
         "Norway",
         "Winter",
         36.5,
         1.3
        ],
        [
         "Nagano",
         "Japan",
         "Winter",
         32.7,
         1.0
        ],
        [
         "Salt Lake City",
         "United States",
         "Winter",
         32.3,
         1.1
        ],
        [
         "Torino",
         "Italy",
         "Winter",
         52.0,
         1.7
        ],
        [
         "Vancouver",
         "Canada",
         "Winter",
         29.5,
         1.0
        ],
        [
         "Sochi",
         "Russia",
         "Winter",
         223.4,
         7.9
        ]
       ],
       "datasetInfos": [],
       "dbfsResultPath": null,
       "isJsonSchema": true,
       "metadata": {},
       "overflow": false,
       "plotOptions": {
        "customPlotOptions": {},
        "displayType": "table",
        "pivotAggregation": null,
        "pivotColumns": null,
        "xColumns": null,
        "yColumns": null
       },
       "removedWidgets": [],
       "schema": [
        {
         "metadata": "{}",
         "name": "Games",
         "type": "\"string\""
        },
        {
         "metadata": "{}",
         "name": "Country",
         "type": "\"string\""
        },
        {
         "metadata": "{}",
         "name": "Type",
         "type": "\"string\""
        },
        {
         "metadata": "{}",
         "name": "Cost_per_event",
         "type": "\"double\""
        },
        {
         "metadata": "{}",
         "name": "Cost_per_athlete",
         "type": "\"double\""
        }
       ],
       "type": "table"
      }
     },
     "output_type": "display_data"
    }
   ],
   "source": [
    "# 2) Drop column\n",
    "df2=df.drop(\"Year\")\n",
    "display(df2)"
   ]
  },
  {
   "cell_type": "code",
   "execution_count": 0,
   "metadata": {
    "application/vnd.databricks.v1+cell": {
     "cellMetadata": {
      "byteLimit": 2048000,
      "rowLimit": 10000
     },
     "inputWidgets": {},
     "nuid": "5a15a219-317d-4ec5-b865-fead2059bc64",
     "showTitle": false,
     "title": ""
    }
   },
   "outputs": [
    {
     "output_type": "stream",
     "name": "stdout",
     "output_type": "stream",
     "text": [
      "+--------------+----+-------------+------+--------------+----------------+\n|         Games|Year|      Country|  Type|Cost_per_event|Cost_per_athlete|\n+--------------+----+-------------+------+--------------+----------------+\n|         Tokyo|1964|        Japan|Summer|           1.7|             0.1|\n|     Innsbruck|1964|      Austria|Winter|           0.6|            0.02|\n|      Grenoble|1968|       France|Winter|          25.4|             0.8|\n|        Munich|1972|      Germany|Summer|           5.2|             0.1|\n|       Sapporo|1972|        Japan|Winter|           3.4|             0.1|\n|      Montreal|1976|       Canada|Summer|          30.8|             1.0|\n|     Innsbruck|1976|      Austria|Winter|           3.2|             0.1|\n|        Moscow|1980| Soviet Union|Summer|          31.2|             1.2|\n|   Lake Placid|1980|United States|Winter|          11.5|             0.4|\n|   Los Angeles|1984|United States|Summer|           3.3|             0.1|\n|       Calgary|1988|       Canada|Winter|          24.1|             0.8|\n|     Barcelona|1992|        Spain|Summer|          37.7|             1.0|\n|   Albertville|1992|       France|Winter|          35.0|             1.1|\n|   Lillehammer|1994|       Norway|Winter|          36.5|             1.3|\n|       Atlanta|1996|United States|Summer|          15.3|             0.4|\n|        Nagano|1998|        Japan|Winter|          32.7|             1.0|\n|        Sydney|2000|    Australia|Summer|          16.8|             0.5|\n|Salt Lake City|2002|United States|Winter|          32.3|             1.1|\n|        Athens|2004|       Greece|Summer|           9.8|             0.3|\n|        Torino|2006|        Italy|Winter|          52.0|             1.7|\n+--------------+----+-------------+------+--------------+----------------+\nonly showing top 20 rows\n\n"
     ]
    }
   ],
   "source": [
    "# 3) Sorting\n",
    "# i) Sorting in Ascending Order\n",
    "df=df.sort(\"Year\")\n",
    "df.show()"
   ]
  },
  {
   "cell_type": "code",
   "execution_count": 0,
   "metadata": {
    "application/vnd.databricks.v1+cell": {
     "cellMetadata": {
      "byteLimit": 2048000,
      "rowLimit": 10000
     },
     "inputWidgets": {},
     "nuid": "50cc990b-d3f2-499d-91ce-08e7790c83d1",
     "showTitle": false,
     "title": ""
    }
   },
   "outputs": [
    {
     "output_type": "stream",
     "name": "stdout",
     "output_type": "stream",
     "text": [
      "+--------------+----+--------------+------+--------------+----------------+\n|         Games|Year|       Country|  Type|Cost_per_event|Cost_per_athlete|\n+--------------+----+--------------+------+--------------+----------------+\n|           Rio|2016|        Brazil|Summer|          14.9|             0.4|\n|         Sochi|2014|        Russia|Winter|         223.4|             7.9|\n|        London|2012|United Kingdom|Summer|          49.5|             1.4|\n|     Vancouver|2010|        Canada|Winter|          29.5|             1.0|\n|       Beijing|2008|         China|Summer|          22.5|             0.6|\n|        Torino|2006|         Italy|Winter|          52.0|             1.7|\n|        Athens|2004|        Greece|Summer|           9.8|             0.3|\n|Salt Lake City|2002| United States|Winter|          32.3|             1.1|\n|        Sydney|2000|     Australia|Summer|          16.8|             0.5|\n|        Nagano|1998|         Japan|Winter|          32.7|             1.0|\n|       Atlanta|1996| United States|Summer|          15.3|             0.4|\n|   Lillehammer|1994|        Norway|Winter|          36.5|             1.3|\n|     Barcelona|1992|         Spain|Summer|          37.7|             1.0|\n|   Albertville|1992|        France|Winter|          35.0|             1.1|\n|       Calgary|1988|        Canada|Winter|          24.1|             0.8|\n|   Los Angeles|1984| United States|Summer|           3.3|             0.1|\n|        Moscow|1980|  Soviet Union|Summer|          31.2|             1.2|\n|   Lake Placid|1980| United States|Winter|          11.5|             0.4|\n|      Montreal|1976|        Canada|Summer|          30.8|             1.0|\n|     Innsbruck|1976|       Austria|Winter|           3.2|             0.1|\n+--------------+----+--------------+------+--------------+----------------+\nonly showing top 20 rows\n\n"
     ]
    }
   ],
   "source": [
    "# ii) Sorting in Descending Order\n",
    "df=df.sort(\"Year\",ascending=False)\n",
    "df.show()"
   ]
  },
  {
   "cell_type": "code",
   "execution_count": 0,
   "metadata": {
    "application/vnd.databricks.v1+cell": {
     "cellMetadata": {
      "byteLimit": 2048000,
      "rowLimit": 10000
     },
     "inputWidgets": {},
     "nuid": "2c6b962c-16dc-4563-ae4e-666f4935a964",
     "showTitle": false,
     "title": ""
    }
   },
   "outputs": [
    {
     "output_type": "stream",
     "name": "stdout",
     "output_type": "stream",
     "text": [
      "+--------------+----+--------------+------+--------------+----------------+\n|         Games|Year|       Country|  Type|Cost_per_event|Cost_per_athlete|\n+--------------+----+--------------+------+--------------+----------------+\n|         Sochi|2014|        Russia|Winter|         223.4|             7.9|\n|        London|2012|United Kingdom|Summer|          49.5|             1.4|\n|     Vancouver|2010|        Canada|Winter|          29.5|             1.0|\n|       Beijing|2008|         China|Summer|          22.5|             0.6|\n|        Torino|2006|         Italy|Winter|          52.0|             1.7|\n|Salt Lake City|2002| United States|Winter|          32.3|             1.1|\n|        Sydney|2000|     Australia|Summer|          16.8|             0.5|\n|        Nagano|1998|         Japan|Winter|          32.7|             1.0|\n|       Atlanta|1996| United States|Summer|          15.3|             0.4|\n|   Lillehammer|1994|        Norway|Winter|          36.5|             1.3|\n|     Barcelona|1992|         Spain|Summer|          37.7|             1.0|\n|   Albertville|1992|        France|Winter|          35.0|             1.1|\n|       Calgary|1988|        Canada|Winter|          24.1|             0.8|\n|        Moscow|1980|  Soviet Union|Summer|          31.2|             1.2|\n|      Montreal|1976|        Canada|Summer|          30.8|             1.0|\n|      Grenoble|1968|        France|Winter|          25.4|             0.8|\n+--------------+----+--------------+------+--------------+----------------+\n\n"
     ]
    }
   ],
   "source": [
    "# 4) Filter\n",
    "df2=df.filter(\"Cost_per_event>15.0\")\n",
    "df2.show()"
   ]
  },
  {
   "cell_type": "code",
   "execution_count": 0,
   "metadata": {
    "application/vnd.databricks.v1+cell": {
     "cellMetadata": {
      "byteLimit": 2048000,
      "rowLimit": 10000
     },
     "inputWidgets": {},
     "nuid": "9ea0f005-6ae9-40f5-9fd0-d9ff53c9c31b",
     "showTitle": false,
     "title": ""
    }
   },
   "outputs": [
    {
     "output_type": "stream",
     "name": "stdout",
     "output_type": "stream",
     "text": [
      "+------+\n|  Type|\n+------+\n|Summer|\n|Winter|\n+------+\n\n"
     ]
    }
   ],
   "source": [
    "# 5) Distinct\n",
    "df3=df.select(\"Type\").distinct()\n",
    "df3.show()"
   ]
  },
  {
   "cell_type": "code",
   "execution_count": 0,
   "metadata": {
    "application/vnd.databricks.v1+cell": {
     "cellMetadata": {
      "byteLimit": 2048000,
      "rowLimit": 10000
     },
     "inputWidgets": {},
     "nuid": "aa9609fc-52ad-48af-b305-cb096e4dec9e",
     "showTitle": false,
     "title": ""
    }
   },
   "outputs": [
    {
     "output_type": "stream",
     "name": "stdout",
     "output_type": "stream",
     "text": [
      "+------+-------------------+\n|  Type|sum(Cost_per_Event)|\n+------+-------------------+\n|Summer|              238.7|\n|Winter| 509.59999999999997|\n+------+-------------------+\n\n"
     ]
    }
   ],
   "source": [
    "# 6) Group by and Aggregations\n",
    "# sum()\n",
    "df4=df.groupBy(\"Type\").sum(\"Cost_per_Event\")\n",
    "df4.show()"
   ]
  },
  {
   "cell_type": "code",
   "execution_count": 0,
   "metadata": {
    "application/vnd.databricks.v1+cell": {
     "cellMetadata": {
      "byteLimit": 2048000,
      "rowLimit": 10000
     },
     "inputWidgets": {},
     "nuid": "8ff80a2a-0d71-4b17-899a-7abf89337598",
     "showTitle": false,
     "title": ""
    }
   },
   "outputs": [
    {
     "output_type": "stream",
     "name": "stdout",
     "output_type": "stream",
     "text": [
      "+------+-------------------+\n|  Type|min(Cost_per_Event)|\n+------+-------------------+\n|Summer|                1.7|\n|Winter|                0.6|\n+------+-------------------+\n\n"
     ]
    }
   ],
   "source": [
    "# min()\n",
    "df4=df.groupBy(\"Type\").min(\"Cost_per_Event\")\n",
    "df4.show()"
   ]
  },
  {
   "cell_type": "code",
   "execution_count": 0,
   "metadata": {
    "application/vnd.databricks.v1+cell": {
     "cellMetadata": {
      "byteLimit": 2048000,
      "rowLimit": 10000
     },
     "inputWidgets": {},
     "nuid": "b79a5ad6-c215-4887-a0d3-b1003f48f34d",
     "showTitle": false,
     "title": ""
    }
   },
   "outputs": [
    {
     "output_type": "stream",
     "name": "stdout",
     "output_type": "stream",
     "text": [
      "+------+-------------------+\n|  Type|max(Cost_per_Event)|\n+------+-------------------+\n|Summer|               49.5|\n|Winter|              223.4|\n+------+-------------------+\n\n"
     ]
    }
   ],
   "source": [
    "# max()\n",
    "df4=df.groupBy(\"Type\").max(\"Cost_per_Event\")\n",
    "df4.show()"
   ]
  },
  {
   "cell_type": "code",
   "execution_count": 0,
   "metadata": {
    "application/vnd.databricks.v1+cell": {
     "cellMetadata": {
      "byteLimit": 2048000,
      "rowLimit": 10000
     },
     "inputWidgets": {},
     "nuid": "2cbf68b3-83f5-4ee2-a5e7-e34db2029539",
     "showTitle": false,
     "title": ""
    }
   },
   "outputs": [
    {
     "output_type": "stream",
     "name": "stdout",
     "output_type": "stream",
     "text": [
      "+------+-------------------+\n|  Type|avg(Cost_per_Event)|\n+------+-------------------+\n|Summer| 19.891666666666666|\n|Winter| 39.199999999999996|\n+------+-------------------+\n\n"
     ]
    }
   ],
   "source": [
    "# mean()\n",
    "df4=df.groupBy(\"Type\").mean(\"Cost_per_Event\")\n",
    "df4.show()"
   ]
  },
  {
   "cell_type": "code",
   "execution_count": 0,
   "metadata": {
    "application/vnd.databricks.v1+cell": {
     "cellMetadata": {
      "byteLimit": 2048000,
      "rowLimit": 10000
     },
     "inputWidgets": {},
     "nuid": "8fb1757a-897b-4995-add5-94bd474500d5",
     "showTitle": false,
     "title": ""
    }
   },
   "outputs": [
    {
     "output_type": "stream",
     "name": "stdout",
     "output_type": "stream",
     "text": [
      "+------+-------------------+\n|  Type|avg(Cost_per_Event)|\n+------+-------------------+\n|Summer| 19.891666666666666|\n|Winter| 39.199999999999996|\n+------+-------------------+\n\n"
     ]
    }
   ],
   "source": [
    "# avg()\n",
    "df4=df.groupBy(\"Type\").avg(\"Cost_per_Event\")\n",
    "df4.show()"
   ]
  },
  {
   "cell_type": "code",
   "execution_count": 0,
   "metadata": {
    "application/vnd.databricks.v1+cell": {
     "cellMetadata": {
      "byteLimit": 2048000,
      "rowLimit": 10000
     },
     "inputWidgets": {},
     "nuid": "38b3b3e9-bb03-4eea-80ae-f72e5e24c074",
     "showTitle": false,
     "title": ""
    }
   },
   "outputs": [
    {
     "output_type": "stream",
     "name": "stdout",
     "output_type": "stream",
     "text": [
      "+------+-----+\n|  Type|count|\n+------+-----+\n|Summer|   12|\n|Winter|   13|\n+------+-----+\n\n"
     ]
    }
   ],
   "source": [
    "# count()\n",
    "df4=df.groupBy(\"Type\").count()\n",
    "df4.show()"
   ]
  },
  {
   "cell_type": "code",
   "execution_count": 0,
   "metadata": {
    "application/vnd.databricks.v1+cell": {
     "cellMetadata": {
      "byteLimit": 2048000,
      "rowLimit": 10000
     },
     "inputWidgets": {},
     "nuid": "598fb734-dc37-4477-813b-c2f148288f0d",
     "showTitle": false,
     "title": ""
    }
   },
   "outputs": [
    {
     "output_type": "stream",
     "name": "stdout",
     "output_type": "stream",
     "text": [
      "+------+------------------+----------------+\n|  Type|  Total_Event_Cost|Min_Athlete_Cost|\n+------+------------------+----------------+\n|Summer|             238.7|             0.1|\n|Winter|509.59999999999997|            0.02|\n+------+------------------+----------------+\n\n"
     ]
    }
   ],
   "source": [
    "# agg()\n",
    "from pyspark.sql.functions import sum,min\n",
    "df4=df.groupBy(\"Type\").agg(sum(df[\"Cost_per_Event\"]).alias(\"Total_Event_Cost\"), min(df[\"Cost_per_Athlete\"]).alias(\"Min_Athlete_Cost\"))\n",
    "df4.show()"
   ]
  }
 ],
 "metadata": {
  "application/vnd.databricks.v1+notebook": {
   "dashboards": [],
   "language": "python",
   "notebookMetadata": {
    "pythonIndentUnit": 4
   },
   "notebookName": "hexaproject1",
   "widgets": {}
  }
 },
 "nbformat": 4,
 "nbformat_minor": 0
}
