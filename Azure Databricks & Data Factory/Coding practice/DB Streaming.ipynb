{
 "cells": [
  {
   "cell_type": "code",
   "execution_count": 0,
   "metadata": {
    "application/vnd.databricks.v1+cell": {
     "cellMetadata": {
      "byteLimit": 2048000,
      "rowLimit": 10000
     },
     "inputWidgets": {},
     "nuid": "3e9cc3d8-2e0f-4411-9c98-5ca8b23edb06",
     "showTitle": false,
     "title": ""
    }
   },
   "outputs": [],
   "source": [
    "from pyspark.sql.types import StringType,StructType,IntegerType,StructField\n",
    "\n",
    "schema_defined=StructType([StructField('File',StringType(),True),\n",
    "                           StructField('Shop',StringType(),True),\n",
    "                           StructField('Sale_count',IntegerType(),True)])"
   ]
  },
  {
   "cell_type": "code",
   "execution_count": 0,
   "metadata": {
    "application/vnd.databricks.v1+cell": {
     "cellMetadata": {
      "byteLimit": 2048000,
      "rowLimit": 10000
     },
     "inputWidgets": {},
     "nuid": "4a318ac9-64d1-40ed-ac9a-c535f7cdc375",
     "showTitle": false,
     "title": ""
    }
   },
   "outputs": [
    {
     "output_type": "display_data",
     "data": {
      "text/html": [
       "<style scoped>\n",
       "  .table-result-container {\n",
       "    max-height: 300px;\n",
       "    overflow: auto;\n",
       "  }\n",
       "  table, th, td {\n",
       "    border: 1px solid black;\n",
       "    border-collapse: collapse;\n",
       "  }\n",
       "  th, td {\n",
       "    padding: 5px;\n",
       "  }\n",
       "  th {\n",
       "    text-align: left;\n",
       "  }\n",
       "</style><div class='table-result-container'><table class='table-result'><thead style='background-color: white'><tr><th>Shop</th><th>sum(Sale_count)</th></tr></thead><tbody><tr><td>Snapdeal</td><td>34</td></tr><tr><td>Myntra</td><td>80</td></tr><tr><td>Ajio</td><td>112</td></tr><tr><td>Flipkart</td><td>90</td></tr><tr><td>Amazon</td><td>67</td></tr></tbody></table></div>"
      ]
     },
     "metadata": {
      "application/vnd.databricks.v1+output": {
       "addedWidgets": {},
       "aggData": [],
       "aggError": "",
       "aggOverflow": false,
       "aggSchema": [],
       "aggSeriesLimitReached": false,
       "aggType": "",
       "arguments": {},
       "columnCustomDisplayInfos": {},
       "data": [
        [
         "Snapdeal",
         34
        ],
        [
         "Myntra",
         80
        ],
        [
         "Ajio",
         112
        ],
        [
         "Flipkart",
         90
        ],
        [
         "Amazon",
         67
        ]
       ],
       "datasetInfos": [],
       "dbfsResultPath": null,
       "isJsonSchema": true,
       "metadata": {
        "isDbfsCommandResult": false
       },
       "overflow": false,
       "plotOptions": {
        "customPlotOptions": {},
        "displayType": "table",
        "pivotAggregation": null,
        "pivotColumns": null,
        "xColumns": null,
        "yColumns": null
       },
       "removedWidgets": [],
       "schema": [
        {
         "metadata": "{}",
         "name": "Shop",
         "type": "\"string\""
        },
        {
         "metadata": "{}",
         "name": "sum(Sale_count)",
         "type": "\"long\""
        }
       ],
       "type": "table"
      }
     },
     "output_type": "display_data"
    }
   ],
   "source": [
    "#Read streaming data\n",
    "\n",
    "df=spark.readStream.format(\"csv\").schema(schema_defined).option(\"header\",True).option(\"sep\",\",\").load(\"/FileStore/tables/stream_read/\")\n",
    "\n",
    "df1=df.groupBy(\"Shop\").sum(\"Sale_count\")\n",
    "display(df1)"
   ]
  },
  {
   "cell_type": "code",
   "execution_count": 0,
   "metadata": {
    "application/vnd.databricks.v1+cell": {
     "cellMetadata": {
      "byteLimit": 2048000,
      "rowLimit": 10000
     },
     "inputWidgets": {},
     "nuid": "fcd7e9bc-151b-4bc7-bd06-111450fae285",
     "showTitle": false,
     "title": ""
    }
   },
   "outputs": [
    {
     "output_type": "display_data",
     "data": {
      "text/html": [
       "<style scoped>\n",
       "  .table-result-container {\n",
       "    max-height: 300px;\n",
       "    overflow: auto;\n",
       "  }\n",
       "  table, th, td {\n",
       "    border: 1px solid black;\n",
       "    border-collapse: collapse;\n",
       "  }\n",
       "  th, td {\n",
       "    padding: 5px;\n",
       "  }\n",
       "  th {\n",
       "    text-align: left;\n",
       "  }\n",
       "</style><div class='table-result-container'><table class='table-result'><thead style='background-color: white'><tr><th>Shop</th><th>sum(Sale_count)</th></tr></thead><tbody><tr><td>Snapdeal</td><td>102</td></tr><tr><td>Myntra</td><td>240</td></tr><tr><td>Ajio</td><td>336</td></tr><tr><td>Flipkart</td><td>270</td></tr><tr><td>Amazon</td><td>201</td></tr></tbody></table></div>"
      ]
     },
     "metadata": {
      "application/vnd.databricks.v1+output": {
       "addedWidgets": {},
       "aggData": [],
       "aggError": "",
       "aggOverflow": false,
       "aggSchema": [],
       "aggSeriesLimitReached": false,
       "aggType": "",
       "arguments": {},
       "columnCustomDisplayInfos": {},
       "data": [
        [
         "Snapdeal",
         102
        ],
        [
         "Myntra",
         240
        ],
        [
         "Ajio",
         336
        ],
        [
         "Flipkart",
         270
        ],
        [
         "Amazon",
         201
        ]
       ],
       "datasetInfos": [],
       "dbfsResultPath": null,
       "isJsonSchema": true,
       "metadata": {
        "isDbfsCommandResult": false
       },
       "overflow": false,
       "plotOptions": {
        "customPlotOptions": {},
        "displayType": "table",
        "pivotAggregation": null,
        "pivotColumns": null,
        "xColumns": null,
        "yColumns": null
       },
       "removedWidgets": [],
       "schema": [
        {
         "metadata": "{}",
         "name": "Shop",
         "type": "\"string\""
        },
        {
         "metadata": "{}",
         "name": "sum(Sale_count)",
         "type": "\"long\""
        }
       ],
       "type": "table"
      }
     },
     "output_type": "display_data"
    }
   ],
   "source": [
    "# Adding second file and third file to same stream_read\n",
    "\n",
    "#Read streaming data\n",
    "\n",
    "df=spark.readStream.format(\"csv\").schema(schema_defined).option(\"header\",True).option(\"sep\",\",\").load(\"/FileStore/tables/stream_read/\")\n",
    "\n",
    "df1=df.groupBy(\"Shop\").sum(\"Sale_count\")\n",
    "display(df1)"
   ]
  },
  {
   "cell_type": "code",
   "execution_count": 0,
   "metadata": {
    "application/vnd.databricks.v1+cell": {
     "cellMetadata": {},
     "inputWidgets": {},
     "nuid": "e7557fea-0d46-4c40-827e-ed06aefa4d39",
     "showTitle": false,
     "title": ""
    }
   },
   "outputs": [],
   "source": []
  }
 ],
 "metadata": {
  "application/vnd.databricks.v1+notebook": {
   "dashboards": [],
   "language": "python",
   "notebookMetadata": {
    "pythonIndentUnit": 4
   },
   "notebookName": "Streaming",
   "widgets": {}
  }
 },
 "nbformat": 4,
 "nbformat_minor": 0
}
